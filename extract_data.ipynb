{
 "cells": [
  {
   "cell_type": "code",
   "execution_count": 27,
   "id": "c869ff09",
   "metadata": {},
   "outputs": [],
   "source": [
    "from dotenv import load_dotenv\n",
    "import os\n",
    "from glob import glob\n",
    "import mne\n",
    "import numpy as np\n",
    "import torch\n",
    "import gc \n",
    "\n",
    "load_dotenv()\n",
    "root_dir = os.getenv(\"ROOT_DIR\")\n",
    "device = torch.device(\"cuda\" if torch.cuda.is_available() else \"cpu\")"
   ]
  },
  {
   "cell_type": "code",
   "execution_count": 5,
   "id": "314f1612",
   "metadata": {},
   "outputs": [],
   "source": [
    "data_l_epochs = sorted(glob(os.path.join(root_dir, \"**\", 'sub-*_ses-*_eeg-epo.fif'), recursive=True))"
   ]
  },
  {
   "cell_type": "code",
   "execution_count": 6,
   "id": "304627eb",
   "metadata": {},
   "outputs": [],
   "source": [
    "data_l_epochs = [data for data in data_l_epochs if \"ses-03\" not in data]"
   ]
  },
  {
   "cell_type": "code",
   "execution_count": 7,
   "id": "a48cc062",
   "metadata": {},
   "outputs": [
    {
     "name": "stdout",
     "output_type": "stream",
     "text": [
      "Reading /media/linux-pc/8TB1/inner-speech/ds003626-download/derivatives/sub-01/ses-01/sub-01_ses-01_eeg-epo.fif ...\n",
      "Isotrak not found\n",
      "    Found the data of interest:\n",
      "        t =    -500.00 ...    4000.00 ms\n",
      "        0 CTF compensation matrices available\n",
      "Not setting metadata\n",
      "200 matching events found\n",
      "No baseline correction applied\n",
      "0 projection items activated\n",
      "Reading /media/linux-pc/8TB1/inner-speech/ds003626-download/derivatives/sub-01/ses-02/sub-01_ses-02_eeg-epo.fif ...\n",
      "Isotrak not found\n",
      "    Found the data of interest:\n",
      "        t =    -500.00 ...    4000.00 ms\n",
      "        0 CTF compensation matrices available\n",
      "Not setting metadata\n",
      "200 matching events found\n",
      "No baseline correction applied\n",
      "0 projection items activated\n",
      "Reading /media/linux-pc/8TB1/inner-speech/ds003626-download/derivatives/sub-02/ses-01/sub-02_ses-01_eeg-epo.fif ...\n",
      "Isotrak not found\n",
      "    Found the data of interest:\n",
      "        t =    -500.00 ...    4000.00 ms\n",
      "        0 CTF compensation matrices available\n",
      "Not setting metadata\n",
      "200 matching events found\n",
      "No baseline correction applied\n",
      "0 projection items activated\n",
      "Reading /media/linux-pc/8TB1/inner-speech/ds003626-download/derivatives/sub-02/ses-02/sub-02_ses-02_eeg-epo.fif ...\n",
      "Isotrak not found\n",
      "    Found the data of interest:\n",
      "        t =    -500.00 ...    4000.00 ms\n",
      "        0 CTF compensation matrices available\n",
      "Not setting metadata\n",
      "200 matching events found\n",
      "No baseline correction applied\n",
      "0 projection items activated\n",
      "Reading /media/linux-pc/8TB1/inner-speech/ds003626-download/derivatives/sub-03/ses-01/sub-03_ses-01_eeg-epo.fif ...\n",
      "Isotrak not found\n",
      "    Found the data of interest:\n",
      "        t =    -500.00 ...    4000.00 ms\n",
      "        0 CTF compensation matrices available\n",
      "Not setting metadata\n",
      "200 matching events found\n",
      "No baseline correction applied\n",
      "0 projection items activated\n",
      "Reading /media/linux-pc/8TB1/inner-speech/ds003626-download/derivatives/sub-03/ses-02/sub-03_ses-02_eeg-epo.fif ...\n",
      "Isotrak not found\n",
      "    Found the data of interest:\n",
      "        t =    -500.00 ...    4000.00 ms\n",
      "        0 CTF compensation matrices available\n",
      "Not setting metadata\n",
      "200 matching events found\n",
      "No baseline correction applied\n",
      "0 projection items activated\n",
      "Reading /media/linux-pc/8TB1/inner-speech/ds003626-download/derivatives/sub-04/ses-01/sub-04_ses-01_eeg-epo.fif ...\n",
      "Isotrak not found\n",
      "    Found the data of interest:\n",
      "        t =    -500.00 ...    4000.00 ms\n",
      "        0 CTF compensation matrices available\n",
      "Not setting metadata\n",
      "200 matching events found\n",
      "No baseline correction applied\n",
      "0 projection items activated\n",
      "Reading /media/linux-pc/8TB1/inner-speech/ds003626-download/derivatives/sub-04/ses-02/sub-04_ses-02_eeg-epo.fif ...\n",
      "Isotrak not found\n",
      "    Found the data of interest:\n",
      "        t =    -500.00 ...    4000.00 ms\n",
      "        0 CTF compensation matrices available\n",
      "Not setting metadata\n",
      "200 matching events found\n",
      "No baseline correction applied\n",
      "0 projection items activated\n",
      "Reading /media/linux-pc/8TB1/inner-speech/ds003626-download/derivatives/sub-05/ses-01/sub-05_ses-01_eeg-epo.fif ...\n",
      "Isotrak not found\n",
      "    Found the data of interest:\n",
      "        t =    -500.00 ...    4000.00 ms\n",
      "        0 CTF compensation matrices available\n",
      "Not setting metadata\n",
      "200 matching events found\n",
      "No baseline correction applied\n",
      "0 projection items activated\n",
      "Reading /media/linux-pc/8TB1/inner-speech/ds003626-download/derivatives/sub-05/ses-02/sub-05_ses-02_eeg-epo.fif ...\n",
      "Isotrak not found\n",
      "    Found the data of interest:\n",
      "        t =    -500.00 ...    4000.00 ms\n",
      "        0 CTF compensation matrices available\n",
      "Not setting metadata\n",
      "200 matching events found\n",
      "No baseline correction applied\n",
      "0 projection items activated\n",
      "Reading /media/linux-pc/8TB1/inner-speech/ds003626-download/derivatives/sub-06/ses-01/sub-06_ses-01_eeg-epo.fif ...\n",
      "Isotrak not found\n",
      "    Found the data of interest:\n",
      "        t =    -500.00 ...    4000.00 ms\n",
      "        0 CTF compensation matrices available\n",
      "Not setting metadata\n",
      "200 matching events found\n",
      "No baseline correction applied\n",
      "0 projection items activated\n",
      "Reading /media/linux-pc/8TB1/inner-speech/ds003626-download/derivatives/sub-06/ses-02/sub-06_ses-02_eeg-epo.fif ...\n",
      "Isotrak not found\n",
      "    Found the data of interest:\n",
      "        t =    -500.00 ...    4000.00 ms\n",
      "        0 CTF compensation matrices available\n",
      "Not setting metadata\n",
      "200 matching events found\n",
      "No baseline correction applied\n",
      "0 projection items activated\n",
      "Reading /media/linux-pc/8TB1/inner-speech/ds003626-download/derivatives/sub-07/ses-01/sub-07_ses-01_eeg-epo.fif ...\n",
      "Isotrak not found\n",
      "    Found the data of interest:\n",
      "        t =    -500.00 ...    4000.00 ms\n",
      "        0 CTF compensation matrices available\n",
      "Not setting metadata\n",
      "200 matching events found\n",
      "No baseline correction applied\n",
      "0 projection items activated\n",
      "Reading /media/linux-pc/8TB1/inner-speech/ds003626-download/derivatives/sub-07/ses-02/sub-07_ses-02_eeg-epo.fif ...\n",
      "Isotrak not found\n",
      "    Found the data of interest:\n",
      "        t =    -500.00 ...    4000.00 ms\n",
      "        0 CTF compensation matrices available\n",
      "Not setting metadata\n",
      "200 matching events found\n",
      "No baseline correction applied\n",
      "0 projection items activated\n",
      "Reading /media/linux-pc/8TB1/inner-speech/ds003626-download/derivatives/sub-08/ses-01/sub-08_ses-01_eeg-epo.fif ...\n",
      "Isotrak not found\n",
      "    Found the data of interest:\n",
      "        t =    -500.00 ...    4000.00 ms\n",
      "        0 CTF compensation matrices available\n",
      "Not setting metadata\n",
      "200 matching events found\n",
      "No baseline correction applied\n",
      "0 projection items activated\n",
      "Reading /media/linux-pc/8TB1/inner-speech/ds003626-download/derivatives/sub-08/ses-02/sub-08_ses-02_eeg-epo.fif ...\n",
      "Isotrak not found\n",
      "    Found the data of interest:\n",
      "        t =    -500.00 ...    4000.00 ms\n",
      "        0 CTF compensation matrices available\n",
      "Not setting metadata\n",
      "200 matching events found\n",
      "No baseline correction applied\n",
      "0 projection items activated\n",
      "Reading /media/linux-pc/8TB1/inner-speech/ds003626-download/derivatives/sub-09/ses-01/sub-09_ses-01_eeg-epo.fif ...\n",
      "Isotrak not found\n",
      "    Found the data of interest:\n",
      "        t =    -500.00 ...    4000.00 ms\n",
      "        0 CTF compensation matrices available\n",
      "Not setting metadata\n",
      "200 matching events found\n",
      "No baseline correction applied\n",
      "0 projection items activated\n",
      "Reading /media/linux-pc/8TB1/inner-speech/ds003626-download/derivatives/sub-09/ses-02/sub-09_ses-02_eeg-epo.fif ...\n",
      "Isotrak not found\n",
      "    Found the data of interest:\n",
      "        t =    -500.00 ...    4000.00 ms\n",
      "        0 CTF compensation matrices available\n",
      "Not setting metadata\n",
      "200 matching events found\n",
      "No baseline correction applied\n",
      "0 projection items activated\n",
      "Reading /media/linux-pc/8TB1/inner-speech/ds003626-download/derivatives/sub-10/ses-01/sub-10_ses-01_eeg-epo.fif ...\n",
      "Isotrak not found\n",
      "    Found the data of interest:\n",
      "        t =    -500.00 ...    4000.00 ms\n",
      "        0 CTF compensation matrices available\n",
      "Not setting metadata\n",
      "200 matching events found\n",
      "No baseline correction applied\n",
      "0 projection items activated\n",
      "Reading /media/linux-pc/8TB1/inner-speech/ds003626-download/derivatives/sub-10/ses-02/sub-10_ses-02_eeg-epo.fif ...\n",
      "Isotrak not found\n",
      "    Found the data of interest:\n",
      "        t =    -500.00 ...    4000.00 ms\n",
      "        0 CTF compensation matrices available\n",
      "Not setting metadata\n",
      "200 matching events found\n",
      "No baseline correction applied\n",
      "0 projection items activated\n"
     ]
    }
   ],
   "source": [
    "X_all = []\n",
    "y_all = []\n",
    "for data in data_l_epochs:\n",
    "    epochs = mne.read_epochs(data, preload=True)\n",
    "    X = epochs.get_data()\n",
    "    event_map = {v: k for k, v in epochs.event_id.items()}\n",
    "    y = [event_map[event[-1]] for event in epochs.events]\n",
    "    X = torch.tensor(X, device=device)\n",
    "\n",
    "    X_all.append(X)\n",
    "    y_all.append(y)"
   ]
  },
  {
   "cell_type": "code",
   "execution_count": null,
   "id": "8b93fcea",
   "metadata": {},
   "outputs": [],
   "source": [
    "# Saving Labels\n",
    "\n",
    "# y_all = np.array(y_all)\n",
    "# unique_labels = sorted(set(y_all.flatten()))\n",
    "# label_mapping = {label: index for index, label in enumerate(unique_labels)}\n",
    "# int_labels = np.vectorize(label_mapping.get)(y_all)\n",
    "# tensor_labels = torch.tensor(int_labels, dtype=torch.long, device=device)\n",
    "# torch.save(tensor_labels,\"data/labels.pth\")"
   ]
  },
  {
   "cell_type": "code",
   "execution_count": 8,
   "id": "d006d150",
   "metadata": {},
   "outputs": [],
   "source": [
    "# Loading the Labels\n",
    "tensor_labels = torch.load(\"data/labels.pth\")"
   ]
  },
  {
   "cell_type": "code",
   "execution_count": 13,
   "id": "8c717342",
   "metadata": {},
   "outputs": [],
   "source": [
    "X_train = X_all[0:15]"
   ]
  },
  {
   "cell_type": "code",
   "execution_count": 14,
   "id": "d959d206",
   "metadata": {},
   "outputs": [],
   "source": [
    "X_test = X_all[15:]"
   ]
  },
  {
   "cell_type": "code",
   "execution_count": 15,
   "id": "609bb902",
   "metadata": {},
   "outputs": [],
   "source": [
    "X_test = torch.concat(X_test, dim=0)"
   ]
  },
  {
   "cell_type": "code",
   "execution_count": null,
   "id": "9a009d2e",
   "metadata": {},
   "outputs": [
    {
     "data": {
      "text/plain": [
       "torch.Size([1000, 128, 1153])"
      ]
     },
     "execution_count": 17,
     "metadata": {},
     "output_type": "execute_result"
    }
   ],
   "source": [
    "# 15: 20\n",
    "X_test.shape"
   ]
  },
  {
   "cell_type": "code",
   "execution_count": 21,
   "id": "4808cbc4",
   "metadata": {},
   "outputs": [],
   "source": [
    "y_test = tensor_labels[15:]"
   ]
  },
  {
   "cell_type": "code",
   "execution_count": 23,
   "id": "60f1ae08",
   "metadata": {},
   "outputs": [],
   "source": [
    "torch.save(y_test, \"data/y_test.pth\")\n",
    "torch.save(X_test, \"data/X_test.pth\")"
   ]
  },
  {
   "cell_type": "code",
   "execution_count": 25,
   "id": "72dc32f0",
   "metadata": {},
   "outputs": [],
   "source": [
    "del y_test"
   ]
  },
  {
   "cell_type": "code",
   "execution_count": 26,
   "id": "420f0ef3",
   "metadata": {},
   "outputs": [],
   "source": [
    "del X_test"
   ]
  },
  {
   "cell_type": "code",
   "execution_count": 28,
   "id": "1004b3d4",
   "metadata": {},
   "outputs": [
    {
     "data": {
      "text/plain": [
       "545"
      ]
     },
     "execution_count": 28,
     "metadata": {},
     "output_type": "execute_result"
    }
   ],
   "source": [
    "gc.collect()"
   ]
  },
  {
   "cell_type": "code",
   "execution_count": 29,
   "id": "d2459ad5",
   "metadata": {},
   "outputs": [],
   "source": [
    "X_train = torch.concat(X_train, dim = 0)"
   ]
  },
  {
   "cell_type": "code",
   "execution_count": 33,
   "id": "ce6c8a42",
   "metadata": {},
   "outputs": [],
   "source": [
    "torch.save(X_train, \"data/X_train.pth\")"
   ]
  },
  {
   "cell_type": "code",
   "execution_count": 32,
   "id": "b50dc20f",
   "metadata": {},
   "outputs": [],
   "source": [
    "y_train = tensor_labels[:15]"
   ]
  },
  {
   "cell_type": "code",
   "execution_count": 34,
   "id": "b881b2f5",
   "metadata": {},
   "outputs": [],
   "source": [
    "torch.save(y_train, \"data/y_train.pth\")"
   ]
  },
  {
   "cell_type": "code",
   "execution_count": null,
   "id": "9962ac4a",
   "metadata": {},
   "outputs": [],
   "source": [
    "# Future Progess:\n",
    "# Load the data into a Neural Network\n",
    "# Train the Neural Network on the data\n",
    "# Output predictions from the neural network\n",
    "\n",
    "# Generate synthetic neural signal based on this data\n",
    "# stream the synthetic neural signal to chat-studio using websockets\n",
    "# use an api with the trained neural network to decode the neural signal \n",
    "# display the neural signal as a suggested selection for text input"
   ]
  }
 ],
 "metadata": {
  "kernelspec": {
   "display_name": "torch",
   "language": "python",
   "name": "python3"
  },
  "language_info": {
   "codemirror_mode": {
    "name": "ipython",
    "version": 3
   },
   "file_extension": ".py",
   "mimetype": "text/x-python",
   "name": "python",
   "nbconvert_exporter": "python",
   "pygments_lexer": "ipython3",
   "version": "3.10.16"
  }
 },
 "nbformat": 4,
 "nbformat_minor": 5
}
