{
 "cells": [
  {
   "cell_type": "code",
   "execution_count": null,
   "id": "c869ff09",
   "metadata": {},
   "outputs": [],
   "source": [
    "from dotenv import load_dotenv\n",
    "import os\n",
    "from glob import glob\n",
    "import mne\n",
    "import numpy as np\n",
    "import torch\n",
    "import torch.nn as nn\n",
    "import gc \n",
    "from torch.utils.data import Dataset, DataLoader\n",
    "from sklearn.model_selection import train_test_split\n",
    "import pandas as pd\n",
    "\n",
    "load_dotenv()\n",
    "root_dir = os.getenv(\"ROOT_DIR\")\n",
    "device = torch.device(\"cuda\" if torch.cuda.is_available() else \"cpu\")"
   ]
  },
  {
   "cell_type": "code",
   "execution_count": 15,
   "id": "c9e94944",
   "metadata": {},
   "outputs": [],
   "source": [
    "# Settings\n",
    "\n",
    "# Set seed for reproducibility (optional)\n",
    "torch.manual_seed(42)\n",
    "\n",
    "DECIMATED_SAMPLE_RATE_HZ = 256\n",
    "# Seconds\n",
    "WORD_SIGNAL_BEGIN = int(DECIMATED_SAMPLE_RATE_HZ * 1)\n",
    "WORD_SIGNAL_COMPLETE = int(DECIMATED_SAMPLE_RATE_HZ * 3.5)\n"
   ]
  },
  {
   "cell_type": "code",
   "execution_count": 16,
   "id": "ac4b34c7",
   "metadata": {},
   "outputs": [],
   "source": [
    "# Model definitions\n",
    "class InnerSpeechDataset(Dataset):\n",
    "    def __init__(self, X, y):\n",
    "        self.X = torch.tensor(X, dtype=torch.float32)\n",
    "        self.y = torch.tensor(y, dtype=torch.long)\n",
    "    \n",
    "    def __len__(self):\n",
    "        return len(self.X)\n",
    "    \n",
    "    def __getitem__(self, idx):\n",
    "        return self.X[idx], self.y[idx]"
   ]
  },
  {
   "cell_type": "code",
   "execution_count": 17,
   "id": "d60e54ee",
   "metadata": {},
   "outputs": [],
   "source": [
    "# CNN/LSTM hybrid\n",
    "class InnerSpeechModel(nn.Module):\n",
    "    def __init__(self):\n",
    "        super().__init__()\n",
    "\n",
    "        # CNN component: outputs 256 channels\n",
    "        self.convolv = nn.Sequential(\n",
    "            nn.Conv1d(in_channels=128, out_channels=128, kernel_size=3, padding=1),\n",
    "            nn.BatchNorm1d(128),\n",
    "            nn.ReLU(inplace=True),\n",
    "            nn.Conv1d(in_channels=128, out_channels=128, kernel_size=3, padding=1),\n",
    "            nn.BatchNorm1d(128),\n",
    "            nn.ReLU(inplace=True),\n",
    "            nn.Conv1d(in_channels=128, out_channels=256, kernel_size=3, padding=1),  # Fixed to 256 channels\n",
    "            nn.BatchNorm1d(256),\n",
    "            nn.ReLU(inplace=True),\n",
    "            nn.Dropout(p=0.3)\n",
    "        )\n",
    "\n",
    "        # Bi-LSTM component (2 Layers)\n",
    "        self.lstm = nn.LSTM(input_size=256, hidden_size=128, num_layers=2, batch_first=True, bidirectional=True)\n",
    "\n",
    "        self.attn_weight = nn.Linear(2 * 128, 1, bias=False)\n",
    "\n",
    "        # Fully connected layer\n",
    "        self.fc = nn.Sequential(\n",
    "            nn.ReLU(inplace=True),\n",
    "            nn.Dropout(p=0.3),\n",
    "            nn.Linear(2*128, 4)  # Matches hidden_size=128\n",
    "        )\n",
    "\n",
    "    def forward(self, x):\n",
    "        # Input shape: (batch, 20, 64)\n",
    "        x = x.permute(0, 2, 1)  # Shape: (batch, 64, 20)\n",
    "        x = self.convolv(x)      # Shape: (batch, 256, 20)\n",
    "        x = x.permute(0, 2, 1)   # Shape: (batch, 20, 256)\n",
    "\n",
    "        lstm_out, (h_n, c_n) = self.lstm(x)  # lstm_out shape: (batch, 20, 128)\n",
    "\n",
    "        # Compute attention scores\n",
    "        # Flatten across features: attn_score[i, t] = wT * h_{i, t}\n",
    "        # Then softmax over t to get α_{i, t}\n",
    "        attn_scores = self.attn_weight(lstm_out).squeeze(-1)\n",
    "        attn_weights = torch.softmax(attn_scores, dim=1)\n",
    "        # Weighted sum of LSTM outputs:\n",
    "        attn_applied = torch.bmm(attn_weights.unsqueeze(1), lstm_out).squeeze(1)\n",
    "\n",
    "        # Regression to 3D motion\n",
    "        output = self.fc(attn_applied)\n",
    "        return output"
   ]
  },
  {
   "cell_type": "markdown",
   "id": "d216099d",
   "metadata": {},
   "source": [
    "### Initial Analysis"
   ]
  },
  {
   "cell_type": "code",
   "execution_count": 18,
   "id": "cd544817",
   "metadata": {},
   "outputs": [
    {
     "data": {
      "text/plain": [
       "['/media/linux-pc/Stargate/inner-speech/ds003626-download/derivatives/sub-01/ses-01/sub-01_ses-01_baseline-epo.fif',\n",
       " '/media/linux-pc/Stargate/inner-speech/ds003626-download/derivatives/sub-01/ses-01/sub-01_ses-01_eeg-epo.fif',\n",
       " '/media/linux-pc/Stargate/inner-speech/ds003626-download/derivatives/sub-01/ses-01/sub-01_ses-01_exg-epo.fif',\n",
       " '/media/linux-pc/Stargate/inner-speech/ds003626-download/derivatives/sub-01/ses-02/sub-01_ses-02_baseline-epo.fif',\n",
       " '/media/linux-pc/Stargate/inner-speech/ds003626-download/derivatives/sub-01/ses-02/sub-01_ses-02_eeg-epo.fif',\n",
       " '/media/linux-pc/Stargate/inner-speech/ds003626-download/derivatives/sub-01/ses-02/sub-01_ses-02_exg-epo.fif',\n",
       " '/media/linux-pc/Stargate/inner-speech/ds003626-download/derivatives/sub-01/ses-03/sub-01_ses-03_baseline-epo.fif',\n",
       " '/media/linux-pc/Stargate/inner-speech/ds003626-download/derivatives/sub-01/ses-03/sub-01_ses-03_eeg-epo.fif',\n",
       " '/media/linux-pc/Stargate/inner-speech/ds003626-download/derivatives/sub-01/ses-03/sub-01_ses-03_exg-epo.fif']"
      ]
     },
     "execution_count": 18,
     "metadata": {},
     "output_type": "execute_result"
    }
   ],
   "source": [
    "sorted(glob(os.path.join(root_dir, \"**\", \"sub-01*.fif\"), recursive=True))"
   ]
  },
  {
   "cell_type": "code",
   "execution_count": 19,
   "id": "314f1612",
   "metadata": {},
   "outputs": [],
   "source": [
    "data_l_epochs = sorted(glob(os.path.join(root_dir, \"**\", 'sub-*_ses-*_eeg-epo.fif'), recursive=True))"
   ]
  },
  {
   "cell_type": "code",
   "execution_count": 20,
   "id": "304627eb",
   "metadata": {},
   "outputs": [],
   "source": [
    "data_l_epochs = [data for data in data_l_epochs if \"ses-03\" not in data]"
   ]
  },
  {
   "cell_type": "code",
   "execution_count": 21,
   "id": "5a48a143",
   "metadata": {},
   "outputs": [
    {
     "data": {
      "text/plain": [
       "['/media/linux-pc/Stargate/inner-speech/ds003626-download/derivatives/sub-01/ses-01/sub-01_ses-01_eeg-epo.fif',\n",
       " '/media/linux-pc/Stargate/inner-speech/ds003626-download/derivatives/sub-01/ses-02/sub-01_ses-02_eeg-epo.fif',\n",
       " '/media/linux-pc/Stargate/inner-speech/ds003626-download/derivatives/sub-02/ses-01/sub-02_ses-01_eeg-epo.fif',\n",
       " '/media/linux-pc/Stargate/inner-speech/ds003626-download/derivatives/sub-02/ses-02/sub-02_ses-02_eeg-epo.fif',\n",
       " '/media/linux-pc/Stargate/inner-speech/ds003626-download/derivatives/sub-03/ses-01/sub-03_ses-01_eeg-epo.fif',\n",
       " '/media/linux-pc/Stargate/inner-speech/ds003626-download/derivatives/sub-03/ses-02/sub-03_ses-02_eeg-epo.fif',\n",
       " '/media/linux-pc/Stargate/inner-speech/ds003626-download/derivatives/sub-04/ses-01/sub-04_ses-01_eeg-epo.fif',\n",
       " '/media/linux-pc/Stargate/inner-speech/ds003626-download/derivatives/sub-04/ses-02/sub-04_ses-02_eeg-epo.fif',\n",
       " '/media/linux-pc/Stargate/inner-speech/ds003626-download/derivatives/sub-05/ses-01/sub-05_ses-01_eeg-epo.fif',\n",
       " '/media/linux-pc/Stargate/inner-speech/ds003626-download/derivatives/sub-05/ses-02/sub-05_ses-02_eeg-epo.fif',\n",
       " '/media/linux-pc/Stargate/inner-speech/ds003626-download/derivatives/sub-06/ses-01/sub-06_ses-01_eeg-epo.fif',\n",
       " '/media/linux-pc/Stargate/inner-speech/ds003626-download/derivatives/sub-06/ses-02/sub-06_ses-02_eeg-epo.fif',\n",
       " '/media/linux-pc/Stargate/inner-speech/ds003626-download/derivatives/sub-07/ses-01/sub-07_ses-01_eeg-epo.fif',\n",
       " '/media/linux-pc/Stargate/inner-speech/ds003626-download/derivatives/sub-07/ses-02/sub-07_ses-02_eeg-epo.fif',\n",
       " '/media/linux-pc/Stargate/inner-speech/ds003626-download/derivatives/sub-08/ses-01/sub-08_ses-01_eeg-epo.fif',\n",
       " '/media/linux-pc/Stargate/inner-speech/ds003626-download/derivatives/sub-08/ses-02/sub-08_ses-02_eeg-epo.fif',\n",
       " '/media/linux-pc/Stargate/inner-speech/ds003626-download/derivatives/sub-09/ses-01/sub-09_ses-01_eeg-epo.fif',\n",
       " '/media/linux-pc/Stargate/inner-speech/ds003626-download/derivatives/sub-09/ses-02/sub-09_ses-02_eeg-epo.fif',\n",
       " '/media/linux-pc/Stargate/inner-speech/ds003626-download/derivatives/sub-10/ses-01/sub-10_ses-01_eeg-epo.fif',\n",
       " '/media/linux-pc/Stargate/inner-speech/ds003626-download/derivatives/sub-10/ses-02/sub-10_ses-02_eeg-epo.fif']"
      ]
     },
     "execution_count": 21,
     "metadata": {},
     "output_type": "execute_result"
    }
   ],
   "source": [
    "data_l_epochs"
   ]
  },
  {
   "cell_type": "code",
   "execution_count": 22,
   "id": "adbabd3a",
   "metadata": {},
   "outputs": [
    {
     "data": {
      "text/plain": [
       "20"
      ]
     },
     "execution_count": 22,
     "metadata": {},
     "output_type": "execute_result"
    }
   ],
   "source": [
    "data_l_epochs.__len__()"
   ]
  },
  {
   "cell_type": "code",
   "execution_count": 23,
   "id": "14d80776",
   "metadata": {},
   "outputs": [
    {
     "data": {
      "text/plain": [
       "['/media/linux-pc/Stargate/inner-speech/ds003626-download/derivatives/sub-01/ses-01/sub-01_ses-01_eeg-epo.fif',\n",
       " '/media/linux-pc/Stargate/inner-speech/ds003626-download/derivatives/sub-01/ses-02/sub-01_ses-02_eeg-epo.fif',\n",
       " '/media/linux-pc/Stargate/inner-speech/ds003626-download/derivatives/sub-02/ses-01/sub-02_ses-01_eeg-epo.fif',\n",
       " '/media/linux-pc/Stargate/inner-speech/ds003626-download/derivatives/sub-02/ses-02/sub-02_ses-02_eeg-epo.fif',\n",
       " '/media/linux-pc/Stargate/inner-speech/ds003626-download/derivatives/sub-03/ses-01/sub-03_ses-01_eeg-epo.fif',\n",
       " '/media/linux-pc/Stargate/inner-speech/ds003626-download/derivatives/sub-03/ses-02/sub-03_ses-02_eeg-epo.fif']"
      ]
     },
     "execution_count": 23,
     "metadata": {},
     "output_type": "execute_result"
    }
   ],
   "source": [
    "data_l_epochs[:6]"
   ]
  },
  {
   "cell_type": "code",
   "execution_count": null,
   "id": "13faf82f",
   "metadata": {},
   "outputs": [],
   "source": [
    "epochs = mne.read_epochs(data_l_epochs[0])"
   ]
  },
  {
   "cell_type": "code",
   "execution_count": null,
   "id": "905bb61f",
   "metadata": {},
   "outputs": [],
   "source": [
    "data_l_epochs[0]"
   ]
  },
  {
   "cell_type": "code",
   "execution_count": null,
   "id": "b23e77b2",
   "metadata": {},
   "outputs": [],
   "source": [
    "epoch = mne.read_epochs(data_l_epochs[1], preload=True)"
   ]
  },
  {
   "cell_type": "code",
   "execution_count": null,
   "id": "0a7dd66b",
   "metadata": {},
   "outputs": [],
   "source": [
    "X = epoch.get_data()"
   ]
  },
  {
   "cell_type": "code",
   "execution_count": null,
   "id": "ae05eae3",
   "metadata": {},
   "outputs": [],
   "source": [
    "X.shape\n"
   ]
  },
  {
   "cell_type": "code",
   "execution_count": null,
   "id": "9a0fd01d",
   "metadata": {},
   "outputs": [],
   "source": [
    "event_map = {v: k for k, v in epochs.event_id.items()}"
   ]
  },
  {
   "cell_type": "code",
   "execution_count": null,
   "id": "aab897b1",
   "metadata": {},
   "outputs": [],
   "source": [
    "event_map"
   ]
  },
  {
   "cell_type": "code",
   "execution_count": null,
   "id": "e9eb64dc",
   "metadata": {},
   "outputs": [],
   "source": [
    "y = [event_map[event[-1]] for event in epochs.events]"
   ]
  },
  {
   "cell_type": "code",
   "execution_count": null,
   "id": "6af23b30",
   "metadata": {},
   "outputs": [],
   "source": [
    "y[0]"
   ]
  },
  {
   "cell_type": "code",
   "execution_count": null,
   "id": "627552b6",
   "metadata": {},
   "outputs": [],
   "source": [
    "256 * 3.5"
   ]
  },
  {
   "cell_type": "code",
   "execution_count": null,
   "id": "44f91e66",
   "metadata": {},
   "outputs": [],
   "source": [
    "X.shape"
   ]
  },
  {
   "cell_type": "code",
   "execution_count": null,
   "id": "9bab666f",
   "metadata": {},
   "outputs": [],
   "source": [
    "# This is the signal\n",
    "X[0][:, WORD_SIGNAL_BEGIN:WORD_SIGNAL_COMPLETE].shape"
   ]
  },
  {
   "cell_type": "code",
   "execution_count": null,
   "id": "ff5496a1",
   "metadata": {},
   "outputs": [],
   "source": [
    "device"
   ]
  },
  {
   "cell_type": "code",
   "execution_count": null,
   "id": "1dee0f9e",
   "metadata": {},
   "outputs": [],
   "source": [
    "asdf"
   ]
  },
  {
   "cell_type": "code",
   "execution_count": null,
   "id": "14d7793b",
   "metadata": {},
   "outputs": [],
   "source": []
  },
  {
   "cell_type": "code",
   "execution_count": 24,
   "id": "a48cc062",
   "metadata": {},
   "outputs": [
    {
     "name": "stdout",
     "output_type": "stream",
     "text": [
      "Reading /media/linux-pc/Stargate/inner-speech/ds003626-download/derivatives/sub-01/ses-01/sub-01_ses-01_eeg-epo.fif ...\n",
      "Isotrak not found\n",
      "    Found the data of interest:\n",
      "        t =    -500.00 ...    4000.00 ms\n",
      "        0 CTF compensation matrices available\n",
      "Not setting metadata\n",
      "200 matching events found\n",
      "No baseline correction applied\n",
      "0 projection items activated\n",
      "Applying baseline correction (mode: mean)\n",
      "Reading /media/linux-pc/Stargate/inner-speech/ds003626-download/derivatives/sub-01/ses-02/sub-01_ses-02_eeg-epo.fif ...\n",
      "Isotrak not found\n",
      "    Found the data of interest:\n",
      "        t =    -500.00 ...    4000.00 ms\n",
      "        0 CTF compensation matrices available\n",
      "Not setting metadata\n",
      "200 matching events found\n",
      "No baseline correction applied\n",
      "0 projection items activated\n",
      "Applying baseline correction (mode: mean)\n",
      "Reading /media/linux-pc/Stargate/inner-speech/ds003626-download/derivatives/sub-02/ses-01/sub-02_ses-01_eeg-epo.fif ...\n",
      "Isotrak not found\n",
      "    Found the data of interest:\n",
      "        t =    -500.00 ...    4000.00 ms\n",
      "        0 CTF compensation matrices available\n",
      "Not setting metadata\n",
      "200 matching events found\n",
      "No baseline correction applied\n",
      "0 projection items activated\n",
      "Applying baseline correction (mode: mean)\n",
      "Reading /media/linux-pc/Stargate/inner-speech/ds003626-download/derivatives/sub-02/ses-02/sub-02_ses-02_eeg-epo.fif ...\n",
      "Isotrak not found\n",
      "    Found the data of interest:\n",
      "        t =    -500.00 ...    4000.00 ms\n",
      "        0 CTF compensation matrices available\n",
      "Not setting metadata\n",
      "200 matching events found\n",
      "No baseline correction applied\n",
      "0 projection items activated\n",
      "Applying baseline correction (mode: mean)\n",
      "Reading /media/linux-pc/Stargate/inner-speech/ds003626-download/derivatives/sub-03/ses-01/sub-03_ses-01_eeg-epo.fif ...\n",
      "Isotrak not found\n",
      "    Found the data of interest:\n",
      "        t =    -500.00 ...    4000.00 ms\n",
      "        0 CTF compensation matrices available\n",
      "Not setting metadata\n",
      "200 matching events found\n",
      "No baseline correction applied\n",
      "0 projection items activated\n",
      "Applying baseline correction (mode: mean)\n",
      "Reading /media/linux-pc/Stargate/inner-speech/ds003626-download/derivatives/sub-03/ses-02/sub-03_ses-02_eeg-epo.fif ...\n",
      "Isotrak not found\n",
      "    Found the data of interest:\n",
      "        t =    -500.00 ...    4000.00 ms\n",
      "        0 CTF compensation matrices available\n",
      "Not setting metadata\n",
      "200 matching events found\n",
      "No baseline correction applied\n",
      "0 projection items activated\n",
      "Applying baseline correction (mode: mean)\n",
      "Reading /media/linux-pc/Stargate/inner-speech/ds003626-download/derivatives/sub-04/ses-01/sub-04_ses-01_eeg-epo.fif ...\n",
      "Isotrak not found\n",
      "    Found the data of interest:\n",
      "        t =    -500.00 ...    4000.00 ms\n",
      "        0 CTF compensation matrices available\n",
      "Not setting metadata\n",
      "200 matching events found\n",
      "No baseline correction applied\n",
      "0 projection items activated\n",
      "Applying baseline correction (mode: mean)\n",
      "Reading /media/linux-pc/Stargate/inner-speech/ds003626-download/derivatives/sub-04/ses-02/sub-04_ses-02_eeg-epo.fif ...\n",
      "Isotrak not found\n",
      "    Found the data of interest:\n",
      "        t =    -500.00 ...    4000.00 ms\n",
      "        0 CTF compensation matrices available\n",
      "Not setting metadata\n",
      "200 matching events found\n",
      "No baseline correction applied\n",
      "0 projection items activated\n",
      "Applying baseline correction (mode: mean)\n",
      "Reading /media/linux-pc/Stargate/inner-speech/ds003626-download/derivatives/sub-05/ses-01/sub-05_ses-01_eeg-epo.fif ...\n",
      "Isotrak not found\n",
      "    Found the data of interest:\n",
      "        t =    -500.00 ...    4000.00 ms\n",
      "        0 CTF compensation matrices available\n",
      "Not setting metadata\n",
      "200 matching events found\n",
      "No baseline correction applied\n",
      "0 projection items activated\n",
      "Applying baseline correction (mode: mean)\n",
      "Reading /media/linux-pc/Stargate/inner-speech/ds003626-download/derivatives/sub-05/ses-02/sub-05_ses-02_eeg-epo.fif ...\n",
      "Isotrak not found\n",
      "    Found the data of interest:\n",
      "        t =    -500.00 ...    4000.00 ms\n",
      "        0 CTF compensation matrices available\n",
      "Not setting metadata\n",
      "200 matching events found\n",
      "No baseline correction applied\n",
      "0 projection items activated\n",
      "Applying baseline correction (mode: mean)\n",
      "Reading /media/linux-pc/Stargate/inner-speech/ds003626-download/derivatives/sub-06/ses-01/sub-06_ses-01_eeg-epo.fif ...\n",
      "Isotrak not found\n",
      "    Found the data of interest:\n",
      "        t =    -500.00 ...    4000.00 ms\n",
      "        0 CTF compensation matrices available\n",
      "Not setting metadata\n",
      "200 matching events found\n",
      "No baseline correction applied\n",
      "0 projection items activated\n",
      "Applying baseline correction (mode: mean)\n",
      "Reading /media/linux-pc/Stargate/inner-speech/ds003626-download/derivatives/sub-06/ses-02/sub-06_ses-02_eeg-epo.fif ...\n",
      "Isotrak not found\n",
      "    Found the data of interest:\n",
      "        t =    -500.00 ...    4000.00 ms\n",
      "        0 CTF compensation matrices available\n",
      "Not setting metadata\n",
      "200 matching events found\n",
      "No baseline correction applied\n",
      "0 projection items activated\n",
      "Applying baseline correction (mode: mean)\n",
      "Reading /media/linux-pc/Stargate/inner-speech/ds003626-download/derivatives/sub-07/ses-01/sub-07_ses-01_eeg-epo.fif ...\n",
      "Isotrak not found\n",
      "    Found the data of interest:\n",
      "        t =    -500.00 ...    4000.00 ms\n",
      "        0 CTF compensation matrices available\n",
      "Not setting metadata\n",
      "200 matching events found\n",
      "No baseline correction applied\n",
      "0 projection items activated\n",
      "Applying baseline correction (mode: mean)\n",
      "Reading /media/linux-pc/Stargate/inner-speech/ds003626-download/derivatives/sub-07/ses-02/sub-07_ses-02_eeg-epo.fif ...\n",
      "Isotrak not found\n",
      "    Found the data of interest:\n",
      "        t =    -500.00 ...    4000.00 ms\n",
      "        0 CTF compensation matrices available\n",
      "Not setting metadata\n",
      "200 matching events found\n",
      "No baseline correction applied\n",
      "0 projection items activated\n",
      "Applying baseline correction (mode: mean)\n",
      "Reading /media/linux-pc/Stargate/inner-speech/ds003626-download/derivatives/sub-08/ses-01/sub-08_ses-01_eeg-epo.fif ...\n",
      "Isotrak not found\n",
      "    Found the data of interest:\n",
      "        t =    -500.00 ...    4000.00 ms\n",
      "        0 CTF compensation matrices available\n",
      "Not setting metadata\n",
      "200 matching events found\n",
      "No baseline correction applied\n",
      "0 projection items activated\n",
      "Applying baseline correction (mode: mean)\n",
      "Reading /media/linux-pc/Stargate/inner-speech/ds003626-download/derivatives/sub-08/ses-02/sub-08_ses-02_eeg-epo.fif ...\n",
      "Isotrak not found\n",
      "    Found the data of interest:\n",
      "        t =    -500.00 ...    4000.00 ms\n",
      "        0 CTF compensation matrices available\n",
      "Not setting metadata\n",
      "200 matching events found\n",
      "No baseline correction applied\n",
      "0 projection items activated\n",
      "Applying baseline correction (mode: mean)\n",
      "Reading /media/linux-pc/Stargate/inner-speech/ds003626-download/derivatives/sub-09/ses-01/sub-09_ses-01_eeg-epo.fif ...\n",
      "Isotrak not found\n",
      "    Found the data of interest:\n",
      "        t =    -500.00 ...    4000.00 ms\n",
      "        0 CTF compensation matrices available\n",
      "Not setting metadata\n",
      "200 matching events found\n",
      "No baseline correction applied\n",
      "0 projection items activated\n",
      "Applying baseline correction (mode: mean)\n",
      "Reading /media/linux-pc/Stargate/inner-speech/ds003626-download/derivatives/sub-09/ses-02/sub-09_ses-02_eeg-epo.fif ...\n",
      "Isotrak not found\n",
      "    Found the data of interest:\n",
      "        t =    -500.00 ...    4000.00 ms\n",
      "        0 CTF compensation matrices available\n",
      "Not setting metadata\n",
      "200 matching events found\n",
      "No baseline correction applied\n",
      "0 projection items activated\n",
      "Applying baseline correction (mode: mean)\n",
      "Reading /media/linux-pc/Stargate/inner-speech/ds003626-download/derivatives/sub-10/ses-01/sub-10_ses-01_eeg-epo.fif ...\n",
      "Isotrak not found\n",
      "    Found the data of interest:\n",
      "        t =    -500.00 ...    4000.00 ms\n",
      "        0 CTF compensation matrices available\n",
      "Not setting metadata\n",
      "200 matching events found\n",
      "No baseline correction applied\n",
      "0 projection items activated\n",
      "Applying baseline correction (mode: mean)\n",
      "Reading /media/linux-pc/Stargate/inner-speech/ds003626-download/derivatives/sub-10/ses-02/sub-10_ses-02_eeg-epo.fif ...\n",
      "Isotrak not found\n",
      "    Found the data of interest:\n",
      "        t =    -500.00 ...    4000.00 ms\n",
      "        0 CTF compensation matrices available\n",
      "Not setting metadata\n",
      "200 matching events found\n",
      "No baseline correction applied\n",
      "0 projection items activated\n",
      "Applying baseline correction (mode: mean)\n"
     ]
    }
   ],
   "source": [
    "X_all = []\n",
    "y_all = []\n",
    "for data in data_l_epochs:\n",
    "    epochs = mne.read_epochs(data, preload=True)\n",
    "    epochs.apply_baseline(baseline=(-0.5, 0))\n",
    "    X = epochs.get_data()\n",
    "    event_map = {v: k for k, v in epochs.event_id.items()}\n",
    "    y = [event_map[event[-1]] for event in epochs.events]\n",
    "    X = torch.tensor(X[:, :, WORD_SIGNAL_BEGIN:WORD_SIGNAL_COMPLETE], device=device)\n",
    "\n",
    "    X_all.append(X)\n",
    "    y_all.append(y)"
   ]
  },
  {
   "cell_type": "markdown",
   "id": "5d480a87",
   "metadata": {},
   "source": [
    "#### Exploring the Channel Placement:"
   ]
  },
  {
   "cell_type": "code",
   "execution_count": null,
   "id": "1ca6e827",
   "metadata": {},
   "outputs": [
    {
     "name": "stdout",
     "output_type": "stream",
     "text": [
      "            x_mm       y_mm       z_mm\n",
      "A1  0.000000e+00   0.000000  95.000000\n",
      "A2  1.109950e-15 -18.126855  93.254582\n",
      "A3  2.272911e-15 -37.119457  87.447961\n",
      "A4  3.252866e-15 -53.123326  78.758569\n",
      "A5 -2.670150e+01 -62.904799  65.992545\n"
     ]
    }
   ],
   "source": [
    "\n",
    "# Load standard BioSemi 128 montage\n",
    "montage = mne.channels.make_standard_montage('biosemi128')\n",
    "\n",
    "# Get the dictionary: channel name → (x, y, z) in meters\n",
    "ch_pos = montage.get_positions()['ch_pos']\n",
    "\n",
    "my_channel_names = epochs.ch_names\n",
    "\n",
    "# Extract 3D coordinates in meters\n",
    "channel_xyz = {ch: ch_pos[ch] for ch in my_channel_names if ch in ch_pos}\n",
    "\n",
    "# Convert to mm or cm if desired\n",
    "channel_xyz_mm = {ch: tuple(1000 * x for x in pos) for ch, pos in channel_xyz.items()}\n",
    "\n",
    "# Optional: Convert to a DataFrame\n",
    "df_channels = pd.DataFrame.from_dict(channel_xyz_mm, orient='index', columns=['x_mm', 'y_mm', 'z_mm'])\n",
    "\n",
    "print(df_channels.head())\n",
    "\n",
    "\n"
   ]
  },
  {
   "cell_type": "code",
   "execution_count": null,
   "id": "e2c72c83",
   "metadata": {},
   "outputs": [],
   "source": [
    "# df_channels.to_csv(\"./data/eeg_channel_physical_location.csv\")"
   ]
  },
  {
   "cell_type": "code",
   "execution_count": null,
   "id": "0b18a474",
   "metadata": {},
   "outputs": [],
   "source": [
    "X_all[0][0].shape"
   ]
  },
  {
   "cell_type": "code",
   "execution_count": null,
   "id": "9f0dba54",
   "metadata": {},
   "outputs": [],
   "source": [
    "y_all[0][0]"
   ]
  },
  {
   "cell_type": "code",
   "execution_count": null,
   "id": "8b93fcea",
   "metadata": {},
   "outputs": [],
   "source": [
    "# Saving Labels\n",
    "\n",
    "# y_all = np.array(y_all)\n",
    "# unique_labels = sorted(set(y_all.flatten()))\n",
    "# label_mapping = {label: index for index, label in enumerate(unique_labels)}\n",
    "# int_labels = np.vectorize(label_mapping.get)(y_all)\n",
    "# tensor_labels = torch.tensor(int_labels, dtype=torch.long, device=device)\n",
    "# torch.save(tensor_labels,\"data/labels.pth\")"
   ]
  },
  {
   "cell_type": "code",
   "execution_count": null,
   "id": "785aeb8b",
   "metadata": {},
   "outputs": [],
   "source": [
    "y_all.__len__()"
   ]
  },
  {
   "cell_type": "code",
   "execution_count": null,
   "id": "5f90297c",
   "metadata": {},
   "outputs": [],
   "source": [
    "X_all.__len__()"
   ]
  },
  {
   "cell_type": "code",
   "execution_count": null,
   "id": "0aba0bca",
   "metadata": {},
   "outputs": [],
   "source": [
    "y_all[0].__len__()"
   ]
  },
  {
   "cell_type": "code",
   "execution_count": null,
   "id": "3cc366ac",
   "metadata": {},
   "outputs": [],
   "source": [
    "# Channels x Samples @ 256 Hz (from seconds 1 to 3.5)\n",
    "X_all[0][0].shape"
   ]
  },
  {
   "cell_type": "code",
   "execution_count": null,
   "id": "dec172ee",
   "metadata": {},
   "outputs": [],
   "source": [
    "y_all[0][0]"
   ]
  },
  {
   "cell_type": "code",
   "execution_count": null,
   "id": "03a4d3a0",
   "metadata": {},
   "outputs": [],
   "source": [
    "X_all[0].shape"
   ]
  },
  {
   "cell_type": "code",
   "execution_count": null,
   "id": "a9079423",
   "metadata": {},
   "outputs": [],
   "source": [
    "# Concatenating the data into a single object:\n",
    "X_all = torch.cat(X_all, dim=0)  # shape: [200 * 20 = 4000, 128, 640]"
   ]
  },
  {
   "cell_type": "code",
   "execution_count": null,
   "id": "f96f1ba9",
   "metadata": {},
   "outputs": [],
   "source": [
    "X_all.shape"
   ]
  },
  {
   "cell_type": "code",
   "execution_count": null,
   "id": "7e5acf6f",
   "metadata": {},
   "outputs": [],
   "source": [
    "y_flat = [label for sublist in y_all for label in sublist]  # Length: 4000"
   ]
  },
  {
   "cell_type": "code",
   "execution_count": null,
   "id": "f2e0fd8e",
   "metadata": {},
   "outputs": [],
   "source": [
    "y_flat"
   ]
  },
  {
   "cell_type": "code",
   "execution_count": null,
   "id": "9c5f1470",
   "metadata": {},
   "outputs": [],
   "source": [
    "torch.save(y_flat, \"data/y_labels.pth\")\n",
    "torch.save(X_all, \"data/X_all.pth\")"
   ]
  },
  {
   "cell_type": "code",
   "execution_count": null,
   "id": "4014c454",
   "metadata": {},
   "outputs": [],
   "source": [
    "del y_flat, X_all \n"
   ]
  },
  {
   "cell_type": "code",
   "execution_count": null,
   "id": "4881a649",
   "metadata": {},
   "outputs": [],
   "source": [
    "del y_all"
   ]
  },
  {
   "cell_type": "code",
   "execution_count": null,
   "id": "86300b65",
   "metadata": {},
   "outputs": [],
   "source": [
    "# gc.collect()"
   ]
  },
  {
   "cell_type": "code",
   "execution_count": null,
   "id": "1a09504b",
   "metadata": {},
   "outputs": [],
   "source": []
  },
  {
   "cell_type": "markdown",
   "id": "d6b1ac50",
   "metadata": {},
   "source": [
    "#### Loading Data"
   ]
  },
  {
   "cell_type": "code",
   "execution_count": null,
   "id": "d006d150",
   "metadata": {},
   "outputs": [],
   "source": [
    "# Loading the Labels\n",
    "tensor_labels = torch.load(\"data/y_labels.pth\")\n",
    "X_all = torch.load(\"data/X_all.pth\")"
   ]
  },
  {
   "cell_type": "code",
   "execution_count": null,
   "id": "2c7beafe",
   "metadata": {},
   "outputs": [],
   "source": [
    "# Split into Train and Test data\n",
    "# Total samples\n",
    "num_samples = X_all.shape[0]\n",
    "num_train = int(0.8 * num_samples)\n",
    "\n",
    "# Generate a random permutation of indices\n",
    "indices = torch.randperm(num_samples)\n",
    "\n",
    "# Split indices\n",
    "train_indices = indices[:num_train]\n",
    "test_indices = indices[num_train:]\n",
    "\n",
    "# Create train and test splits\n",
    "train_data = X_all[train_indices]\n",
    "test_data = X_all[test_indices]\n",
    "\n",
    "# Print shapes to verify\n",
    "print(\"Train shape:\", train_data.shape)  # Should be [3200, 128, 640]\n",
    "print(\"Test shape:\", test_data.shape)    # Should be [800, 128, 640]\n",
    "\n",
    "# Train and Test labels\n",
    "train_indices_list = train_indices.tolist()\n",
    "train_indices = [tensor_labels[index] for index in train_indices_list]\n",
    "test_indices = [tensor_labels[index] for index in test_indices.tolist()]"
   ]
  },
  {
   "cell_type": "code",
   "execution_count": null,
   "id": "60f1ae08",
   "metadata": {},
   "outputs": [],
   "source": [
    "torch.save(test_indices, \"data/y_test.pth\")\n",
    "torch.save(test_data, \"data/X_test.pth\")"
   ]
  },
  {
   "cell_type": "code",
   "execution_count": null,
   "id": "1126a8c9",
   "metadata": {},
   "outputs": [],
   "source": [
    "torch.save(train_indices, \"data/y_train.pth\")\n",
    "torch.save(train_data, \"data/X_train.pth\")"
   ]
  },
  {
   "cell_type": "code",
   "execution_count": null,
   "id": "9962ac4a",
   "metadata": {},
   "outputs": [],
   "source": [
    "# Future Progess:\n",
    "# Load the data into a Neural Network\n",
    "# Train the Neural Network on the data\n",
    "# Output predictions from the neural network\n",
    "\n",
    "# Generate synthetic neural signal based on this data\n",
    "# stream the synthetic neural signal to chat-studio using websockets\n",
    "# use an api with the trained neural network to decode the neural signal \n",
    "# display the neural signal as a suggested selection for text input"
   ]
  },
  {
   "cell_type": "code",
   "execution_count": null,
   "id": "1033b43d",
   "metadata": {},
   "outputs": [],
   "source": []
  },
  {
   "cell_type": "markdown",
   "id": "a9d5b42e",
   "metadata": {},
   "source": [
    "## Training a Neural Network"
   ]
  },
  {
   "cell_type": "code",
   "execution_count": 5,
   "id": "f794f1b8",
   "metadata": {},
   "outputs": [],
   "source": [
    "X_train = torch.load(\"data/X_train.pth\")\n",
    "y_train = torch.load(\"data/y_train.pth\")\n",
    "X_test = torch.load(\"data/X_test.pth\")\n",
    "y_test = torch.load(\"data/y_test.pth\")"
   ]
  },
  {
   "cell_type": "code",
   "execution_count": 6,
   "id": "0200a083",
   "metadata": {},
   "outputs": [
    {
     "ename": "AttributeError",
     "evalue": "'list' object has no attribute 'cpu'",
     "output_type": "error",
     "traceback": [
      "\u001b[31m---------------------------------------------------------------------------\u001b[39m",
      "\u001b[31mAttributeError\u001b[39m                            Traceback (most recent call last)",
      "\u001b[36mCell\u001b[39m\u001b[36m \u001b[39m\u001b[32mIn[6]\u001b[39m\u001b[32m, line 1\u001b[39m\n\u001b[32m----> \u001b[39m\u001b[32m1\u001b[39m y_train = \u001b[43my_train\u001b[49m\u001b[43m.\u001b[49m\u001b[43mcpu\u001b[49m().numpy()\n",
      "\u001b[31mAttributeError\u001b[39m: 'list' object has no attribute 'cpu'"
     ]
    }
   ],
   "source": [
    "y_train = y_train.cpu().numpy()"
   ]
  },
  {
   "cell_type": "code",
   "execution_count": null,
   "id": "d1cb6f2d",
   "metadata": {},
   "outputs": [],
   "source": [
    "y_train = y_train.cpu().numpy()\n",
    "X_train = X_train.cpu().numpy()"
   ]
  },
  {
   "cell_type": "markdown",
   "id": "ef050304",
   "metadata": {},
   "source": [
    "### Model Definition"
   ]
  },
  {
   "cell_type": "code",
   "execution_count": null,
   "id": "302e7537",
   "metadata": {},
   "outputs": [],
   "source": [
    "X_train.device"
   ]
  },
  {
   "cell_type": "code",
   "execution_count": null,
   "id": "edf342da",
   "metadata": {},
   "outputs": [],
   "source": [
    "X_train_split, X_val_split, y_train_split, y_validation_split = train_test_split(\n",
    "    X_train, y_train, test_size=0.2, random_state=42, stratify=y_train\n",
    ")"
   ]
  },
  {
   "cell_type": "code",
   "execution_count": null,
   "id": "7b3456a2",
   "metadata": {},
   "outputs": [],
   "source": [
    "train_loader = InnerSpeechDataset(X_train_split, y_train_split)\n",
    "val_loader = InnerSpeechDataset(X_val_split, y_validation_split)"
   ]
  },
  {
   "cell_type": "code",
   "execution_count": null,
   "id": "a35500e9",
   "metadata": {},
   "outputs": [],
   "source": [
    "train_loader = InnerSpeechDataset()"
   ]
  },
  {
   "cell_type": "code",
   "execution_count": null,
   "id": "1b8cd916",
   "metadata": {},
   "outputs": [],
   "source": []
  }
 ],
 "metadata": {
  "kernelspec": {
   "display_name": "torch",
   "language": "python",
   "name": "python3"
  },
  "language_info": {
   "codemirror_mode": {
    "name": "ipython",
    "version": 3
   },
   "file_extension": ".py",
   "mimetype": "text/x-python",
   "name": "python",
   "nbconvert_exporter": "python",
   "pygments_lexer": "ipython3",
   "version": "3.11.13"
  }
 },
 "nbformat": 4,
 "nbformat_minor": 5
}
