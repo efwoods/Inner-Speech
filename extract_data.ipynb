{
 "cells": [
  {
   "cell_type": "code",
   "execution_count": 6,
   "id": "c869ff09",
   "metadata": {},
   "outputs": [],
   "source": [
    "from dotenv import load_dotenv\n",
    "import os\n",
    "from glob import glob\n",
    "import mne\n",
    "import numpy as np\n",
    "import torch\n",
    "import torch.nn as nn\n",
    "import gc \n",
    "from torch.utils.data import Dataset, DataLoader\n",
    "from sklearn.model_selection import train_test_split\n",
    "\n",
    "load_dotenv()\n",
    "root_dir = os.getenv(\"ROOT_DIR\")\n",
    "device = torch.device(\"cuda\" if torch.cuda.is_available() else \"cpu\")"
   ]
  },
  {
   "cell_type": "code",
   "execution_count": 3,
   "id": "ac4b34c7",
   "metadata": {},
   "outputs": [],
   "source": [
    "# Model definitions\n",
    "class InnerSpeechDataset(Dataset):\n",
    "    def __init__(self, X, y):\n",
    "        self.X = torch.tensor(X, dtype=torch.float32)\n",
    "        self.y = torch.tensor(y, dtype=torch.long)\n",
    "    \n",
    "    def __len__(self):\n",
    "        return len(self.X)\n",
    "    \n",
    "    def __getitem__(self, idx):\n",
    "        return self.X[idx], self.y[idx]"
   ]
  },
  {
   "cell_type": "code",
   "execution_count": 4,
   "id": "d60e54ee",
   "metadata": {},
   "outputs": [],
   "source": [
    "# CNN/LSTM hybrid\n",
    "class InnerSpeechModel(nn.Module):\n",
    "    def __init__(self):\n",
    "        super().__init__()\n",
    "\n",
    "        # CNN component: outputs 256 channels\n",
    "        self.convolv = nn.Sequential(\n",
    "            nn.Conv1d(in_channels=128, out_channels=128, kernel_size=3, padding=1),\n",
    "            nn.BatchNorm1d(128),\n",
    "            nn.ReLU(inplace=True),\n",
    "            nn.Conv1d(in_channels=128, out_channels=128, kernel_size=3, padding=1),\n",
    "            nn.BatchNorm1d(128),\n",
    "            nn.ReLU(inplace=True),\n",
    "            nn.Conv1d(in_channels=128, out_channels=256, kernel_size=3, padding=1),  # Fixed to 256 channels\n",
    "            nn.BatchNorm1d(256),\n",
    "            nn.ReLU(inplace=True),\n",
    "            nn.Dropout(p=0.3)\n",
    "        )\n",
    "\n",
    "        # Bi-LSTM component (2 Layers)\n",
    "        self.lstm = nn.LSTM(input_size=256, hidden_size=128, num_layers=2, batch_first=True, bidirectional=True)\n",
    "\n",
    "        self.attn_weight = nn.Linear(2 * 128, 1, bias=False)\n",
    "\n",
    "        # Fully connected layer\n",
    "        self.fc = nn.Sequential(\n",
    "            nn.ReLU(inplace=True),\n",
    "            nn.Dropout(p=0.3),\n",
    "            nn.Linear(2*128, 4)  # Matches hidden_size=128\n",
    "        )\n",
    "\n",
    "    def forward(self, x):\n",
    "        # Input shape: (batch, 20, 64)\n",
    "        x = x.permute(0, 2, 1)  # Shape: (batch, 64, 20)\n",
    "        x = self.convolv(x)      # Shape: (batch, 256, 20)\n",
    "        x = x.permute(0, 2, 1)   # Shape: (batch, 20, 256)\n",
    "\n",
    "        lstm_out, (h_n, c_n) = self.lstm(x)  # lstm_out shape: (batch, 20, 128)\n",
    "\n",
    "        # Compute attention scores\n",
    "        # Flatten across features: attn_score[i, t] = wT * h_{i, t}\n",
    "        # Then softmax over t to get α_{i, t}\n",
    "        attn_scores = self.attn_weight(lstm_out).squeeze(-1)\n",
    "        attn_weights = torch.softmax(attn_scores, dim=1)\n",
    "        # Weighted sum of LSTM outputs:\n",
    "        attn_applied = torch.bmm(attn_weights.unsqueeze(1), lstm_out).squeeze(1)\n",
    "\n",
    "        # Regression to 3D motion\n",
    "        output = self.fc(attn_applied)\n",
    "        return output"
   ]
  },
  {
   "cell_type": "markdown",
   "id": "d216099d",
   "metadata": {},
   "source": [
    "### Initial Analysis"
   ]
  },
  {
   "cell_type": "code",
   "execution_count": 7,
   "id": "314f1612",
   "metadata": {},
   "outputs": [],
   "source": [
    "data_l_epochs = sorted(glob(os.path.join(root_dir, \"**\", 'sub-*_ses-*_eeg-epo.fif'), recursive=True))"
   ]
  },
  {
   "cell_type": "code",
   "execution_count": 8,
   "id": "304627eb",
   "metadata": {},
   "outputs": [],
   "source": [
    "data_l_epochs = [data for data in data_l_epochs if \"ses-03\" not in data]"
   ]
  },
  {
   "cell_type": "code",
   "execution_count": null,
   "id": "a48cc062",
   "metadata": {},
   "outputs": [],
   "source": [
    "X_all = []\n",
    "y_all = []\n",
    "for data in data_l_epochs:\n",
    "    epochs = mne.read_epochs(data, preload=True)\n",
    "    X = epochs.get_data()\n",
    "    event_map = {v: k for k, v in epochs.event_id.items()}\n",
    "    y = [event_map[event[-1]] for event in epochs.events]\n",
    "    X = torch.tensor(X, device=device)\n",
    "\n",
    "    X_all.append(X)\n",
    "    y_all.append(y)"
   ]
  },
  {
   "cell_type": "code",
   "execution_count": null,
   "id": "8b93fcea",
   "metadata": {},
   "outputs": [],
   "source": [
    "# Saving Labels\n",
    "\n",
    "# y_all = np.array(y_all)\n",
    "# unique_labels = sorted(set(y_all.flatten()))\n",
    "# label_mapping = {label: index for index, label in enumerate(unique_labels)}\n",
    "# int_labels = np.vectorize(label_mapping.get)(y_all)\n",
    "# tensor_labels = torch.tensor(int_labels, dtype=torch.long, device=device)\n",
    "# torch.save(tensor_labels,\"data/labels.pth\")"
   ]
  },
  {
   "cell_type": "code",
   "execution_count": null,
   "id": "d006d150",
   "metadata": {},
   "outputs": [],
   "source": [
    "# Loading the Labels\n",
    "tensor_labels = torch.load(\"data/labels.pth\")"
   ]
  },
  {
   "cell_type": "code",
   "execution_count": null,
   "id": "8c717342",
   "metadata": {},
   "outputs": [],
   "source": [
    "X_train = X_all[0:15]"
   ]
  },
  {
   "cell_type": "code",
   "execution_count": null,
   "id": "d959d206",
   "metadata": {},
   "outputs": [],
   "source": [
    "X_test = X_all[15:]"
   ]
  },
  {
   "cell_type": "code",
   "execution_count": null,
   "id": "609bb902",
   "metadata": {},
   "outputs": [],
   "source": [
    "X_test = torch.concat(X_test, dim=0)"
   ]
  },
  {
   "cell_type": "code",
   "execution_count": null,
   "id": "9a009d2e",
   "metadata": {},
   "outputs": [],
   "source": [
    "# 15: 20\n",
    "X_test.shape"
   ]
  },
  {
   "cell_type": "code",
   "execution_count": null,
   "id": "4808cbc4",
   "metadata": {},
   "outputs": [],
   "source": [
    "y_test = tensor_labels[15:]"
   ]
  },
  {
   "cell_type": "code",
   "execution_count": null,
   "id": "60f1ae08",
   "metadata": {},
   "outputs": [],
   "source": [
    "torch.save(y_test, \"data/y_test.pth\")\n",
    "torch.save(X_test, \"data/X_test.pth\")"
   ]
  },
  {
   "cell_type": "code",
   "execution_count": null,
   "id": "72dc32f0",
   "metadata": {},
   "outputs": [],
   "source": [
    "del y_test"
   ]
  },
  {
   "cell_type": "code",
   "execution_count": null,
   "id": "420f0ef3",
   "metadata": {},
   "outputs": [],
   "source": [
    "del X_test"
   ]
  },
  {
   "cell_type": "code",
   "execution_count": null,
   "id": "1004b3d4",
   "metadata": {},
   "outputs": [],
   "source": [
    "gc.collect()"
   ]
  },
  {
   "cell_type": "code",
   "execution_count": null,
   "id": "d2459ad5",
   "metadata": {},
   "outputs": [],
   "source": [
    "X_train = torch.concat(X_train, dim = 0)"
   ]
  },
  {
   "cell_type": "code",
   "execution_count": null,
   "id": "ce6c8a42",
   "metadata": {},
   "outputs": [],
   "source": [
    "torch.save(X_train, \"data/X_train.pth\")"
   ]
  },
  {
   "cell_type": "code",
   "execution_count": null,
   "id": "b50dc20f",
   "metadata": {},
   "outputs": [],
   "source": [
    "y_train = tensor_labels[:15]"
   ]
  },
  {
   "cell_type": "code",
   "execution_count": null,
   "id": "b881b2f5",
   "metadata": {},
   "outputs": [],
   "source": [
    "torch.save(y_train, \"data/y_train.pth\")"
   ]
  },
  {
   "cell_type": "code",
   "execution_count": null,
   "id": "9962ac4a",
   "metadata": {},
   "outputs": [],
   "source": [
    "# Future Progess:\n",
    "# Load the data into a Neural Network\n",
    "# Train the Neural Network on the data\n",
    "# Output predictions from the neural network\n",
    "\n",
    "# Generate synthetic neural signal based on this data\n",
    "# stream the synthetic neural signal to chat-studio using websockets\n",
    "# use an api with the trained neural network to decode the neural signal \n",
    "# display the neural signal as a suggested selection for text input"
   ]
  },
  {
   "cell_type": "markdown",
   "id": "a9d5b42e",
   "metadata": {},
   "source": [
    "## Training a Neural Network"
   ]
  },
  {
   "cell_type": "code",
   "execution_count": 5,
   "id": "f794f1b8",
   "metadata": {},
   "outputs": [
    {
     "name": "stderr",
     "output_type": "stream",
     "text": [
      "/tmp/ipykernel_47751/3539107226.py:1: FutureWarning: You are using `torch.load` with `weights_only=False` (the current default value), which uses the default pickle module implicitly. It is possible to construct malicious pickle data which will execute arbitrary code during unpickling (See https://github.com/pytorch/pytorch/blob/main/SECURITY.md#untrusted-models for more details). In a future release, the default value for `weights_only` will be flipped to `True`. This limits the functions that could be executed during unpickling. Arbitrary objects will no longer be allowed to be loaded via this mode unless they are explicitly allowlisted by the user via `torch.serialization.add_safe_globals`. We recommend you start setting `weights_only=True` for any use case where you don't have full control of the loaded file. Please open an issue on GitHub for any issues related to this experimental feature.\n",
      "  X_train = torch.load(\"data/X_train.pth\")\n",
      "/tmp/ipykernel_47751/3539107226.py:2: FutureWarning: You are using `torch.load` with `weights_only=False` (the current default value), which uses the default pickle module implicitly. It is possible to construct malicious pickle data which will execute arbitrary code during unpickling (See https://github.com/pytorch/pytorch/blob/main/SECURITY.md#untrusted-models for more details). In a future release, the default value for `weights_only` will be flipped to `True`. This limits the functions that could be executed during unpickling. Arbitrary objects will no longer be allowed to be loaded via this mode unless they are explicitly allowlisted by the user via `torch.serialization.add_safe_globals`. We recommend you start setting `weights_only=True` for any use case where you don't have full control of the loaded file. Please open an issue on GitHub for any issues related to this experimental feature.\n",
      "  y_train = torch.load(\"data/y_train.pth\")\n",
      "/tmp/ipykernel_47751/3539107226.py:3: FutureWarning: You are using `torch.load` with `weights_only=False` (the current default value), which uses the default pickle module implicitly. It is possible to construct malicious pickle data which will execute arbitrary code during unpickling (See https://github.com/pytorch/pytorch/blob/main/SECURITY.md#untrusted-models for more details). In a future release, the default value for `weights_only` will be flipped to `True`. This limits the functions that could be executed during unpickling. Arbitrary objects will no longer be allowed to be loaded via this mode unless they are explicitly allowlisted by the user via `torch.serialization.add_safe_globals`. We recommend you start setting `weights_only=True` for any use case where you don't have full control of the loaded file. Please open an issue on GitHub for any issues related to this experimental feature.\n",
      "  X_test = torch.load(\"data/X_test.pth\")\n",
      "/tmp/ipykernel_47751/3539107226.py:4: FutureWarning: You are using `torch.load` with `weights_only=False` (the current default value), which uses the default pickle module implicitly. It is possible to construct malicious pickle data which will execute arbitrary code during unpickling (See https://github.com/pytorch/pytorch/blob/main/SECURITY.md#untrusted-models for more details). In a future release, the default value for `weights_only` will be flipped to `True`. This limits the functions that could be executed during unpickling. Arbitrary objects will no longer be allowed to be loaded via this mode unless they are explicitly allowlisted by the user via `torch.serialization.add_safe_globals`. We recommend you start setting `weights_only=True` for any use case where you don't have full control of the loaded file. Please open an issue on GitHub for any issues related to this experimental feature.\n",
      "  y_test = torch.load(\"data/y_test.pth\")\n"
     ]
    }
   ],
   "source": [
    "X_train = torch.load(\"data/X_train.pth\")\n",
    "y_train = torch.load(\"data/y_train.pth\")\n",
    "X_test = torch.load(\"data/X_test.pth\")\n",
    "y_test = torch.load(\"data/y_test.pth\")"
   ]
  },
  {
   "cell_type": "code",
   "execution_count": null,
   "id": "0200a083",
   "metadata": {},
   "outputs": [],
   "source": [
    "y_train = y_train.cpu().numpy()"
   ]
  },
  {
   "cell_type": "code",
   "execution_count": null,
   "id": "d1cb6f2d",
   "metadata": {},
   "outputs": [],
   "source": [
    "y_train = y_train.cpu().numpy()\n",
    "X_train = X_train.cpu().numpy()"
   ]
  },
  {
   "cell_type": "markdown",
   "id": "ef050304",
   "metadata": {},
   "source": [
    "### Model Definition"
   ]
  },
  {
   "cell_type": "code",
   "execution_count": null,
   "id": "302e7537",
   "metadata": {},
   "outputs": [],
   "source": [
    "X_train.device"
   ]
  },
  {
   "cell_type": "code",
   "execution_count": null,
   "id": "edf342da",
   "metadata": {},
   "outputs": [],
   "source": [
    "X_train_split, X_val_split, y_train_split, y_validation_split = train_test_split(\n",
    "    X_train, y_train, test_size=0.2, random_state=42, stratify=y_train\n",
    ")"
   ]
  },
  {
   "cell_type": "code",
   "execution_count": null,
   "id": "7b3456a2",
   "metadata": {},
   "outputs": [],
   "source": [
    "train_loader = InnerSpeechDataset(X_train_split, y_train_split)\n",
    "val_loader = InnerSpeechDataset(X_val_split, y_validation_split)"
   ]
  },
  {
   "cell_type": "code",
   "execution_count": null,
   "id": "a35500e9",
   "metadata": {},
   "outputs": [],
   "source": [
    "train_loader = InnerSpeechDataset()"
   ]
  },
  {
   "cell_type": "code",
   "execution_count": null,
   "id": "1b8cd916",
   "metadata": {},
   "outputs": [],
   "source": []
  }
 ],
 "metadata": {
  "kernelspec": {
   "display_name": "inner_speech",
   "language": "python",
   "name": "python3"
  },
  "language_info": {
   "codemirror_mode": {
    "name": "ipython",
    "version": 3
   },
   "file_extension": ".py",
   "mimetype": "text/x-python",
   "name": "python",
   "nbconvert_exporter": "python",
   "pygments_lexer": "ipython3",
   "version": "3.8.6"
  }
 },
 "nbformat": 4,
 "nbformat_minor": 5
}
