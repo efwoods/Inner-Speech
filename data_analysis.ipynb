{
 "cells": [
  {
   "cell_type": "markdown",
   "id": "51e5ae36",
   "metadata": {},
   "source": [
    "# [Analyzing an Internal Speech Dataset ](https://www.nature.com/articles/s41597-022-01147-2#Sec2)"
   ]
  },
  {
   "cell_type": "code",
   "execution_count": 1,
   "id": "1c46848b",
   "metadata": {},
   "outputs": [],
   "source": [
    "from dotenv import load_dotenv \n",
    "import os\n",
    "from glob import glob\n",
    "import mne\n",
    "import numpy as np\n",
    "import pickle\n",
    "import torch\n",
    "load_dotenv()\n",
    "root_dir = os.getenv(\"ROOT_DIR\")"
   ]
  },
  {
   "cell_type": "code",
   "execution_count": 2,
   "id": "472e98c6",
   "metadata": {},
   "outputs": [
    {
     "data": {
      "text/plain": [
       "'/media/linux-pc/Stargate/inner-speech/ds003626-download/'"
      ]
     },
     "execution_count": 2,
     "metadata": {},
     "output_type": "execute_result"
    }
   ],
   "source": [
    "root_dir"
   ]
  },
  {
   "cell_type": "code",
   "execution_count": 3,
   "id": "10559979",
   "metadata": {},
   "outputs": [],
   "source": [
    "all_file_l = sorted(glob(os.path.join(root_dir, \"**\", \"*.*\"), recursive=True))"
   ]
  },
  {
   "cell_type": "code",
   "execution_count": 4,
   "id": "2478b711",
   "metadata": {},
   "outputs": [],
   "source": [
    "X_data_l_eeg = sorted(glob(os.path.join(root_dir, \"derivatives\", \"**\", \"**\", \"*.eeg-epo.fif\"), recursive=True))\n",
    "y_data_l_eeg = sorted(glob(os.path.join(root_dir, \"derivatives\", \"**\", \"**\", \"*.events.dat\"), recursive=True))"
   ]
  },
  {
   "cell_type": "code",
   "execution_count": 5,
   "id": "9e94f3da",
   "metadata": {},
   "outputs": [
    {
     "data": {
      "text/plain": [
       "['/media/linux-pc/Stargate/inner-speech/ds003626-download/dataset_description.json',\n",
       " '/media/linux-pc/Stargate/inner-speech/ds003626-download/derivatives/sub-01/ses-01/sub-01_ses-01_baseline-epo.fif',\n",
       " '/media/linux-pc/Stargate/inner-speech/ds003626-download/derivatives/sub-01/ses-01/sub-01_ses-01_eeg-epo.fif',\n",
       " '/media/linux-pc/Stargate/inner-speech/ds003626-download/derivatives/sub-01/ses-01/sub-01_ses-01_events.dat',\n",
       " '/media/linux-pc/Stargate/inner-speech/ds003626-download/derivatives/sub-01/ses-01/sub-01_ses-01_exg-epo.fif',\n",
       " '/media/linux-pc/Stargate/inner-speech/ds003626-download/derivatives/sub-01/ses-01/sub-01_ses-01_report.pkl',\n",
       " '/media/linux-pc/Stargate/inner-speech/ds003626-download/derivatives/sub-01/ses-02/sub-01_ses-02_baseline-epo.fif',\n",
       " '/media/linux-pc/Stargate/inner-speech/ds003626-download/derivatives/sub-01/ses-02/sub-01_ses-02_eeg-epo.fif',\n",
       " '/media/linux-pc/Stargate/inner-speech/ds003626-download/derivatives/sub-01/ses-02/sub-01_ses-02_events.dat',\n",
       " '/media/linux-pc/Stargate/inner-speech/ds003626-download/derivatives/sub-01/ses-02/sub-01_ses-02_exg-epo.fif',\n",
       " '/media/linux-pc/Stargate/inner-speech/ds003626-download/derivatives/sub-01/ses-02/sub-01_ses-02_report.pkl',\n",
       " '/media/linux-pc/Stargate/inner-speech/ds003626-download/derivatives/sub-01/ses-03/sub-01_ses-03_baseline-epo.fif',\n",
       " '/media/linux-pc/Stargate/inner-speech/ds003626-download/derivatives/sub-01/ses-03/sub-01_ses-03_eeg-epo.fif',\n",
       " '/media/linux-pc/Stargate/inner-speech/ds003626-download/derivatives/sub-01/ses-03/sub-01_ses-03_events.dat',\n",
       " '/media/linux-pc/Stargate/inner-speech/ds003626-download/derivatives/sub-01/ses-03/sub-01_ses-03_exg-epo.fif',\n",
       " '/media/linux-pc/Stargate/inner-speech/ds003626-download/derivatives/sub-01/ses-03/sub-01_ses-03_report.pkl',\n",
       " '/media/linux-pc/Stargate/inner-speech/ds003626-download/derivatives/sub-02/ses-01/sub-02_ses-01_baseline-epo.fif',\n",
       " '/media/linux-pc/Stargate/inner-speech/ds003626-download/derivatives/sub-02/ses-01/sub-02_ses-01_eeg-epo.fif',\n",
       " '/media/linux-pc/Stargate/inner-speech/ds003626-download/derivatives/sub-02/ses-01/sub-02_ses-01_events.dat',\n",
       " '/media/linux-pc/Stargate/inner-speech/ds003626-download/derivatives/sub-02/ses-01/sub-02_ses-01_exg-epo.fif',\n",
       " '/media/linux-pc/Stargate/inner-speech/ds003626-download/derivatives/sub-02/ses-01/sub-02_ses-01_report.pkl',\n",
       " '/media/linux-pc/Stargate/inner-speech/ds003626-download/derivatives/sub-02/ses-02/sub-02_ses-02_baseline-epo.fif',\n",
       " '/media/linux-pc/Stargate/inner-speech/ds003626-download/derivatives/sub-02/ses-02/sub-02_ses-02_eeg-epo.fif',\n",
       " '/media/linux-pc/Stargate/inner-speech/ds003626-download/derivatives/sub-02/ses-02/sub-02_ses-02_events.dat',\n",
       " '/media/linux-pc/Stargate/inner-speech/ds003626-download/derivatives/sub-02/ses-02/sub-02_ses-02_exg-epo.fif',\n",
       " '/media/linux-pc/Stargate/inner-speech/ds003626-download/derivatives/sub-02/ses-02/sub-02_ses-02_report.pkl',\n",
       " '/media/linux-pc/Stargate/inner-speech/ds003626-download/derivatives/sub-02/ses-03/sub-02_ses-03_baseline-epo.fif',\n",
       " '/media/linux-pc/Stargate/inner-speech/ds003626-download/derivatives/sub-02/ses-03/sub-02_ses-03_eeg-epo.fif',\n",
       " '/media/linux-pc/Stargate/inner-speech/ds003626-download/derivatives/sub-02/ses-03/sub-02_ses-03_events.dat',\n",
       " '/media/linux-pc/Stargate/inner-speech/ds003626-download/derivatives/sub-02/ses-03/sub-02_ses-03_exg-epo.fif',\n",
       " '/media/linux-pc/Stargate/inner-speech/ds003626-download/derivatives/sub-02/ses-03/sub-02_ses-03_report.pkl',\n",
       " '/media/linux-pc/Stargate/inner-speech/ds003626-download/derivatives/sub-03/ses-01/sub-03_ses-01_baseline-epo.fif',\n",
       " '/media/linux-pc/Stargate/inner-speech/ds003626-download/derivatives/sub-03/ses-01/sub-03_ses-01_eeg-epo.fif',\n",
       " '/media/linux-pc/Stargate/inner-speech/ds003626-download/derivatives/sub-03/ses-01/sub-03_ses-01_events.dat',\n",
       " '/media/linux-pc/Stargate/inner-speech/ds003626-download/derivatives/sub-03/ses-01/sub-03_ses-01_exg-epo.fif',\n",
       " '/media/linux-pc/Stargate/inner-speech/ds003626-download/derivatives/sub-03/ses-01/sub-03_ses-01_report.pkl',\n",
       " '/media/linux-pc/Stargate/inner-speech/ds003626-download/derivatives/sub-03/ses-02/sub-03_ses-02_baseline-epo.fif',\n",
       " '/media/linux-pc/Stargate/inner-speech/ds003626-download/derivatives/sub-03/ses-02/sub-03_ses-02_eeg-epo.fif',\n",
       " '/media/linux-pc/Stargate/inner-speech/ds003626-download/derivatives/sub-03/ses-02/sub-03_ses-02_events.dat',\n",
       " '/media/linux-pc/Stargate/inner-speech/ds003626-download/derivatives/sub-03/ses-02/sub-03_ses-02_exg-epo.fif',\n",
       " '/media/linux-pc/Stargate/inner-speech/ds003626-download/derivatives/sub-03/ses-02/sub-03_ses-02_report.pkl',\n",
       " '/media/linux-pc/Stargate/inner-speech/ds003626-download/derivatives/sub-03/ses-03/sub-03_ses-03_baseline-epo.fif',\n",
       " '/media/linux-pc/Stargate/inner-speech/ds003626-download/derivatives/sub-03/ses-03/sub-03_ses-03_eeg-epo.fif',\n",
       " '/media/linux-pc/Stargate/inner-speech/ds003626-download/derivatives/sub-03/ses-03/sub-03_ses-03_events.dat',\n",
       " '/media/linux-pc/Stargate/inner-speech/ds003626-download/derivatives/sub-03/ses-03/sub-03_ses-03_exg-epo.fif',\n",
       " '/media/linux-pc/Stargate/inner-speech/ds003626-download/derivatives/sub-03/ses-03/sub-03_ses-03_report.pkl',\n",
       " '/media/linux-pc/Stargate/inner-speech/ds003626-download/derivatives/sub-04/ses-01/sub-04_ses-01_baseline-epo.fif',\n",
       " '/media/linux-pc/Stargate/inner-speech/ds003626-download/derivatives/sub-04/ses-01/sub-04_ses-01_eeg-epo.fif',\n",
       " '/media/linux-pc/Stargate/inner-speech/ds003626-download/derivatives/sub-04/ses-01/sub-04_ses-01_events.dat',\n",
       " '/media/linux-pc/Stargate/inner-speech/ds003626-download/derivatives/sub-04/ses-01/sub-04_ses-01_exg-epo.fif',\n",
       " '/media/linux-pc/Stargate/inner-speech/ds003626-download/derivatives/sub-04/ses-01/sub-04_ses-01_report.pkl',\n",
       " '/media/linux-pc/Stargate/inner-speech/ds003626-download/derivatives/sub-04/ses-02/sub-04_ses-02_baseline-epo.fif',\n",
       " '/media/linux-pc/Stargate/inner-speech/ds003626-download/derivatives/sub-04/ses-02/sub-04_ses-02_eeg-epo.fif',\n",
       " '/media/linux-pc/Stargate/inner-speech/ds003626-download/derivatives/sub-04/ses-02/sub-04_ses-02_events.dat',\n",
       " '/media/linux-pc/Stargate/inner-speech/ds003626-download/derivatives/sub-04/ses-02/sub-04_ses-02_exg-epo.fif',\n",
       " '/media/linux-pc/Stargate/inner-speech/ds003626-download/derivatives/sub-04/ses-02/sub-04_ses-02_report.pkl',\n",
       " '/media/linux-pc/Stargate/inner-speech/ds003626-download/derivatives/sub-04/ses-03/sub-04_ses-03_baseline-epo.fif',\n",
       " '/media/linux-pc/Stargate/inner-speech/ds003626-download/derivatives/sub-04/ses-03/sub-04_ses-03_eeg-epo.fif',\n",
       " '/media/linux-pc/Stargate/inner-speech/ds003626-download/derivatives/sub-04/ses-03/sub-04_ses-03_events.dat',\n",
       " '/media/linux-pc/Stargate/inner-speech/ds003626-download/derivatives/sub-04/ses-03/sub-04_ses-03_exg-epo.fif',\n",
       " '/media/linux-pc/Stargate/inner-speech/ds003626-download/derivatives/sub-04/ses-03/sub-04_ses-03_report.pkl',\n",
       " '/media/linux-pc/Stargate/inner-speech/ds003626-download/derivatives/sub-05/ses-01/sub-05_ses-01_baseline-epo.fif',\n",
       " '/media/linux-pc/Stargate/inner-speech/ds003626-download/derivatives/sub-05/ses-01/sub-05_ses-01_eeg-epo.fif',\n",
       " '/media/linux-pc/Stargate/inner-speech/ds003626-download/derivatives/sub-05/ses-01/sub-05_ses-01_events.dat',\n",
       " '/media/linux-pc/Stargate/inner-speech/ds003626-download/derivatives/sub-05/ses-01/sub-05_ses-01_exg-epo.fif',\n",
       " '/media/linux-pc/Stargate/inner-speech/ds003626-download/derivatives/sub-05/ses-01/sub-05_ses-01_report.pkl',\n",
       " '/media/linux-pc/Stargate/inner-speech/ds003626-download/derivatives/sub-05/ses-02/sub-05_ses-02_baseline-epo.fif',\n",
       " '/media/linux-pc/Stargate/inner-speech/ds003626-download/derivatives/sub-05/ses-02/sub-05_ses-02_eeg-epo.fif',\n",
       " '/media/linux-pc/Stargate/inner-speech/ds003626-download/derivatives/sub-05/ses-02/sub-05_ses-02_events.dat',\n",
       " '/media/linux-pc/Stargate/inner-speech/ds003626-download/derivatives/sub-05/ses-02/sub-05_ses-02_exg-epo.fif',\n",
       " '/media/linux-pc/Stargate/inner-speech/ds003626-download/derivatives/sub-05/ses-02/sub-05_ses-02_report.pkl',\n",
       " '/media/linux-pc/Stargate/inner-speech/ds003626-download/derivatives/sub-05/ses-03/sub-05_ses-03_baseline-epo.fif',\n",
       " '/media/linux-pc/Stargate/inner-speech/ds003626-download/derivatives/sub-05/ses-03/sub-05_ses-03_eeg-epo.fif',\n",
       " '/media/linux-pc/Stargate/inner-speech/ds003626-download/derivatives/sub-05/ses-03/sub-05_ses-03_events.dat',\n",
       " '/media/linux-pc/Stargate/inner-speech/ds003626-download/derivatives/sub-05/ses-03/sub-05_ses-03_exg-epo.fif',\n",
       " '/media/linux-pc/Stargate/inner-speech/ds003626-download/derivatives/sub-05/ses-03/sub-05_ses-03_report.pkl',\n",
       " '/media/linux-pc/Stargate/inner-speech/ds003626-download/derivatives/sub-06/ses-01/sub-06_ses-01_baseline-epo.fif',\n",
       " '/media/linux-pc/Stargate/inner-speech/ds003626-download/derivatives/sub-06/ses-01/sub-06_ses-01_eeg-epo.fif',\n",
       " '/media/linux-pc/Stargate/inner-speech/ds003626-download/derivatives/sub-06/ses-01/sub-06_ses-01_events.dat',\n",
       " '/media/linux-pc/Stargate/inner-speech/ds003626-download/derivatives/sub-06/ses-01/sub-06_ses-01_exg-epo.fif',\n",
       " '/media/linux-pc/Stargate/inner-speech/ds003626-download/derivatives/sub-06/ses-01/sub-06_ses-01_report.pkl',\n",
       " '/media/linux-pc/Stargate/inner-speech/ds003626-download/derivatives/sub-06/ses-02/sub-06_ses-02_baseline-epo.fif',\n",
       " '/media/linux-pc/Stargate/inner-speech/ds003626-download/derivatives/sub-06/ses-02/sub-06_ses-02_eeg-epo.fif',\n",
       " '/media/linux-pc/Stargate/inner-speech/ds003626-download/derivatives/sub-06/ses-02/sub-06_ses-02_events.dat',\n",
       " '/media/linux-pc/Stargate/inner-speech/ds003626-download/derivatives/sub-06/ses-02/sub-06_ses-02_exg-epo.fif',\n",
       " '/media/linux-pc/Stargate/inner-speech/ds003626-download/derivatives/sub-06/ses-02/sub-06_ses-02_report.pkl',\n",
       " '/media/linux-pc/Stargate/inner-speech/ds003626-download/derivatives/sub-06/ses-03/sub-06_ses-03_baseline-epo.fif',\n",
       " '/media/linux-pc/Stargate/inner-speech/ds003626-download/derivatives/sub-06/ses-03/sub-06_ses-03_eeg-epo.fif',\n",
       " '/media/linux-pc/Stargate/inner-speech/ds003626-download/derivatives/sub-06/ses-03/sub-06_ses-03_events.dat',\n",
       " '/media/linux-pc/Stargate/inner-speech/ds003626-download/derivatives/sub-06/ses-03/sub-06_ses-03_exg-epo.fif',\n",
       " '/media/linux-pc/Stargate/inner-speech/ds003626-download/derivatives/sub-06/ses-03/sub-06_ses-03_report.pkl',\n",
       " '/media/linux-pc/Stargate/inner-speech/ds003626-download/derivatives/sub-07/ses-01/sub-07_ses-01_baseline-epo.fif',\n",
       " '/media/linux-pc/Stargate/inner-speech/ds003626-download/derivatives/sub-07/ses-01/sub-07_ses-01_eeg-epo.fif',\n",
       " '/media/linux-pc/Stargate/inner-speech/ds003626-download/derivatives/sub-07/ses-01/sub-07_ses-01_events.dat',\n",
       " '/media/linux-pc/Stargate/inner-speech/ds003626-download/derivatives/sub-07/ses-01/sub-07_ses-01_exg-epo.fif',\n",
       " '/media/linux-pc/Stargate/inner-speech/ds003626-download/derivatives/sub-07/ses-01/sub-07_ses-01_report.pkl',\n",
       " '/media/linux-pc/Stargate/inner-speech/ds003626-download/derivatives/sub-07/ses-02/sub-07_ses-02_baseline-epo.fif',\n",
       " '/media/linux-pc/Stargate/inner-speech/ds003626-download/derivatives/sub-07/ses-02/sub-07_ses-02_eeg-epo.fif',\n",
       " '/media/linux-pc/Stargate/inner-speech/ds003626-download/derivatives/sub-07/ses-02/sub-07_ses-02_events.dat',\n",
       " '/media/linux-pc/Stargate/inner-speech/ds003626-download/derivatives/sub-07/ses-02/sub-07_ses-02_exg-epo.fif',\n",
       " '/media/linux-pc/Stargate/inner-speech/ds003626-download/derivatives/sub-07/ses-02/sub-07_ses-02_report.pkl',\n",
       " '/media/linux-pc/Stargate/inner-speech/ds003626-download/derivatives/sub-07/ses-03/sub-07_ses-03_baseline-epo.fif',\n",
       " '/media/linux-pc/Stargate/inner-speech/ds003626-download/derivatives/sub-07/ses-03/sub-07_ses-03_eeg-epo.fif',\n",
       " '/media/linux-pc/Stargate/inner-speech/ds003626-download/derivatives/sub-07/ses-03/sub-07_ses-03_events.dat',\n",
       " '/media/linux-pc/Stargate/inner-speech/ds003626-download/derivatives/sub-07/ses-03/sub-07_ses-03_exg-epo.fif',\n",
       " '/media/linux-pc/Stargate/inner-speech/ds003626-download/derivatives/sub-07/ses-03/sub-07_ses-03_report.pkl',\n",
       " '/media/linux-pc/Stargate/inner-speech/ds003626-download/derivatives/sub-08/ses-01/sub-08_ses-01_baseline-epo.fif',\n",
       " '/media/linux-pc/Stargate/inner-speech/ds003626-download/derivatives/sub-08/ses-01/sub-08_ses-01_eeg-epo.fif',\n",
       " '/media/linux-pc/Stargate/inner-speech/ds003626-download/derivatives/sub-08/ses-01/sub-08_ses-01_events.dat',\n",
       " '/media/linux-pc/Stargate/inner-speech/ds003626-download/derivatives/sub-08/ses-01/sub-08_ses-01_exg-epo.fif',\n",
       " '/media/linux-pc/Stargate/inner-speech/ds003626-download/derivatives/sub-08/ses-01/sub-08_ses-01_report.pkl',\n",
       " '/media/linux-pc/Stargate/inner-speech/ds003626-download/derivatives/sub-08/ses-02/sub-08_ses-02_baseline-epo.fif',\n",
       " '/media/linux-pc/Stargate/inner-speech/ds003626-download/derivatives/sub-08/ses-02/sub-08_ses-02_eeg-epo.fif',\n",
       " '/media/linux-pc/Stargate/inner-speech/ds003626-download/derivatives/sub-08/ses-02/sub-08_ses-02_events.dat',\n",
       " '/media/linux-pc/Stargate/inner-speech/ds003626-download/derivatives/sub-08/ses-02/sub-08_ses-02_exg-epo.fif',\n",
       " '/media/linux-pc/Stargate/inner-speech/ds003626-download/derivatives/sub-08/ses-02/sub-08_ses-02_report.pkl',\n",
       " '/media/linux-pc/Stargate/inner-speech/ds003626-download/derivatives/sub-08/ses-03/sub-08_ses-03_baseline-epo.fif',\n",
       " '/media/linux-pc/Stargate/inner-speech/ds003626-download/derivatives/sub-08/ses-03/sub-08_ses-03_eeg-epo.fif',\n",
       " '/media/linux-pc/Stargate/inner-speech/ds003626-download/derivatives/sub-08/ses-03/sub-08_ses-03_events.dat',\n",
       " '/media/linux-pc/Stargate/inner-speech/ds003626-download/derivatives/sub-08/ses-03/sub-08_ses-03_exg-epo.fif',\n",
       " '/media/linux-pc/Stargate/inner-speech/ds003626-download/derivatives/sub-08/ses-03/sub-08_ses-03_report.pkl',\n",
       " '/media/linux-pc/Stargate/inner-speech/ds003626-download/derivatives/sub-09/ses-01/sub-09_ses-01_baseline-epo.fif',\n",
       " '/media/linux-pc/Stargate/inner-speech/ds003626-download/derivatives/sub-09/ses-01/sub-09_ses-01_eeg-epo.fif',\n",
       " '/media/linux-pc/Stargate/inner-speech/ds003626-download/derivatives/sub-09/ses-01/sub-09_ses-01_events.dat',\n",
       " '/media/linux-pc/Stargate/inner-speech/ds003626-download/derivatives/sub-09/ses-01/sub-09_ses-01_exg-epo.fif',\n",
       " '/media/linux-pc/Stargate/inner-speech/ds003626-download/derivatives/sub-09/ses-01/sub-09_ses-01_report.pkl',\n",
       " '/media/linux-pc/Stargate/inner-speech/ds003626-download/derivatives/sub-09/ses-02/sub-09_ses-02_baseline-epo.fif',\n",
       " '/media/linux-pc/Stargate/inner-speech/ds003626-download/derivatives/sub-09/ses-02/sub-09_ses-02_eeg-epo.fif',\n",
       " '/media/linux-pc/Stargate/inner-speech/ds003626-download/derivatives/sub-09/ses-02/sub-09_ses-02_events.dat',\n",
       " '/media/linux-pc/Stargate/inner-speech/ds003626-download/derivatives/sub-09/ses-02/sub-09_ses-02_exg-epo.fif',\n",
       " '/media/linux-pc/Stargate/inner-speech/ds003626-download/derivatives/sub-09/ses-02/sub-09_ses-02_report.pkl',\n",
       " '/media/linux-pc/Stargate/inner-speech/ds003626-download/derivatives/sub-09/ses-03/sub-09_ses-03_baseline-epo.fif',\n",
       " '/media/linux-pc/Stargate/inner-speech/ds003626-download/derivatives/sub-09/ses-03/sub-09_ses-03_eeg-epo.fif',\n",
       " '/media/linux-pc/Stargate/inner-speech/ds003626-download/derivatives/sub-09/ses-03/sub-09_ses-03_events.dat',\n",
       " '/media/linux-pc/Stargate/inner-speech/ds003626-download/derivatives/sub-09/ses-03/sub-09_ses-03_exg-epo.fif',\n",
       " '/media/linux-pc/Stargate/inner-speech/ds003626-download/derivatives/sub-09/ses-03/sub-09_ses-03_report.pkl',\n",
       " '/media/linux-pc/Stargate/inner-speech/ds003626-download/derivatives/sub-10/ses-01/sub-10_ses-01_baseline-epo.fif',\n",
       " '/media/linux-pc/Stargate/inner-speech/ds003626-download/derivatives/sub-10/ses-01/sub-10_ses-01_eeg-epo.fif',\n",
       " '/media/linux-pc/Stargate/inner-speech/ds003626-download/derivatives/sub-10/ses-01/sub-10_ses-01_events.dat',\n",
       " '/media/linux-pc/Stargate/inner-speech/ds003626-download/derivatives/sub-10/ses-01/sub-10_ses-01_exg-epo.fif',\n",
       " '/media/linux-pc/Stargate/inner-speech/ds003626-download/derivatives/sub-10/ses-01/sub-10_ses-01_report.pkl',\n",
       " '/media/linux-pc/Stargate/inner-speech/ds003626-download/derivatives/sub-10/ses-02/sub-10_ses-02_baseline-epo.fif',\n",
       " '/media/linux-pc/Stargate/inner-speech/ds003626-download/derivatives/sub-10/ses-02/sub-10_ses-02_eeg-epo.fif',\n",
       " '/media/linux-pc/Stargate/inner-speech/ds003626-download/derivatives/sub-10/ses-02/sub-10_ses-02_events.dat',\n",
       " '/media/linux-pc/Stargate/inner-speech/ds003626-download/derivatives/sub-10/ses-02/sub-10_ses-02_exg-epo.fif',\n",
       " '/media/linux-pc/Stargate/inner-speech/ds003626-download/derivatives/sub-10/ses-02/sub-10_ses-02_report.pkl',\n",
       " '/media/linux-pc/Stargate/inner-speech/ds003626-download/derivatives/sub-10/ses-03/sub-10_ses-03_baseline-epo.fif',\n",
       " '/media/linux-pc/Stargate/inner-speech/ds003626-download/derivatives/sub-10/ses-03/sub-10_ses-03_eeg-epo.fif',\n",
       " '/media/linux-pc/Stargate/inner-speech/ds003626-download/derivatives/sub-10/ses-03/sub-10_ses-03_events.dat',\n",
       " '/media/linux-pc/Stargate/inner-speech/ds003626-download/derivatives/sub-10/ses-03/sub-10_ses-03_exg-epo.fif',\n",
       " '/media/linux-pc/Stargate/inner-speech/ds003626-download/derivatives/sub-10/ses-03/sub-10_ses-03_report.pkl',\n",
       " '/media/linux-pc/Stargate/inner-speech/ds003626-download/sub-01/ses-01/eeg/sub-01_ses-01_task-innerspeech_eeg.bdf',\n",
       " '/media/linux-pc/Stargate/inner-speech/ds003626-download/sub-01/ses-02/eeg/sub-01_ses-02_task-innerspeech_eeg.bdf',\n",
       " '/media/linux-pc/Stargate/inner-speech/ds003626-download/sub-01/ses-03/eeg/sub-01_ses-03_task-innerspeech_eeg.bdf',\n",
       " '/media/linux-pc/Stargate/inner-speech/ds003626-download/sub-02/ses-01/eeg/sub-02_ses-01_task-innerspeech_eeg.bdf',\n",
       " '/media/linux-pc/Stargate/inner-speech/ds003626-download/sub-02/ses-02/eeg/sub-02_ses-02_task-innerspeech_eeg.bdf',\n",
       " '/media/linux-pc/Stargate/inner-speech/ds003626-download/sub-02/ses-03/eeg/sub-02_ses-03_task-innerspeech_eeg.bdf',\n",
       " '/media/linux-pc/Stargate/inner-speech/ds003626-download/sub-03/ses-01/eeg/sub-03_ses-01_task-innerspeech_eeg.bdf',\n",
       " '/media/linux-pc/Stargate/inner-speech/ds003626-download/sub-03/ses-02/eeg/sub-03_ses-02_task-innerspeech_eeg.bdf',\n",
       " '/media/linux-pc/Stargate/inner-speech/ds003626-download/sub-03/ses-03/eeg/sub-03_ses-03_task-innerspeech_eeg.bdf',\n",
       " '/media/linux-pc/Stargate/inner-speech/ds003626-download/sub-04/ses-01/eeg/sub-04_ses-01_task-innerspeech_eeg.bdf',\n",
       " '/media/linux-pc/Stargate/inner-speech/ds003626-download/sub-04/ses-02/eeg/sub-04_ses-02_task-innerspeech_eeg.bdf',\n",
       " '/media/linux-pc/Stargate/inner-speech/ds003626-download/sub-04/ses-03/eeg/sub-04_ses-03_task-innerspeech_eeg.bdf',\n",
       " '/media/linux-pc/Stargate/inner-speech/ds003626-download/sub-05/ses-01/eeg/sub-05_ses-01_task-innerspeech_eeg.bdf',\n",
       " '/media/linux-pc/Stargate/inner-speech/ds003626-download/sub-05/ses-02/eeg/sub-05_ses-02_task-innerspeech_eeg.bdf',\n",
       " '/media/linux-pc/Stargate/inner-speech/ds003626-download/sub-05/ses-03/eeg/sub-05_ses-03_task-innerspeech_eeg.bdf',\n",
       " '/media/linux-pc/Stargate/inner-speech/ds003626-download/sub-06/ses-01/eeg/sub-06_ses-01_task-innerspeech_eeg.bdf',\n",
       " '/media/linux-pc/Stargate/inner-speech/ds003626-download/sub-06/ses-02/eeg/sub-06_ses-02_task-innerspeech_eeg.bdf',\n",
       " '/media/linux-pc/Stargate/inner-speech/ds003626-download/sub-06/ses-03/eeg/sub-06_ses-03_task-innerspeech_eeg.bdf',\n",
       " '/media/linux-pc/Stargate/inner-speech/ds003626-download/sub-07/ses-01/eeg/sub-07_ses-01_task-innerspeech_eeg.bdf',\n",
       " '/media/linux-pc/Stargate/inner-speech/ds003626-download/sub-07/ses-02/eeg/sub-07_ses-02_task-innerspeech_eeg.bdf',\n",
       " '/media/linux-pc/Stargate/inner-speech/ds003626-download/sub-07/ses-03/eeg/sub-07_ses-03_task-innerspeech_eeg.bdf',\n",
       " '/media/linux-pc/Stargate/inner-speech/ds003626-download/sub-08/ses-01/eeg/sub-08_ses-01_task-innerspeech_eeg.bdf',\n",
       " '/media/linux-pc/Stargate/inner-speech/ds003626-download/sub-08/ses-02/eeg/sub-08_ses-02_task-innerspeech_eeg.bdf',\n",
       " '/media/linux-pc/Stargate/inner-speech/ds003626-download/sub-08/ses-03/eeg/sub-08_ses-03_task-innerspeech_eeg.bdf',\n",
       " '/media/linux-pc/Stargate/inner-speech/ds003626-download/sub-09/ses-01/eeg/sub-09_ses-01_task-innerspeech_eeg.bdf',\n",
       " '/media/linux-pc/Stargate/inner-speech/ds003626-download/sub-09/ses-02/eeg/sub-09_ses-02_task-innerspeech_eeg.bdf',\n",
       " '/media/linux-pc/Stargate/inner-speech/ds003626-download/sub-09/ses-03/eeg/sub-09_ses-03_task-innerspeech_eeg.bdf',\n",
       " '/media/linux-pc/Stargate/inner-speech/ds003626-download/sub-10/ses-01/eeg/sub-10_ses-01_task-innerspeech_eeg.bdf',\n",
       " '/media/linux-pc/Stargate/inner-speech/ds003626-download/sub-10/ses-02/eeg/sub-10_ses-02_task-innerspeech_eeg.bdf',\n",
       " '/media/linux-pc/Stargate/inner-speech/ds003626-download/sub-10/ses-03/eeg/sub-10_ses-03_task-innerspeech_eeg.bdf']"
      ]
     },
     "execution_count": 5,
     "metadata": {},
     "output_type": "execute_result"
    }
   ],
   "source": [
    "all_file_l"
   ]
  },
  {
   "cell_type": "code",
   "execution_count": 6,
   "id": "8e604757",
   "metadata": {},
   "outputs": [],
   "source": [
    "bdf_file_l = sorted(glob(os.path.join(root_dir, \"**\", \"*.bdf\"), recursive=True))"
   ]
  },
  {
   "cell_type": "code",
   "execution_count": 7,
   "id": "e2333b1f",
   "metadata": {},
   "outputs": [
    {
     "data": {
      "text/plain": [
       "['/media/linux-pc/Stargate/inner-speech/ds003626-download/sub-01/ses-01/eeg/sub-01_ses-01_task-innerspeech_eeg.bdf',\n",
       " '/media/linux-pc/Stargate/inner-speech/ds003626-download/sub-01/ses-02/eeg/sub-01_ses-02_task-innerspeech_eeg.bdf',\n",
       " '/media/linux-pc/Stargate/inner-speech/ds003626-download/sub-01/ses-03/eeg/sub-01_ses-03_task-innerspeech_eeg.bdf',\n",
       " '/media/linux-pc/Stargate/inner-speech/ds003626-download/sub-02/ses-01/eeg/sub-02_ses-01_task-innerspeech_eeg.bdf',\n",
       " '/media/linux-pc/Stargate/inner-speech/ds003626-download/sub-02/ses-02/eeg/sub-02_ses-02_task-innerspeech_eeg.bdf']"
      ]
     },
     "execution_count": 7,
     "metadata": {},
     "output_type": "execute_result"
    }
   ],
   "source": [
    "bdf_file_l[:5]"
   ]
  },
  {
   "cell_type": "code",
   "execution_count": 8,
   "id": "8e0c6643",
   "metadata": {},
   "outputs": [],
   "source": [
    "bdf_path = bdf_file_l[0]"
   ]
  },
  {
   "cell_type": "code",
   "execution_count": 9,
   "id": "c6cd8ae6",
   "metadata": {},
   "outputs": [
    {
     "name": "stdout",
     "output_type": "stream",
     "text": [
      "Extracting EDF parameters from /media/linux-pc/Stargate/inner-speech/ds003626-download/sub-01/ses-01/eeg/sub-01_ses-01_task-innerspeech_eeg.bdf...\n",
      "BDF file detected\n",
      "Setting channel info structure...\n",
      "Creating raw.info structure...\n",
      "Reading 0 ... 1875967  =      0.000 ...  1831.999 secs...\n"
     ]
    }
   ],
   "source": [
    "raw = mne.io.read_raw_bdf(bdf_path, preload=True)"
   ]
  },
  {
   "cell_type": "code",
   "execution_count": 13,
   "id": "8557de2b",
   "metadata": {},
   "outputs": [
    {
     "name": "stdout",
     "output_type": "stream",
     "text": [
      "<Info | 7 non-empty values\n",
      " bads: []\n",
      " ch_names: A1, A2, A3, A4, A5, A6, A7, A8, A9, A10, A11, A12, A13, A14, ...\n",
      " chs: 136 EEG, 1 STIM\n",
      " custom_ref_applied: False\n",
      " highpass: 0.0 Hz\n",
      " lowpass: 208.0 Hz\n",
      " meas_date: 2019-08-20 10:57:41 UTC\n",
      " nchan: 137\n",
      " projs: []\n",
      " sfreq: 1024.0 Hz\n",
      ">\n"
     ]
    }
   ],
   "source": [
    "print(raw.info)"
   ]
  },
  {
   "cell_type": "code",
   "execution_count": 14,
   "id": "5159b3c6",
   "metadata": {},
   "outputs": [
    {
     "name": "stdout",
     "output_type": "stream",
     "text": [
      "Event labels and IDs: {}\n"
     ]
    }
   ],
   "source": [
    "events, event_id = mne.events_from_annotations(raw)\n",
    "print(\"Event labels and IDs:\", event_id)"
   ]
  },
  {
   "cell_type": "code",
   "execution_count": 15,
   "id": "6f7e718c",
   "metadata": {},
   "outputs": [
    {
     "data": {
      "text/plain": [
       "'/media/linux-pc/Stargate/inner-speech/ds003626-download/derivatives/sub-01/ses-01/sub-01_ses-01_baseline-epo.fif'"
      ]
     },
     "execution_count": 15,
     "metadata": {},
     "output_type": "execute_result"
    }
   ],
   "source": [
    "all_file_l[1]"
   ]
  },
  {
   "cell_type": "code",
   "execution_count": 16,
   "id": "6510d779",
   "metadata": {},
   "outputs": [],
   "source": [
    "eeg_epochs_path = all_file_l[1]"
   ]
  },
  {
   "cell_type": "code",
   "execution_count": 17,
   "id": "925a6cb4",
   "metadata": {},
   "outputs": [
    {
     "name": "stdout",
     "output_type": "stream",
     "text": [
      "Reading /media/linux-pc/Stargate/inner-speech/ds003626-download/derivatives/sub-01/ses-01/sub-01_ses-01_baseline-epo.fif ...\n",
      "Isotrak not found\n",
      "    Found the data of interest:\n",
      "        t =       0.00 ...   15000.00 ms\n",
      "        0 CTF compensation matrices available\n",
      "Not setting metadata\n",
      "Not setting metadata\n",
      "1 matching events found\n",
      "No baseline correction applied\n",
      "0 projection items activated\n"
     ]
    }
   ],
   "source": [
    "epochs = mne.read_epochs(eeg_epochs_path, preload=True)"
   ]
  },
  {
   "cell_type": "code",
   "execution_count": 18,
   "id": "4ddbd4df",
   "metadata": {},
   "outputs": [
    {
     "name": "stdout",
     "output_type": "stream",
     "text": [
      "<EpochsFIF |  1 events (all good), 0 - 15 sec, baseline off, ~4.2 MB, data loaded,\n",
      " 'Baseline': 1>\n"
     ]
    }
   ],
   "source": [
    "print(epochs)"
   ]
  },
  {
   "cell_type": "code",
   "execution_count": 19,
   "id": "8c6a5b0a",
   "metadata": {},
   "outputs": [
    {
     "data": {
      "text/plain": [
       "{'Baseline': 13}"
      ]
     },
     "execution_count": 19,
     "metadata": {},
     "output_type": "execute_result"
    }
   ],
   "source": [
    "epochs.event_id"
   ]
  },
  {
   "cell_type": "code",
   "execution_count": 20,
   "id": "38928d72",
   "metadata": {},
   "outputs": [
    {
     "data": {
      "text/plain": [
       "['/media/linux-pc/Stargate/inner-speech/ds003626-download/dataset_description.json',\n",
       " '/media/linux-pc/Stargate/inner-speech/ds003626-download/derivatives/sub-01/ses-01/sub-01_ses-01_baseline-epo.fif',\n",
       " '/media/linux-pc/Stargate/inner-speech/ds003626-download/derivatives/sub-01/ses-01/sub-01_ses-01_eeg-epo.fif',\n",
       " '/media/linux-pc/Stargate/inner-speech/ds003626-download/derivatives/sub-01/ses-01/sub-01_ses-01_events.dat',\n",
       " '/media/linux-pc/Stargate/inner-speech/ds003626-download/derivatives/sub-01/ses-01/sub-01_ses-01_exg-epo.fif',\n",
       " '/media/linux-pc/Stargate/inner-speech/ds003626-download/derivatives/sub-01/ses-01/sub-01_ses-01_report.pkl',\n",
       " '/media/linux-pc/Stargate/inner-speech/ds003626-download/derivatives/sub-01/ses-02/sub-01_ses-02_baseline-epo.fif',\n",
       " '/media/linux-pc/Stargate/inner-speech/ds003626-download/derivatives/sub-01/ses-02/sub-01_ses-02_eeg-epo.fif',\n",
       " '/media/linux-pc/Stargate/inner-speech/ds003626-download/derivatives/sub-01/ses-02/sub-01_ses-02_events.dat',\n",
       " '/media/linux-pc/Stargate/inner-speech/ds003626-download/derivatives/sub-01/ses-02/sub-01_ses-02_exg-epo.fif',\n",
       " '/media/linux-pc/Stargate/inner-speech/ds003626-download/derivatives/sub-01/ses-02/sub-01_ses-02_report.pkl',\n",
       " '/media/linux-pc/Stargate/inner-speech/ds003626-download/derivatives/sub-01/ses-03/sub-01_ses-03_baseline-epo.fif',\n",
       " '/media/linux-pc/Stargate/inner-speech/ds003626-download/derivatives/sub-01/ses-03/sub-01_ses-03_eeg-epo.fif',\n",
       " '/media/linux-pc/Stargate/inner-speech/ds003626-download/derivatives/sub-01/ses-03/sub-01_ses-03_events.dat',\n",
       " '/media/linux-pc/Stargate/inner-speech/ds003626-download/derivatives/sub-01/ses-03/sub-01_ses-03_exg-epo.fif',\n",
       " '/media/linux-pc/Stargate/inner-speech/ds003626-download/derivatives/sub-01/ses-03/sub-01_ses-03_report.pkl',\n",
       " '/media/linux-pc/Stargate/inner-speech/ds003626-download/derivatives/sub-02/ses-01/sub-02_ses-01_baseline-epo.fif',\n",
       " '/media/linux-pc/Stargate/inner-speech/ds003626-download/derivatives/sub-02/ses-01/sub-02_ses-01_eeg-epo.fif',\n",
       " '/media/linux-pc/Stargate/inner-speech/ds003626-download/derivatives/sub-02/ses-01/sub-02_ses-01_events.dat',\n",
       " '/media/linux-pc/Stargate/inner-speech/ds003626-download/derivatives/sub-02/ses-01/sub-02_ses-01_exg-epo.fif',\n",
       " '/media/linux-pc/Stargate/inner-speech/ds003626-download/derivatives/sub-02/ses-01/sub-02_ses-01_report.pkl',\n",
       " '/media/linux-pc/Stargate/inner-speech/ds003626-download/derivatives/sub-02/ses-02/sub-02_ses-02_baseline-epo.fif',\n",
       " '/media/linux-pc/Stargate/inner-speech/ds003626-download/derivatives/sub-02/ses-02/sub-02_ses-02_eeg-epo.fif',\n",
       " '/media/linux-pc/Stargate/inner-speech/ds003626-download/derivatives/sub-02/ses-02/sub-02_ses-02_events.dat',\n",
       " '/media/linux-pc/Stargate/inner-speech/ds003626-download/derivatives/sub-02/ses-02/sub-02_ses-02_exg-epo.fif',\n",
       " '/media/linux-pc/Stargate/inner-speech/ds003626-download/derivatives/sub-02/ses-02/sub-02_ses-02_report.pkl',\n",
       " '/media/linux-pc/Stargate/inner-speech/ds003626-download/derivatives/sub-02/ses-03/sub-02_ses-03_baseline-epo.fif',\n",
       " '/media/linux-pc/Stargate/inner-speech/ds003626-download/derivatives/sub-02/ses-03/sub-02_ses-03_eeg-epo.fif',\n",
       " '/media/linux-pc/Stargate/inner-speech/ds003626-download/derivatives/sub-02/ses-03/sub-02_ses-03_events.dat',\n",
       " '/media/linux-pc/Stargate/inner-speech/ds003626-download/derivatives/sub-02/ses-03/sub-02_ses-03_exg-epo.fif',\n",
       " '/media/linux-pc/Stargate/inner-speech/ds003626-download/derivatives/sub-02/ses-03/sub-02_ses-03_report.pkl',\n",
       " '/media/linux-pc/Stargate/inner-speech/ds003626-download/derivatives/sub-03/ses-01/sub-03_ses-01_baseline-epo.fif',\n",
       " '/media/linux-pc/Stargate/inner-speech/ds003626-download/derivatives/sub-03/ses-01/sub-03_ses-01_eeg-epo.fif',\n",
       " '/media/linux-pc/Stargate/inner-speech/ds003626-download/derivatives/sub-03/ses-01/sub-03_ses-01_events.dat',\n",
       " '/media/linux-pc/Stargate/inner-speech/ds003626-download/derivatives/sub-03/ses-01/sub-03_ses-01_exg-epo.fif',\n",
       " '/media/linux-pc/Stargate/inner-speech/ds003626-download/derivatives/sub-03/ses-01/sub-03_ses-01_report.pkl',\n",
       " '/media/linux-pc/Stargate/inner-speech/ds003626-download/derivatives/sub-03/ses-02/sub-03_ses-02_baseline-epo.fif',\n",
       " '/media/linux-pc/Stargate/inner-speech/ds003626-download/derivatives/sub-03/ses-02/sub-03_ses-02_eeg-epo.fif',\n",
       " '/media/linux-pc/Stargate/inner-speech/ds003626-download/derivatives/sub-03/ses-02/sub-03_ses-02_events.dat',\n",
       " '/media/linux-pc/Stargate/inner-speech/ds003626-download/derivatives/sub-03/ses-02/sub-03_ses-02_exg-epo.fif',\n",
       " '/media/linux-pc/Stargate/inner-speech/ds003626-download/derivatives/sub-03/ses-02/sub-03_ses-02_report.pkl',\n",
       " '/media/linux-pc/Stargate/inner-speech/ds003626-download/derivatives/sub-03/ses-03/sub-03_ses-03_baseline-epo.fif',\n",
       " '/media/linux-pc/Stargate/inner-speech/ds003626-download/derivatives/sub-03/ses-03/sub-03_ses-03_eeg-epo.fif',\n",
       " '/media/linux-pc/Stargate/inner-speech/ds003626-download/derivatives/sub-03/ses-03/sub-03_ses-03_events.dat',\n",
       " '/media/linux-pc/Stargate/inner-speech/ds003626-download/derivatives/sub-03/ses-03/sub-03_ses-03_exg-epo.fif',\n",
       " '/media/linux-pc/Stargate/inner-speech/ds003626-download/derivatives/sub-03/ses-03/sub-03_ses-03_report.pkl',\n",
       " '/media/linux-pc/Stargate/inner-speech/ds003626-download/derivatives/sub-04/ses-01/sub-04_ses-01_baseline-epo.fif',\n",
       " '/media/linux-pc/Stargate/inner-speech/ds003626-download/derivatives/sub-04/ses-01/sub-04_ses-01_eeg-epo.fif',\n",
       " '/media/linux-pc/Stargate/inner-speech/ds003626-download/derivatives/sub-04/ses-01/sub-04_ses-01_events.dat',\n",
       " '/media/linux-pc/Stargate/inner-speech/ds003626-download/derivatives/sub-04/ses-01/sub-04_ses-01_exg-epo.fif',\n",
       " '/media/linux-pc/Stargate/inner-speech/ds003626-download/derivatives/sub-04/ses-01/sub-04_ses-01_report.pkl',\n",
       " '/media/linux-pc/Stargate/inner-speech/ds003626-download/derivatives/sub-04/ses-02/sub-04_ses-02_baseline-epo.fif',\n",
       " '/media/linux-pc/Stargate/inner-speech/ds003626-download/derivatives/sub-04/ses-02/sub-04_ses-02_eeg-epo.fif',\n",
       " '/media/linux-pc/Stargate/inner-speech/ds003626-download/derivatives/sub-04/ses-02/sub-04_ses-02_events.dat',\n",
       " '/media/linux-pc/Stargate/inner-speech/ds003626-download/derivatives/sub-04/ses-02/sub-04_ses-02_exg-epo.fif',\n",
       " '/media/linux-pc/Stargate/inner-speech/ds003626-download/derivatives/sub-04/ses-02/sub-04_ses-02_report.pkl',\n",
       " '/media/linux-pc/Stargate/inner-speech/ds003626-download/derivatives/sub-04/ses-03/sub-04_ses-03_baseline-epo.fif',\n",
       " '/media/linux-pc/Stargate/inner-speech/ds003626-download/derivatives/sub-04/ses-03/sub-04_ses-03_eeg-epo.fif',\n",
       " '/media/linux-pc/Stargate/inner-speech/ds003626-download/derivatives/sub-04/ses-03/sub-04_ses-03_events.dat',\n",
       " '/media/linux-pc/Stargate/inner-speech/ds003626-download/derivatives/sub-04/ses-03/sub-04_ses-03_exg-epo.fif',\n",
       " '/media/linux-pc/Stargate/inner-speech/ds003626-download/derivatives/sub-04/ses-03/sub-04_ses-03_report.pkl',\n",
       " '/media/linux-pc/Stargate/inner-speech/ds003626-download/derivatives/sub-05/ses-01/sub-05_ses-01_baseline-epo.fif',\n",
       " '/media/linux-pc/Stargate/inner-speech/ds003626-download/derivatives/sub-05/ses-01/sub-05_ses-01_eeg-epo.fif',\n",
       " '/media/linux-pc/Stargate/inner-speech/ds003626-download/derivatives/sub-05/ses-01/sub-05_ses-01_events.dat',\n",
       " '/media/linux-pc/Stargate/inner-speech/ds003626-download/derivatives/sub-05/ses-01/sub-05_ses-01_exg-epo.fif',\n",
       " '/media/linux-pc/Stargate/inner-speech/ds003626-download/derivatives/sub-05/ses-01/sub-05_ses-01_report.pkl',\n",
       " '/media/linux-pc/Stargate/inner-speech/ds003626-download/derivatives/sub-05/ses-02/sub-05_ses-02_baseline-epo.fif',\n",
       " '/media/linux-pc/Stargate/inner-speech/ds003626-download/derivatives/sub-05/ses-02/sub-05_ses-02_eeg-epo.fif',\n",
       " '/media/linux-pc/Stargate/inner-speech/ds003626-download/derivatives/sub-05/ses-02/sub-05_ses-02_events.dat',\n",
       " '/media/linux-pc/Stargate/inner-speech/ds003626-download/derivatives/sub-05/ses-02/sub-05_ses-02_exg-epo.fif',\n",
       " '/media/linux-pc/Stargate/inner-speech/ds003626-download/derivatives/sub-05/ses-02/sub-05_ses-02_report.pkl',\n",
       " '/media/linux-pc/Stargate/inner-speech/ds003626-download/derivatives/sub-05/ses-03/sub-05_ses-03_baseline-epo.fif',\n",
       " '/media/linux-pc/Stargate/inner-speech/ds003626-download/derivatives/sub-05/ses-03/sub-05_ses-03_eeg-epo.fif',\n",
       " '/media/linux-pc/Stargate/inner-speech/ds003626-download/derivatives/sub-05/ses-03/sub-05_ses-03_events.dat',\n",
       " '/media/linux-pc/Stargate/inner-speech/ds003626-download/derivatives/sub-05/ses-03/sub-05_ses-03_exg-epo.fif',\n",
       " '/media/linux-pc/Stargate/inner-speech/ds003626-download/derivatives/sub-05/ses-03/sub-05_ses-03_report.pkl',\n",
       " '/media/linux-pc/Stargate/inner-speech/ds003626-download/derivatives/sub-06/ses-01/sub-06_ses-01_baseline-epo.fif',\n",
       " '/media/linux-pc/Stargate/inner-speech/ds003626-download/derivatives/sub-06/ses-01/sub-06_ses-01_eeg-epo.fif',\n",
       " '/media/linux-pc/Stargate/inner-speech/ds003626-download/derivatives/sub-06/ses-01/sub-06_ses-01_events.dat',\n",
       " '/media/linux-pc/Stargate/inner-speech/ds003626-download/derivatives/sub-06/ses-01/sub-06_ses-01_exg-epo.fif',\n",
       " '/media/linux-pc/Stargate/inner-speech/ds003626-download/derivatives/sub-06/ses-01/sub-06_ses-01_report.pkl',\n",
       " '/media/linux-pc/Stargate/inner-speech/ds003626-download/derivatives/sub-06/ses-02/sub-06_ses-02_baseline-epo.fif',\n",
       " '/media/linux-pc/Stargate/inner-speech/ds003626-download/derivatives/sub-06/ses-02/sub-06_ses-02_eeg-epo.fif',\n",
       " '/media/linux-pc/Stargate/inner-speech/ds003626-download/derivatives/sub-06/ses-02/sub-06_ses-02_events.dat',\n",
       " '/media/linux-pc/Stargate/inner-speech/ds003626-download/derivatives/sub-06/ses-02/sub-06_ses-02_exg-epo.fif',\n",
       " '/media/linux-pc/Stargate/inner-speech/ds003626-download/derivatives/sub-06/ses-02/sub-06_ses-02_report.pkl',\n",
       " '/media/linux-pc/Stargate/inner-speech/ds003626-download/derivatives/sub-06/ses-03/sub-06_ses-03_baseline-epo.fif',\n",
       " '/media/linux-pc/Stargate/inner-speech/ds003626-download/derivatives/sub-06/ses-03/sub-06_ses-03_eeg-epo.fif',\n",
       " '/media/linux-pc/Stargate/inner-speech/ds003626-download/derivatives/sub-06/ses-03/sub-06_ses-03_events.dat',\n",
       " '/media/linux-pc/Stargate/inner-speech/ds003626-download/derivatives/sub-06/ses-03/sub-06_ses-03_exg-epo.fif',\n",
       " '/media/linux-pc/Stargate/inner-speech/ds003626-download/derivatives/sub-06/ses-03/sub-06_ses-03_report.pkl',\n",
       " '/media/linux-pc/Stargate/inner-speech/ds003626-download/derivatives/sub-07/ses-01/sub-07_ses-01_baseline-epo.fif',\n",
       " '/media/linux-pc/Stargate/inner-speech/ds003626-download/derivatives/sub-07/ses-01/sub-07_ses-01_eeg-epo.fif',\n",
       " '/media/linux-pc/Stargate/inner-speech/ds003626-download/derivatives/sub-07/ses-01/sub-07_ses-01_events.dat',\n",
       " '/media/linux-pc/Stargate/inner-speech/ds003626-download/derivatives/sub-07/ses-01/sub-07_ses-01_exg-epo.fif',\n",
       " '/media/linux-pc/Stargate/inner-speech/ds003626-download/derivatives/sub-07/ses-01/sub-07_ses-01_report.pkl',\n",
       " '/media/linux-pc/Stargate/inner-speech/ds003626-download/derivatives/sub-07/ses-02/sub-07_ses-02_baseline-epo.fif',\n",
       " '/media/linux-pc/Stargate/inner-speech/ds003626-download/derivatives/sub-07/ses-02/sub-07_ses-02_eeg-epo.fif',\n",
       " '/media/linux-pc/Stargate/inner-speech/ds003626-download/derivatives/sub-07/ses-02/sub-07_ses-02_events.dat',\n",
       " '/media/linux-pc/Stargate/inner-speech/ds003626-download/derivatives/sub-07/ses-02/sub-07_ses-02_exg-epo.fif',\n",
       " '/media/linux-pc/Stargate/inner-speech/ds003626-download/derivatives/sub-07/ses-02/sub-07_ses-02_report.pkl',\n",
       " '/media/linux-pc/Stargate/inner-speech/ds003626-download/derivatives/sub-07/ses-03/sub-07_ses-03_baseline-epo.fif',\n",
       " '/media/linux-pc/Stargate/inner-speech/ds003626-download/derivatives/sub-07/ses-03/sub-07_ses-03_eeg-epo.fif',\n",
       " '/media/linux-pc/Stargate/inner-speech/ds003626-download/derivatives/sub-07/ses-03/sub-07_ses-03_events.dat',\n",
       " '/media/linux-pc/Stargate/inner-speech/ds003626-download/derivatives/sub-07/ses-03/sub-07_ses-03_exg-epo.fif',\n",
       " '/media/linux-pc/Stargate/inner-speech/ds003626-download/derivatives/sub-07/ses-03/sub-07_ses-03_report.pkl',\n",
       " '/media/linux-pc/Stargate/inner-speech/ds003626-download/derivatives/sub-08/ses-01/sub-08_ses-01_baseline-epo.fif',\n",
       " '/media/linux-pc/Stargate/inner-speech/ds003626-download/derivatives/sub-08/ses-01/sub-08_ses-01_eeg-epo.fif',\n",
       " '/media/linux-pc/Stargate/inner-speech/ds003626-download/derivatives/sub-08/ses-01/sub-08_ses-01_events.dat',\n",
       " '/media/linux-pc/Stargate/inner-speech/ds003626-download/derivatives/sub-08/ses-01/sub-08_ses-01_exg-epo.fif',\n",
       " '/media/linux-pc/Stargate/inner-speech/ds003626-download/derivatives/sub-08/ses-01/sub-08_ses-01_report.pkl',\n",
       " '/media/linux-pc/Stargate/inner-speech/ds003626-download/derivatives/sub-08/ses-02/sub-08_ses-02_baseline-epo.fif',\n",
       " '/media/linux-pc/Stargate/inner-speech/ds003626-download/derivatives/sub-08/ses-02/sub-08_ses-02_eeg-epo.fif',\n",
       " '/media/linux-pc/Stargate/inner-speech/ds003626-download/derivatives/sub-08/ses-02/sub-08_ses-02_events.dat',\n",
       " '/media/linux-pc/Stargate/inner-speech/ds003626-download/derivatives/sub-08/ses-02/sub-08_ses-02_exg-epo.fif',\n",
       " '/media/linux-pc/Stargate/inner-speech/ds003626-download/derivatives/sub-08/ses-02/sub-08_ses-02_report.pkl',\n",
       " '/media/linux-pc/Stargate/inner-speech/ds003626-download/derivatives/sub-08/ses-03/sub-08_ses-03_baseline-epo.fif',\n",
       " '/media/linux-pc/Stargate/inner-speech/ds003626-download/derivatives/sub-08/ses-03/sub-08_ses-03_eeg-epo.fif',\n",
       " '/media/linux-pc/Stargate/inner-speech/ds003626-download/derivatives/sub-08/ses-03/sub-08_ses-03_events.dat',\n",
       " '/media/linux-pc/Stargate/inner-speech/ds003626-download/derivatives/sub-08/ses-03/sub-08_ses-03_exg-epo.fif',\n",
       " '/media/linux-pc/Stargate/inner-speech/ds003626-download/derivatives/sub-08/ses-03/sub-08_ses-03_report.pkl',\n",
       " '/media/linux-pc/Stargate/inner-speech/ds003626-download/derivatives/sub-09/ses-01/sub-09_ses-01_baseline-epo.fif',\n",
       " '/media/linux-pc/Stargate/inner-speech/ds003626-download/derivatives/sub-09/ses-01/sub-09_ses-01_eeg-epo.fif',\n",
       " '/media/linux-pc/Stargate/inner-speech/ds003626-download/derivatives/sub-09/ses-01/sub-09_ses-01_events.dat',\n",
       " '/media/linux-pc/Stargate/inner-speech/ds003626-download/derivatives/sub-09/ses-01/sub-09_ses-01_exg-epo.fif',\n",
       " '/media/linux-pc/Stargate/inner-speech/ds003626-download/derivatives/sub-09/ses-01/sub-09_ses-01_report.pkl',\n",
       " '/media/linux-pc/Stargate/inner-speech/ds003626-download/derivatives/sub-09/ses-02/sub-09_ses-02_baseline-epo.fif',\n",
       " '/media/linux-pc/Stargate/inner-speech/ds003626-download/derivatives/sub-09/ses-02/sub-09_ses-02_eeg-epo.fif',\n",
       " '/media/linux-pc/Stargate/inner-speech/ds003626-download/derivatives/sub-09/ses-02/sub-09_ses-02_events.dat',\n",
       " '/media/linux-pc/Stargate/inner-speech/ds003626-download/derivatives/sub-09/ses-02/sub-09_ses-02_exg-epo.fif',\n",
       " '/media/linux-pc/Stargate/inner-speech/ds003626-download/derivatives/sub-09/ses-02/sub-09_ses-02_report.pkl',\n",
       " '/media/linux-pc/Stargate/inner-speech/ds003626-download/derivatives/sub-09/ses-03/sub-09_ses-03_baseline-epo.fif',\n",
       " '/media/linux-pc/Stargate/inner-speech/ds003626-download/derivatives/sub-09/ses-03/sub-09_ses-03_eeg-epo.fif',\n",
       " '/media/linux-pc/Stargate/inner-speech/ds003626-download/derivatives/sub-09/ses-03/sub-09_ses-03_events.dat',\n",
       " '/media/linux-pc/Stargate/inner-speech/ds003626-download/derivatives/sub-09/ses-03/sub-09_ses-03_exg-epo.fif',\n",
       " '/media/linux-pc/Stargate/inner-speech/ds003626-download/derivatives/sub-09/ses-03/sub-09_ses-03_report.pkl',\n",
       " '/media/linux-pc/Stargate/inner-speech/ds003626-download/derivatives/sub-10/ses-01/sub-10_ses-01_baseline-epo.fif',\n",
       " '/media/linux-pc/Stargate/inner-speech/ds003626-download/derivatives/sub-10/ses-01/sub-10_ses-01_eeg-epo.fif',\n",
       " '/media/linux-pc/Stargate/inner-speech/ds003626-download/derivatives/sub-10/ses-01/sub-10_ses-01_events.dat',\n",
       " '/media/linux-pc/Stargate/inner-speech/ds003626-download/derivatives/sub-10/ses-01/sub-10_ses-01_exg-epo.fif',\n",
       " '/media/linux-pc/Stargate/inner-speech/ds003626-download/derivatives/sub-10/ses-01/sub-10_ses-01_report.pkl',\n",
       " '/media/linux-pc/Stargate/inner-speech/ds003626-download/derivatives/sub-10/ses-02/sub-10_ses-02_baseline-epo.fif',\n",
       " '/media/linux-pc/Stargate/inner-speech/ds003626-download/derivatives/sub-10/ses-02/sub-10_ses-02_eeg-epo.fif',\n",
       " '/media/linux-pc/Stargate/inner-speech/ds003626-download/derivatives/sub-10/ses-02/sub-10_ses-02_events.dat',\n",
       " '/media/linux-pc/Stargate/inner-speech/ds003626-download/derivatives/sub-10/ses-02/sub-10_ses-02_exg-epo.fif',\n",
       " '/media/linux-pc/Stargate/inner-speech/ds003626-download/derivatives/sub-10/ses-02/sub-10_ses-02_report.pkl',\n",
       " '/media/linux-pc/Stargate/inner-speech/ds003626-download/derivatives/sub-10/ses-03/sub-10_ses-03_baseline-epo.fif',\n",
       " '/media/linux-pc/Stargate/inner-speech/ds003626-download/derivatives/sub-10/ses-03/sub-10_ses-03_eeg-epo.fif',\n",
       " '/media/linux-pc/Stargate/inner-speech/ds003626-download/derivatives/sub-10/ses-03/sub-10_ses-03_events.dat',\n",
       " '/media/linux-pc/Stargate/inner-speech/ds003626-download/derivatives/sub-10/ses-03/sub-10_ses-03_exg-epo.fif',\n",
       " '/media/linux-pc/Stargate/inner-speech/ds003626-download/derivatives/sub-10/ses-03/sub-10_ses-03_report.pkl',\n",
       " '/media/linux-pc/Stargate/inner-speech/ds003626-download/sub-01/ses-01/eeg/sub-01_ses-01_task-innerspeech_eeg.bdf',\n",
       " '/media/linux-pc/Stargate/inner-speech/ds003626-download/sub-01/ses-02/eeg/sub-01_ses-02_task-innerspeech_eeg.bdf',\n",
       " '/media/linux-pc/Stargate/inner-speech/ds003626-download/sub-01/ses-03/eeg/sub-01_ses-03_task-innerspeech_eeg.bdf',\n",
       " '/media/linux-pc/Stargate/inner-speech/ds003626-download/sub-02/ses-01/eeg/sub-02_ses-01_task-innerspeech_eeg.bdf',\n",
       " '/media/linux-pc/Stargate/inner-speech/ds003626-download/sub-02/ses-02/eeg/sub-02_ses-02_task-innerspeech_eeg.bdf',\n",
       " '/media/linux-pc/Stargate/inner-speech/ds003626-download/sub-02/ses-03/eeg/sub-02_ses-03_task-innerspeech_eeg.bdf',\n",
       " '/media/linux-pc/Stargate/inner-speech/ds003626-download/sub-03/ses-01/eeg/sub-03_ses-01_task-innerspeech_eeg.bdf',\n",
       " '/media/linux-pc/Stargate/inner-speech/ds003626-download/sub-03/ses-02/eeg/sub-03_ses-02_task-innerspeech_eeg.bdf',\n",
       " '/media/linux-pc/Stargate/inner-speech/ds003626-download/sub-03/ses-03/eeg/sub-03_ses-03_task-innerspeech_eeg.bdf',\n",
       " '/media/linux-pc/Stargate/inner-speech/ds003626-download/sub-04/ses-01/eeg/sub-04_ses-01_task-innerspeech_eeg.bdf',\n",
       " '/media/linux-pc/Stargate/inner-speech/ds003626-download/sub-04/ses-02/eeg/sub-04_ses-02_task-innerspeech_eeg.bdf',\n",
       " '/media/linux-pc/Stargate/inner-speech/ds003626-download/sub-04/ses-03/eeg/sub-04_ses-03_task-innerspeech_eeg.bdf',\n",
       " '/media/linux-pc/Stargate/inner-speech/ds003626-download/sub-05/ses-01/eeg/sub-05_ses-01_task-innerspeech_eeg.bdf',\n",
       " '/media/linux-pc/Stargate/inner-speech/ds003626-download/sub-05/ses-02/eeg/sub-05_ses-02_task-innerspeech_eeg.bdf',\n",
       " '/media/linux-pc/Stargate/inner-speech/ds003626-download/sub-05/ses-03/eeg/sub-05_ses-03_task-innerspeech_eeg.bdf',\n",
       " '/media/linux-pc/Stargate/inner-speech/ds003626-download/sub-06/ses-01/eeg/sub-06_ses-01_task-innerspeech_eeg.bdf',\n",
       " '/media/linux-pc/Stargate/inner-speech/ds003626-download/sub-06/ses-02/eeg/sub-06_ses-02_task-innerspeech_eeg.bdf',\n",
       " '/media/linux-pc/Stargate/inner-speech/ds003626-download/sub-06/ses-03/eeg/sub-06_ses-03_task-innerspeech_eeg.bdf',\n",
       " '/media/linux-pc/Stargate/inner-speech/ds003626-download/sub-07/ses-01/eeg/sub-07_ses-01_task-innerspeech_eeg.bdf',\n",
       " '/media/linux-pc/Stargate/inner-speech/ds003626-download/sub-07/ses-02/eeg/sub-07_ses-02_task-innerspeech_eeg.bdf',\n",
       " '/media/linux-pc/Stargate/inner-speech/ds003626-download/sub-07/ses-03/eeg/sub-07_ses-03_task-innerspeech_eeg.bdf',\n",
       " '/media/linux-pc/Stargate/inner-speech/ds003626-download/sub-08/ses-01/eeg/sub-08_ses-01_task-innerspeech_eeg.bdf',\n",
       " '/media/linux-pc/Stargate/inner-speech/ds003626-download/sub-08/ses-02/eeg/sub-08_ses-02_task-innerspeech_eeg.bdf',\n",
       " '/media/linux-pc/Stargate/inner-speech/ds003626-download/sub-08/ses-03/eeg/sub-08_ses-03_task-innerspeech_eeg.bdf',\n",
       " '/media/linux-pc/Stargate/inner-speech/ds003626-download/sub-09/ses-01/eeg/sub-09_ses-01_task-innerspeech_eeg.bdf',\n",
       " '/media/linux-pc/Stargate/inner-speech/ds003626-download/sub-09/ses-02/eeg/sub-09_ses-02_task-innerspeech_eeg.bdf',\n",
       " '/media/linux-pc/Stargate/inner-speech/ds003626-download/sub-09/ses-03/eeg/sub-09_ses-03_task-innerspeech_eeg.bdf',\n",
       " '/media/linux-pc/Stargate/inner-speech/ds003626-download/sub-10/ses-01/eeg/sub-10_ses-01_task-innerspeech_eeg.bdf',\n",
       " '/media/linux-pc/Stargate/inner-speech/ds003626-download/sub-10/ses-02/eeg/sub-10_ses-02_task-innerspeech_eeg.bdf',\n",
       " '/media/linux-pc/Stargate/inner-speech/ds003626-download/sub-10/ses-03/eeg/sub-10_ses-03_task-innerspeech_eeg.bdf']"
      ]
     },
     "execution_count": 20,
     "metadata": {},
     "output_type": "execute_result"
    }
   ],
   "source": [
    "all_file_l"
   ]
  },
  {
   "cell_type": "code",
   "execution_count": 21,
   "id": "9a951b7e",
   "metadata": {},
   "outputs": [
    {
     "data": {
      "text/plain": [
       "'/media/linux-pc/Stargate/inner-speech/ds003626-download/derivatives/sub-01/ses-02/sub-01_ses-02_eeg-epo.fif'"
      ]
     },
     "execution_count": 21,
     "metadata": {},
     "output_type": "execute_result"
    }
   ],
   "source": [
    "all_file_l[7]"
   ]
  },
  {
   "cell_type": "code",
   "execution_count": 22,
   "id": "6031b7be",
   "metadata": {},
   "outputs": [],
   "source": [
    "eeg_epochs_path = all_file_l[7]"
   ]
  },
  {
   "cell_type": "code",
   "execution_count": 23,
   "id": "9df9625a",
   "metadata": {},
   "outputs": [
    {
     "name": "stdout",
     "output_type": "stream",
     "text": [
      "Reading /media/linux-pc/Stargate/inner-speech/ds003626-download/derivatives/sub-01/ses-02/sub-01_ses-02_eeg-epo.fif ...\n",
      "Isotrak not found\n",
      "    Found the data of interest:\n",
      "        t =    -500.00 ...    4000.00 ms\n",
      "        0 CTF compensation matrices available\n",
      "Not setting metadata\n",
      "Not setting metadata\n",
      "200 matching events found\n",
      "No baseline correction applied\n",
      "0 projection items activated\n"
     ]
    }
   ],
   "source": [
    "epochs = mne.read_epochs(eeg_epochs_path, preload=True)"
   ]
  },
  {
   "cell_type": "code",
   "execution_count": 24,
   "id": "5e204cff",
   "metadata": {},
   "outputs": [
    {
     "name": "stdout",
     "output_type": "stream",
     "text": [
      "<EpochsFIF |  200 events (all good), -0.5 - 4 sec, baseline off, ~225.3 MB, data loaded,\n",
      " 'Abajo': 50\n",
      " 'Arriba': 50\n",
      " 'Derecha': 50\n",
      " 'Izquierda': 50>\n"
     ]
    }
   ],
   "source": [
    "print(epochs)"
   ]
  },
  {
   "cell_type": "code",
   "execution_count": 25,
   "id": "d82ca7fe",
   "metadata": {},
   "outputs": [
    {
     "data": {
      "text/plain": [
       "{'Arriba': 31, 'Abajo': 32, 'Derecha': 33, 'Izquierda': 34}"
      ]
     },
     "execution_count": 25,
     "metadata": {},
     "output_type": "execute_result"
    }
   ],
   "source": [
    "epochs.event_id"
   ]
  },
  {
   "cell_type": "code",
   "execution_count": 26,
   "id": "54c39628",
   "metadata": {},
   "outputs": [
    {
     "data": {
      "text/plain": [
       "array([[  42418,       0,      31],\n",
       "       [  49056,       0,      33],\n",
       "       [  55763,       0,      31],\n",
       "       [  62146,       0,      34],\n",
       "       [  68836,       0,      34],\n",
       "       [  75424,       0,      34],\n",
       "       [  81806,       0,      33],\n",
       "       [  88462,       0,      32],\n",
       "       [  94930,       0,      32],\n",
       "       [ 101364,       0,      31],\n",
       "       [ 107849,       0,      31],\n",
       "       [ 114300,       0,      32],\n",
       "       [ 120786,       0,      33],\n",
       "       [ 127185,       0,      32],\n",
       "       [ 133892,       0,      34],\n",
       "       [ 140395,       0,      31],\n",
       "       [ 147033,       0,      32],\n",
       "       [ 153774,       0,      33],\n",
       "       [ 160396,       0,      32],\n",
       "       [ 167035,       0,      33],\n",
       "       [ 173622,       0,      34],\n",
       "       [ 180056,       0,      34],\n",
       "       [ 186678,       0,      34],\n",
       "       [ 193505,       0,      31],\n",
       "       [ 200297,       0,      33],\n",
       "       [ 206782,       0,      33],\n",
       "       [ 213250,       0,      32],\n",
       "       [ 219906,       0,      33],\n",
       "       [ 226613,       0,      34],\n",
       "       [ 233218,       0,      31],\n",
       "       [ 239686,       0,      31],\n",
       "       [ 246512,       0,      32],\n",
       "       [ 252929,       0,      33],\n",
       "       [ 259346,       0,      31],\n",
       "       [ 265797,       0,      32],\n",
       "       [ 272282,       0,      31],\n",
       "       [ 278955,       0,      33],\n",
       "       [ 285611,       0,      32],\n",
       "       [ 291993,       0,      34],\n",
       "       [ 298820,       0,      34],\n",
       "       [ 352288,       0,      32],\n",
       "       [ 358739,       0,      32],\n",
       "       [ 365276,       0,      33],\n",
       "       [ 371675,       0,      33],\n",
       "       [ 378297,       0,      34],\n",
       "       [ 384850,       0,      31],\n",
       "       [ 391336,       0,      31],\n",
       "       [ 397838,       0,      33],\n",
       "       [ 404698,       0,      32],\n",
       "       [ 411405,       0,      32],\n",
       "       [ 424905,       0,      34],\n",
       "       [ 431305,       0,      32],\n",
       "       [ 438063,       0,      33],\n",
       "       [ 444821,       0,      31],\n",
       "       [ 451494,       0,      34],\n",
       "       [ 457979,       0,      31],\n",
       "       [ 464652,       0,      31],\n",
       "       [ 471188,       0,      31],\n",
       "       [ 477639,       0,      33],\n",
       "       [ 484107,       0,      32],\n",
       "       [ 490968,       0,      32],\n",
       "       [ 497368,       0,      32],\n",
       "       [ 503853,       0,      34],\n",
       "       [ 510270,       0,      33],\n",
       "       [ 516840,       0,      32],\n",
       "       [ 529111,       0,      33],\n",
       "       [ 535613,       0,      31],\n",
       "       [ 542047,       0,      32],\n",
       "       [ 548583,       0,      33],\n",
       "       [ 555205,       0,      34],\n",
       "       [ 561605,       0,      33],\n",
       "       [ 568483,       0,      34],\n",
       "       [ 575002,       0,      34],\n",
       "       [ 581538,       0,      31],\n",
       "       [ 587955,       0,      34],\n",
       "       [ 594474,       0,      34],\n",
       "       [ 600857,       0,      33],\n",
       "       [ 607462,       0,      34],\n",
       "       [ 614237,       0,      31],\n",
       "       [ 626764,       0,      31],\n",
       "       [ 680232,       0,      32],\n",
       "       [ 686649,       0,      32],\n",
       "       [ 693066,       0,      34],\n",
       "       [ 699756,       0,      32],\n",
       "       [ 706258,       0,      31],\n",
       "       [ 712965,       0,      34],\n",
       "       [ 719723,       0,      33],\n",
       "       [ 726396,       0,      33],\n",
       "       [ 733154,       0,      31],\n",
       "       [ 739639,       0,      31],\n",
       "       [ 753804,       0,      31],\n",
       "       [ 760631,       0,      31],\n",
       "       [ 767048,       0,      34],\n",
       "       [ 773618,       0,      31],\n",
       "       [ 780154,       0,      32],\n",
       "       [ 786878,       0,      33],\n",
       "       [ 793551,       0,      33],\n",
       "       [ 800310,       0,      33],\n",
       "       [ 806846,       0,      32],\n",
       "       [ 813331,       0,      33],\n",
       "       [ 819748,       0,      32],\n",
       "       [ 826523,       0,      33],\n",
       "       [ 832991,       0,      34],\n",
       "       [ 839545,       0,      34],\n",
       "       [ 846200,       0,      31],\n",
       "       [ 858437,       0,      34],\n",
       "       [ 865025,       0,      31],\n",
       "       [ 871476,       0,      31],\n",
       "       [ 878234,       0,      34],\n",
       "       [ 884651,       0,      32],\n",
       "       [ 891170,       0,      33],\n",
       "       [ 897638,       0,      32],\n",
       "       [ 904260,       0,      32],\n",
       "       [ 910676,       0,      31],\n",
       "       [ 917264,       0,      34],\n",
       "       [ 923698,       0,      33],\n",
       "       [ 930132,       0,      34],\n",
       "       [ 936890,       0,      34],\n",
       "       [ 949212,       0,      32],\n",
       "       [ 956090,       0,      33],\n",
       "       [1009541,       0,      34],\n",
       "       [1016026,       0,      31],\n",
       "       [1022494,       0,      32],\n",
       "       [1029304,       0,      31],\n",
       "       [1036028,       0,      34],\n",
       "       [1042683,       0,      33],\n",
       "       [1049134,       0,      31],\n",
       "       [1055620,       0,      34],\n",
       "       [1062037,       0,      32],\n",
       "       [1068897,       0,      34],\n",
       "       [1075621,       0,      31],\n",
       "       [1082260,       0,      33],\n",
       "       [1088796,       0,      34],\n",
       "       [1102398,       0,      33],\n",
       "       [1109293,       0,      34],\n",
       "       [1115761,       0,      33],\n",
       "       [1122263,       0,      34],\n",
       "       [1128833,       0,      33],\n",
       "       [1135233,       0,      33],\n",
       "       [1141957,       0,      32],\n",
       "       [1148545,       0,      31],\n",
       "       [1155423,       0,      31],\n",
       "       [1162010,       0,      33],\n",
       "       [1168700,       0,      34],\n",
       "       [1175151,       0,      33],\n",
       "       [1181722,       0,      31],\n",
       "       [1194026,       0,      32],\n",
       "       [1200853,       0,      33],\n",
       "       [1207406,       0,      32],\n",
       "       [1214113,       0,      32],\n",
       "       [1220632,       0,      31],\n",
       "       [1227288,       0,      32],\n",
       "       [1234098,       0,      32],\n",
       "       [1240770,       0,      33],\n",
       "       [1247324,       0,      34],\n",
       "       [1253860,       0,      32],\n",
       "       [1260448,       0,      31],\n",
       "       [1267018,       0,      32],\n",
       "       [1273555,       0,      31],\n",
       "       [1280193,       0,      34],\n",
       "       [1339942,       0,      32],\n",
       "       [1346427,       0,      31],\n",
       "       [1352810,       0,      33],\n",
       "       [1359671,       0,      34],\n",
       "       [1366360,       0,      33],\n",
       "       [1373221,       0,      31],\n",
       "       [1379672,       0,      32],\n",
       "       [1386516,       0,      31],\n",
       "       [1393325,       0,      31],\n",
       "       [1399998,       0,      34],\n",
       "       [1406620,       0,      33],\n",
       "       [1413105,       0,      34],\n",
       "       [1426997,       0,      31],\n",
       "       [1433396,       0,      34],\n",
       "       [1440172,       0,      32],\n",
       "       [1446913,       0,      32],\n",
       "       [1453671,       0,      31],\n",
       "       [1460395,       0,      34],\n",
       "       [1467000,       0,      32],\n",
       "       [1473536,       0,      34],\n",
       "       [1480311,       0,      33],\n",
       "       [1486865,       0,      34],\n",
       "       [1493674,       0,      32],\n",
       "       [1506388,       0,      31],\n",
       "       [1513010,       0,      33],\n",
       "       [1519717,       0,      33],\n",
       "       [1526578,       0,      32],\n",
       "       [1533182,       0,      33],\n",
       "       [1539582,       0,      31],\n",
       "       [1546392,       0,      34],\n",
       "       [1553099,       0,      33],\n",
       "       [1559652,       0,      32],\n",
       "       [1566530,       0,      33],\n",
       "       [1573015,       0,      31],\n",
       "       [1579722,       0,      32],\n",
       "       [1586412,       0,      32],\n",
       "       [1592982,       0,      34],\n",
       "       [1605953,       0,      34],\n",
       "       [1612557,       0,      33],\n",
       "       [1619025,       0,      31]], dtype=int32)"
      ]
     },
     "execution_count": 26,
     "metadata": {},
     "output_type": "execute_result"
    }
   ],
   "source": [
    "epochs.events"
   ]
  },
  {
   "cell_type": "code",
   "execution_count": 27,
   "id": "e4dd8968",
   "metadata": {},
   "outputs": [
    {
     "name": "stdout",
     "output_type": "stream",
     "text": [
      "Reading /media/linux-pc/Stargate/inner-speech/ds003626-download/derivatives/sub-01/ses-02/sub-01_ses-02_eeg-epo.fif ...\n",
      "Isotrak not found\n",
      "    Found the data of interest:\n",
      "        t =    -500.00 ...    4000.00 ms\n",
      "        0 CTF compensation matrices available\n",
      "Not setting metadata\n",
      "Not setting metadata\n",
      "200 matching events found\n",
      "No baseline correction applied\n",
      "0 projection items activated\n"
     ]
    }
   ],
   "source": [
    "epochs = mne.read_epochs(eeg_epochs_path, preload=True)\n",
    "event_map = {v: k for k, v in epochs.event_id.items()}"
   ]
  },
  {
   "cell_type": "code",
   "execution_count": 28,
   "id": "0dc64b6c",
   "metadata": {},
   "outputs": [],
   "source": [
    "labels = [event_map[event[-1]] for event in epochs.events]"
   ]
  },
  {
   "cell_type": "code",
   "execution_count": 29,
   "id": "4dcf5201",
   "metadata": {},
   "outputs": [
    {
     "data": {
      "text/plain": [
       "200"
      ]
     },
     "execution_count": 29,
     "metadata": {},
     "output_type": "execute_result"
    }
   ],
   "source": [
    "labels.__len__()"
   ]
  },
  {
   "cell_type": "code",
   "execution_count": 30,
   "id": "e353648b",
   "metadata": {},
   "outputs": [
    {
     "data": {
      "text/plain": [
       "50"
      ]
     },
     "execution_count": 30,
     "metadata": {},
     "output_type": "execute_result"
    }
   ],
   "source": [
    "[label for label in labels if label == \"Arriba\"].__len__()"
   ]
  },
  {
   "cell_type": "code",
   "execution_count": 31,
   "id": "27b45b34",
   "metadata": {},
   "outputs": [],
   "source": [
    "X = epochs.get_data()\n",
    "y = labels"
   ]
  },
  {
   "cell_type": "code",
   "execution_count": 32,
   "id": "58cb00da",
   "metadata": {},
   "outputs": [
    {
     "data": {
      "text/plain": [
       "(200, 128, 1153)"
      ]
     },
     "execution_count": 32,
     "metadata": {},
     "output_type": "execute_result"
    }
   ],
   "source": [
    "X.shape"
   ]
  },
  {
   "cell_type": "code",
   "execution_count": 33,
   "id": "153c24c8",
   "metadata": {},
   "outputs": [
    {
     "data": {
      "text/plain": [
       "(200, 128, 1153)"
      ]
     },
     "execution_count": 33,
     "metadata": {},
     "output_type": "execute_result"
    }
   ],
   "source": [
    "X.shape"
   ]
  },
  {
   "cell_type": "code",
   "execution_count": 34,
   "id": "79457582",
   "metadata": {},
   "outputs": [
    {
     "data": {
      "text/plain": [
       "['Arriba',\n",
       " 'Derecha',\n",
       " 'Arriba',\n",
       " 'Izquierda',\n",
       " 'Izquierda',\n",
       " 'Izquierda',\n",
       " 'Derecha',\n",
       " 'Abajo',\n",
       " 'Abajo',\n",
       " 'Arriba',\n",
       " 'Arriba',\n",
       " 'Abajo',\n",
       " 'Derecha',\n",
       " 'Abajo',\n",
       " 'Izquierda',\n",
       " 'Arriba',\n",
       " 'Abajo',\n",
       " 'Derecha',\n",
       " 'Abajo',\n",
       " 'Derecha',\n",
       " 'Izquierda',\n",
       " 'Izquierda',\n",
       " 'Izquierda',\n",
       " 'Arriba',\n",
       " 'Derecha',\n",
       " 'Derecha',\n",
       " 'Abajo',\n",
       " 'Derecha',\n",
       " 'Izquierda',\n",
       " 'Arriba',\n",
       " 'Arriba',\n",
       " 'Abajo',\n",
       " 'Derecha',\n",
       " 'Arriba',\n",
       " 'Abajo',\n",
       " 'Arriba',\n",
       " 'Derecha',\n",
       " 'Abajo',\n",
       " 'Izquierda',\n",
       " 'Izquierda',\n",
       " 'Abajo',\n",
       " 'Abajo',\n",
       " 'Derecha',\n",
       " 'Derecha',\n",
       " 'Izquierda',\n",
       " 'Arriba',\n",
       " 'Arriba',\n",
       " 'Derecha',\n",
       " 'Abajo',\n",
       " 'Abajo',\n",
       " 'Izquierda',\n",
       " 'Abajo',\n",
       " 'Derecha',\n",
       " 'Arriba',\n",
       " 'Izquierda',\n",
       " 'Arriba',\n",
       " 'Arriba',\n",
       " 'Arriba',\n",
       " 'Derecha',\n",
       " 'Abajo',\n",
       " 'Abajo',\n",
       " 'Abajo',\n",
       " 'Izquierda',\n",
       " 'Derecha',\n",
       " 'Abajo',\n",
       " 'Derecha',\n",
       " 'Arriba',\n",
       " 'Abajo',\n",
       " 'Derecha',\n",
       " 'Izquierda',\n",
       " 'Derecha',\n",
       " 'Izquierda',\n",
       " 'Izquierda',\n",
       " 'Arriba',\n",
       " 'Izquierda',\n",
       " 'Izquierda',\n",
       " 'Derecha',\n",
       " 'Izquierda',\n",
       " 'Arriba',\n",
       " 'Arriba',\n",
       " 'Abajo',\n",
       " 'Abajo',\n",
       " 'Izquierda',\n",
       " 'Abajo',\n",
       " 'Arriba',\n",
       " 'Izquierda',\n",
       " 'Derecha',\n",
       " 'Derecha',\n",
       " 'Arriba',\n",
       " 'Arriba',\n",
       " 'Arriba',\n",
       " 'Arriba',\n",
       " 'Izquierda',\n",
       " 'Arriba',\n",
       " 'Abajo',\n",
       " 'Derecha',\n",
       " 'Derecha',\n",
       " 'Derecha',\n",
       " 'Abajo',\n",
       " 'Derecha',\n",
       " 'Abajo',\n",
       " 'Derecha',\n",
       " 'Izquierda',\n",
       " 'Izquierda',\n",
       " 'Arriba',\n",
       " 'Izquierda',\n",
       " 'Arriba',\n",
       " 'Arriba',\n",
       " 'Izquierda',\n",
       " 'Abajo',\n",
       " 'Derecha',\n",
       " 'Abajo',\n",
       " 'Abajo',\n",
       " 'Arriba',\n",
       " 'Izquierda',\n",
       " 'Derecha',\n",
       " 'Izquierda',\n",
       " 'Izquierda',\n",
       " 'Abajo',\n",
       " 'Derecha',\n",
       " 'Izquierda',\n",
       " 'Arriba',\n",
       " 'Abajo',\n",
       " 'Arriba',\n",
       " 'Izquierda',\n",
       " 'Derecha',\n",
       " 'Arriba',\n",
       " 'Izquierda',\n",
       " 'Abajo',\n",
       " 'Izquierda',\n",
       " 'Arriba',\n",
       " 'Derecha',\n",
       " 'Izquierda',\n",
       " 'Derecha',\n",
       " 'Izquierda',\n",
       " 'Derecha',\n",
       " 'Izquierda',\n",
       " 'Derecha',\n",
       " 'Derecha',\n",
       " 'Abajo',\n",
       " 'Arriba',\n",
       " 'Arriba',\n",
       " 'Derecha',\n",
       " 'Izquierda',\n",
       " 'Derecha',\n",
       " 'Arriba',\n",
       " 'Abajo',\n",
       " 'Derecha',\n",
       " 'Abajo',\n",
       " 'Abajo',\n",
       " 'Arriba',\n",
       " 'Abajo',\n",
       " 'Abajo',\n",
       " 'Derecha',\n",
       " 'Izquierda',\n",
       " 'Abajo',\n",
       " 'Arriba',\n",
       " 'Abajo',\n",
       " 'Arriba',\n",
       " 'Izquierda',\n",
       " 'Abajo',\n",
       " 'Arriba',\n",
       " 'Derecha',\n",
       " 'Izquierda',\n",
       " 'Derecha',\n",
       " 'Arriba',\n",
       " 'Abajo',\n",
       " 'Arriba',\n",
       " 'Arriba',\n",
       " 'Izquierda',\n",
       " 'Derecha',\n",
       " 'Izquierda',\n",
       " 'Arriba',\n",
       " 'Izquierda',\n",
       " 'Abajo',\n",
       " 'Abajo',\n",
       " 'Arriba',\n",
       " 'Izquierda',\n",
       " 'Abajo',\n",
       " 'Izquierda',\n",
       " 'Derecha',\n",
       " 'Izquierda',\n",
       " 'Abajo',\n",
       " 'Arriba',\n",
       " 'Derecha',\n",
       " 'Derecha',\n",
       " 'Abajo',\n",
       " 'Derecha',\n",
       " 'Arriba',\n",
       " 'Izquierda',\n",
       " 'Derecha',\n",
       " 'Abajo',\n",
       " 'Derecha',\n",
       " 'Arriba',\n",
       " 'Abajo',\n",
       " 'Abajo',\n",
       " 'Izquierda',\n",
       " 'Izquierda',\n",
       " 'Derecha',\n",
       " 'Arriba']"
      ]
     },
     "execution_count": 34,
     "metadata": {},
     "output_type": "execute_result"
    }
   ],
   "source": [
    "y"
   ]
  },
  {
   "cell_type": "markdown",
   "id": "79d8a33c",
   "metadata": {},
   "source": [
    "### Subject 1"
   ]
  },
  {
   "cell_type": "code",
   "execution_count": 35,
   "id": "cc08f4a0",
   "metadata": {},
   "outputs": [],
   "source": [
    "subject_1 = sorted(glob(os.path.join(root_dir, \"derivatives\", \"sub-01\", \"**\", \"*.*\"), recursive=True))"
   ]
  },
  {
   "cell_type": "code",
   "execution_count": 36,
   "id": "4535cd55",
   "metadata": {},
   "outputs": [
    {
     "data": {
      "text/plain": [
       "['/media/linux-pc/Stargate/inner-speech/ds003626-download/derivatives/sub-01/ses-01/sub-01_ses-01_baseline-epo.fif',\n",
       " '/media/linux-pc/Stargate/inner-speech/ds003626-download/derivatives/sub-01/ses-01/sub-01_ses-01_eeg-epo.fif',\n",
       " '/media/linux-pc/Stargate/inner-speech/ds003626-download/derivatives/sub-01/ses-01/sub-01_ses-01_events.dat',\n",
       " '/media/linux-pc/Stargate/inner-speech/ds003626-download/derivatives/sub-01/ses-01/sub-01_ses-01_exg-epo.fif',\n",
       " '/media/linux-pc/Stargate/inner-speech/ds003626-download/derivatives/sub-01/ses-01/sub-01_ses-01_report.pkl',\n",
       " '/media/linux-pc/Stargate/inner-speech/ds003626-download/derivatives/sub-01/ses-02/sub-01_ses-02_baseline-epo.fif',\n",
       " '/media/linux-pc/Stargate/inner-speech/ds003626-download/derivatives/sub-01/ses-02/sub-01_ses-02_eeg-epo.fif',\n",
       " '/media/linux-pc/Stargate/inner-speech/ds003626-download/derivatives/sub-01/ses-02/sub-01_ses-02_events.dat',\n",
       " '/media/linux-pc/Stargate/inner-speech/ds003626-download/derivatives/sub-01/ses-02/sub-01_ses-02_exg-epo.fif',\n",
       " '/media/linux-pc/Stargate/inner-speech/ds003626-download/derivatives/sub-01/ses-02/sub-01_ses-02_report.pkl',\n",
       " '/media/linux-pc/Stargate/inner-speech/ds003626-download/derivatives/sub-01/ses-03/sub-01_ses-03_baseline-epo.fif',\n",
       " '/media/linux-pc/Stargate/inner-speech/ds003626-download/derivatives/sub-01/ses-03/sub-01_ses-03_eeg-epo.fif',\n",
       " '/media/linux-pc/Stargate/inner-speech/ds003626-download/derivatives/sub-01/ses-03/sub-01_ses-03_events.dat',\n",
       " '/media/linux-pc/Stargate/inner-speech/ds003626-download/derivatives/sub-01/ses-03/sub-01_ses-03_exg-epo.fif',\n",
       " '/media/linux-pc/Stargate/inner-speech/ds003626-download/derivatives/sub-01/ses-03/sub-01_ses-03_report.pkl']"
      ]
     },
     "execution_count": 36,
     "metadata": {},
     "output_type": "execute_result"
    }
   ],
   "source": [
    "subject_1"
   ]
  },
  {
   "cell_type": "code",
   "execution_count": 37,
   "id": "26365819",
   "metadata": {},
   "outputs": [
    {
     "data": {
      "text/plain": [
       "15"
      ]
     },
     "execution_count": 37,
     "metadata": {},
     "output_type": "execute_result"
    }
   ],
   "source": [
    "subject_1.__len__()"
   ]
  },
  {
   "cell_type": "code",
   "execution_count": 38,
   "id": "05526233",
   "metadata": {},
   "outputs": [
    {
     "data": {
      "text/plain": [
       "['/media/linux-pc/Stargate/inner-speech/ds003626-download/derivatives/sub-01/ses-01/sub-01_ses-01_baseline-epo.fif',\n",
       " '/media/linux-pc/Stargate/inner-speech/ds003626-download/derivatives/sub-01/ses-01/sub-01_ses-01_eeg-epo.fif',\n",
       " '/media/linux-pc/Stargate/inner-speech/ds003626-download/derivatives/sub-01/ses-01/sub-01_ses-01_events.dat',\n",
       " '/media/linux-pc/Stargate/inner-speech/ds003626-download/derivatives/sub-01/ses-01/sub-01_ses-01_exg-epo.fif',\n",
       " '/media/linux-pc/Stargate/inner-speech/ds003626-download/derivatives/sub-01/ses-01/sub-01_ses-01_report.pkl']"
      ]
     },
     "execution_count": 38,
     "metadata": {},
     "output_type": "execute_result"
    }
   ],
   "source": [
    "subject_1[:5]"
   ]
  },
  {
   "cell_type": "code",
   "execution_count": 39,
   "id": "ca453f45",
   "metadata": {},
   "outputs": [
    {
     "data": {
      "text/plain": [
       "['/media/linux-pc/Stargate/inner-speech/ds003626-download/derivatives/sub-01/ses-01/sub-01_ses-01_baseline-epo.fif',\n",
       " '/media/linux-pc/Stargate/inner-speech/ds003626-download/derivatives/sub-01/ses-01/sub-01_ses-01_eeg-epo.fif',\n",
       " '/media/linux-pc/Stargate/inner-speech/ds003626-download/derivatives/sub-01/ses-01/sub-01_ses-01_events.dat',\n",
       " '/media/linux-pc/Stargate/inner-speech/ds003626-download/derivatives/sub-01/ses-01/sub-01_ses-01_exg-epo.fif',\n",
       " '/media/linux-pc/Stargate/inner-speech/ds003626-download/derivatives/sub-01/ses-01/sub-01_ses-01_report.pkl']"
      ]
     },
     "execution_count": 39,
     "metadata": {},
     "output_type": "execute_result"
    }
   ],
   "source": [
    "subject_1[:5]"
   ]
  },
  {
   "cell_type": "code",
   "execution_count": 40,
   "id": "d5784dbf",
   "metadata": {},
   "outputs": [
    {
     "name": "stdout",
     "output_type": "stream",
     "text": [
      "Reading /media/linux-pc/Stargate/inner-speech/ds003626-download/derivatives/sub-01/ses-01/sub-01_ses-01_eeg-epo.fif ...\n",
      "Isotrak not found\n",
      "    Found the data of interest:\n",
      "        t =    -500.00 ...    4000.00 ms\n",
      "        0 CTF compensation matrices available\n",
      "Not setting metadata\n",
      "Not setting metadata\n",
      "200 matching events found\n",
      "No baseline correction applied\n",
      "0 projection items activated\n"
     ]
    }
   ],
   "source": [
    "# Load EEG epochs\n",
    "epochs_eeg = mne.read_epochs(subject_1[1], preload=True)"
   ]
  },
  {
   "cell_type": "code",
   "execution_count": 41,
   "id": "31b20e4e",
   "metadata": {},
   "outputs": [
    {
     "data": {
      "text/plain": [
       "<EpochsFIF |  200 events (all good), -0.5 - 4 sec, baseline off, ~225.3 MB, data loaded,\n",
       " 'Abajo': 50\n",
       " 'Arriba': 50\n",
       " 'Derecha': 50\n",
       " 'Izquierda': 50>"
      ]
     },
     "execution_count": 41,
     "metadata": {},
     "output_type": "execute_result"
    }
   ],
   "source": [
    "epochs_eeg"
   ]
  },
  {
   "cell_type": "code",
   "execution_count": 42,
   "id": "39b96c1f",
   "metadata": {},
   "outputs": [
    {
     "data": {
      "text/plain": [
       "(200, 128, 1153)"
      ]
     },
     "execution_count": 42,
     "metadata": {},
     "output_type": "execute_result"
    }
   ],
   "source": [
    "epochs_eeg.get_data().shape"
   ]
  },
  {
   "cell_type": "code",
   "execution_count": 43,
   "id": "9236a449",
   "metadata": {},
   "outputs": [
    {
     "name": "stdout",
     "output_type": "stream",
     "text": [
      "[[  39869       3       0       1]\n",
      " [  46491       0       0       1]\n",
      " [  53010       3       0       1]\n",
      " [  59649       3       0       1]\n",
      " [  66270       2       0       1]\n",
      " [  73063       1       0       1]\n",
      " [  79838       3       0       1]\n",
      " [  86528       1       0       1]\n",
      " [  93064       3       0       1]\n",
      " [  99823       1       0       1]\n",
      " [ 106461       0       0       1]\n",
      " [ 113015       0       0       1]\n",
      " [ 119824       3       0       1]\n",
      " [ 126651       2       0       1]\n",
      " [ 133289       1       0       1]\n",
      " [ 139996       0       0       1]\n",
      " [ 146669       0       0       1]\n",
      " [ 153154       3       0       1]\n",
      " [ 159691       1       0       1]\n",
      " [ 166295       3       0       1]\n",
      " [ 172815       1       0       1]\n",
      " [ 179641       2       0       1]\n",
      " [ 186109       1       0       1]\n",
      " [ 192612       0       0       1]\n",
      " [ 199080       2       0       1]\n",
      " [ 205582       2       0       1]\n",
      " [ 212169       1       0       1]\n",
      " [ 218723       0       0       1]\n",
      " [ 225583       2       0       1]\n",
      " [ 232154       2       0       1]\n",
      " [ 238605       3       0       1]\n",
      " [ 245431       0       0       1]\n",
      " [ 252309       1       0       1]\n",
      " [ 258914       2       0       1]\n",
      " [ 265348       2       0       1]\n",
      " [ 271833       2       0       1]\n",
      " [ 278420       3       0       1]\n",
      " [ 285110       0       0       1]\n",
      " [ 291630       0       0       1]\n",
      " [ 298303       1       0       1]\n",
      " [ 351788       1       1       1]\n",
      " [ 358546       1       1       1]\n",
      " [ 365390       3       1       1]\n",
      " [ 372216       3       1       1]\n",
      " [ 387985       3       1       1]\n",
      " [ 394471       0       1       1]\n",
      " [ 400870       2       1       1]\n",
      " [ 407629       3       1       1]\n",
      " [ 421964       3       1       1]\n",
      " [ 428808       1       1       1]\n",
      " [ 435481       0       1       1]\n",
      " [ 448707       1       1       1]\n",
      " [ 455482       3       1       1]\n",
      " [ 462138       3       1       1]\n",
      " [ 468606       1       1       1]\n",
      " [ 481969       2       1       1]\n",
      " [ 488352       0       1       1]\n",
      " [ 494956       2       1       1]\n",
      " [ 501407       0       1       1]\n",
      " [ 514582       3       1       1]\n",
      " [ 521204       1       1       1]\n",
      " [ 527826       0       1       1]\n",
      " [ 534243       1       1       1]\n",
      " [ 547059       1       1       1]\n",
      " [ 553459       3       1       1]\n",
      " [ 560098       2       1       1]\n",
      " [ 572812       2       1       1]\n",
      " [ 579588       0       1       1]\n",
      " [ 586312       1       1       1]\n",
      " [ 592763       2       1       1]\n",
      " [ 605289       2       1       1]\n",
      " [ 612150       0       1       1]\n",
      " [ 618857       1       1       1]\n",
      " [ 625666       2       1       1]\n",
      " [ 638500       3       1       1]\n",
      " [ 645309       0       1       1]\n",
      " [ 651726       2       1       1]\n",
      " [ 664321       0       1       1]\n",
      " [ 670892       0       1       1]\n",
      " [ 677667       2       1       1]\n",
      " [ 737211       3       1       1]\n",
      " [ 743764       0       1       1]\n",
      " [ 750352       2       1       1]\n",
      " [ 764431       0       1       1]\n",
      " [ 771241       1       1       1]\n",
      " [ 777931       1       1       1]\n",
      " [ 790884       3       1       1]\n",
      " [ 797472       0       1       1]\n",
      " [ 804093       2       1       1]\n",
      " [ 816296       3       1       1]\n",
      " [ 822764       3       1       1]\n",
      " [ 829334       0       1       1]\n",
      " [ 836007       2       1       1]\n",
      " [ 848295       1       1       1]\n",
      " [ 854985       1       1       1]\n",
      " [ 861521       1       1       1]\n",
      " [ 874286       3       1       1]\n",
      " [ 881045       1       1       1]\n",
      " [ 887564       1       1       1]\n",
      " [ 894220       2       1       1]\n",
      " [ 906354       3       1       1]\n",
      " [ 913180       1       1       1]\n",
      " [ 919973       1       1       1]\n",
      " [ 926458       0       1       1]\n",
      " [ 939138       2       1       1]\n",
      " [ 945708       3       1       1]\n",
      " [ 952228       3       1       1]\n",
      " [ 964567       0       1       1]\n",
      " [ 971171       2       1       1]\n",
      " [ 977588       0       1       1]\n",
      " [ 990166       2       1       1]\n",
      " [ 996890       2       1       1]\n",
      " [1003614       0       1       1]\n",
      " [1016294       0       1       1]\n",
      " [1022711       0       1       1]\n",
      " [1029265       1       1       1]\n",
      " [1041928       2       1       1]\n",
      " [1048532       3       1       1]\n",
      " [1055308       3       1       1]\n",
      " [1062049       2       1       1]\n",
      " [1121166       0       2       1]\n",
      " [1127924       2       2       1]\n",
      " [1134529       1       2       1]\n",
      " [1140929       1       2       1]\n",
      " [1154582       0       2       1]\n",
      " [1161186       0       2       1]\n",
      " [1167637       2       2       1]\n",
      " [1174173       1       2       1]\n",
      " [1186615       0       2       1]\n",
      " [1193339       3       2       1]\n",
      " [1199841       2       2       1]\n",
      " [1212880       2       2       1]\n",
      " [1219655       2       2       1]\n",
      " [1226140       3       2       1]\n",
      " [1238530       0       2       1]\n",
      " [1245169       0       2       1]\n",
      " [1251876       1       2       1]\n",
      " [1264198       2       2       1]\n",
      " [1270870       3       2       1]\n",
      " [1277560       0       2       1]\n",
      " [1290189       3       2       1]\n",
      " [1297033       1       2       1]\n",
      " [1303535       1       2       1]\n",
      " [1310276       3       2       1]\n",
      " [1322786       2       2       1]\n",
      " [1329476       2       2       1]\n",
      " [1336097       1       2       1]\n",
      " [1348829       3       2       1]\n",
      " [1355587       3       2       1]\n",
      " [1362124       0       2       1]\n",
      " [1368830       1       2       1]\n",
      " [1381459       1       2       1]\n",
      " [1388269       3       2       1]\n",
      " [1394771       0       2       1]\n",
      " [1401461       2       2       1]\n",
      " [1414073       3       2       1]\n",
      " [1420899       2       2       1]\n",
      " [1427402       0       2       1]\n",
      " [1433938       1       2       1]\n",
      " [1446157       3       2       1]\n",
      " [1499626       2       2       1]\n",
      " [1506333       2       2       1]\n",
      " [1512869       3       2       1]\n",
      " [1519610       3       2       1]\n",
      " [1533092       2       2       1]\n",
      " [1539851       1       2       1]\n",
      " [1546472       0       2       1]\n",
      " [1552855       3       2       1]\n",
      " [1565262       0       2       1]\n",
      " [1571747       1       2       1]\n",
      " [1578198       3       2       1]\n",
      " [1590947       3       2       1]\n",
      " [1597756       0       2       1]\n",
      " [1604344       3       2       1]\n",
      " [1616973       2       2       1]\n",
      " [1623782       3       2       1]\n",
      " [1630557       3       2       1]\n",
      " [1642862       0       2       1]\n",
      " [1649637       3       2       1]\n",
      " [1656498       1       2       1]\n",
      " [1668973       2       2       1]\n",
      " [1675578       2       2       1]\n",
      " [1682353       2       2       1]\n",
      " [1689095       0       2       1]\n",
      " [1701228       1       2       1]\n",
      " [1708089       2       2       1]\n",
      " [1714728       1       2       1]\n",
      " [1721520       2       2       1]\n",
      " [1734934       1       2       1]\n",
      " [1741402       0       2       1]\n",
      " [1747973       1       2       1]\n",
      " [1760482       0       2       1]\n",
      " [1767240       1       2       1]\n",
      " [1773777       0       2       1]\n",
      " [1780433       0       2       1]\n",
      " [1792515       2       2       1]\n",
      " [1798983       1       2       1]\n",
      " [1805725       3       2       1]\n",
      " [1818234       0       2       1]\n",
      " [1824873       1       2       1]]\n"
     ]
    }
   ],
   "source": [
    "# y-labels: \n",
    "\n",
    "events = np.load(subject_1[2], allow_pickle=True)\n",
    "print(events)"
   ]
  },
  {
   "cell_type": "code",
   "execution_count": 44,
   "id": "43736501",
   "metadata": {},
   "outputs": [
    {
     "data": {
      "text/plain": [
       "['/media/linux-pc/Stargate/inner-speech/ds003626-download/derivatives/sub-01/ses-01/sub-01_ses-01_baseline-epo.fif',\n",
       " '/media/linux-pc/Stargate/inner-speech/ds003626-download/derivatives/sub-01/ses-01/sub-01_ses-01_eeg-epo.fif',\n",
       " '/media/linux-pc/Stargate/inner-speech/ds003626-download/derivatives/sub-01/ses-01/sub-01_ses-01_events.dat',\n",
       " '/media/linux-pc/Stargate/inner-speech/ds003626-download/derivatives/sub-01/ses-01/sub-01_ses-01_exg-epo.fif',\n",
       " '/media/linux-pc/Stargate/inner-speech/ds003626-download/derivatives/sub-01/ses-01/sub-01_ses-01_report.pkl',\n",
       " '/media/linux-pc/Stargate/inner-speech/ds003626-download/derivatives/sub-01/ses-02/sub-01_ses-02_baseline-epo.fif',\n",
       " '/media/linux-pc/Stargate/inner-speech/ds003626-download/derivatives/sub-01/ses-02/sub-01_ses-02_eeg-epo.fif',\n",
       " '/media/linux-pc/Stargate/inner-speech/ds003626-download/derivatives/sub-01/ses-02/sub-01_ses-02_events.dat',\n",
       " '/media/linux-pc/Stargate/inner-speech/ds003626-download/derivatives/sub-01/ses-02/sub-01_ses-02_exg-epo.fif',\n",
       " '/media/linux-pc/Stargate/inner-speech/ds003626-download/derivatives/sub-01/ses-02/sub-01_ses-02_report.pkl',\n",
       " '/media/linux-pc/Stargate/inner-speech/ds003626-download/derivatives/sub-01/ses-03/sub-01_ses-03_baseline-epo.fif',\n",
       " '/media/linux-pc/Stargate/inner-speech/ds003626-download/derivatives/sub-01/ses-03/sub-01_ses-03_eeg-epo.fif',\n",
       " '/media/linux-pc/Stargate/inner-speech/ds003626-download/derivatives/sub-01/ses-03/sub-01_ses-03_events.dat',\n",
       " '/media/linux-pc/Stargate/inner-speech/ds003626-download/derivatives/sub-01/ses-03/sub-01_ses-03_exg-epo.fif',\n",
       " '/media/linux-pc/Stargate/inner-speech/ds003626-download/derivatives/sub-01/ses-03/sub-01_ses-03_report.pkl']"
      ]
     },
     "execution_count": 44,
     "metadata": {},
     "output_type": "execute_result"
    }
   ],
   "source": [
    "subject_1"
   ]
  },
  {
   "cell_type": "code",
   "execution_count": 45,
   "id": "972eca61",
   "metadata": {},
   "outputs": [
    {
     "data": {
      "text/plain": [
       "array([39869,     3,     0,     1])"
      ]
     },
     "execution_count": 45,
     "metadata": {},
     "output_type": "execute_result"
    }
   ],
   "source": [
    "events[0]"
   ]
  },
  {
   "cell_type": "code",
   "execution_count": 46,
   "id": "d1203656",
   "metadata": {},
   "outputs": [],
   "source": [
    "# Sample | Trials Class [0, 1, 2, 3 : \"Arriba\", \"Abajo\", \"Derecha\", \"Izquierda\"] | Trials Condition : Inner Speech == 1 | Trails Session : Use 1 & 2 for all participants"
   ]
  },
  {
   "cell_type": "code",
   "execution_count": 47,
   "id": "62e0b6d6",
   "metadata": {},
   "outputs": [
    {
     "data": {
      "text/plain": [
       "'/media/linux-pc/Stargate/inner-speech/ds003626-download/derivatives/sub-01/ses-01/sub-01_ses-01_exg-epo.fif'"
      ]
     },
     "execution_count": 47,
     "metadata": {},
     "output_type": "execute_result"
    }
   ],
   "source": [
    "subject_1[3]"
   ]
  },
  {
   "cell_type": "code",
   "execution_count": 48,
   "id": "c555e950",
   "metadata": {},
   "outputs": [
    {
     "data": {
      "text/plain": [
       "'/media/linux-pc/Stargate/inner-speech/ds003626-download/derivatives/sub-01/ses-01/sub-01_ses-01_report.pkl'"
      ]
     },
     "execution_count": 48,
     "metadata": {},
     "output_type": "execute_result"
    }
   ],
   "source": [
    "subject_1[4]"
   ]
  },
  {
   "cell_type": "code",
   "execution_count": 49,
   "id": "ee50b378",
   "metadata": {},
   "outputs": [
    {
     "name": "stdout",
     "output_type": "stream",
     "text": [
      "<class 'dict'>\n"
     ]
    }
   ],
   "source": [
    "with open(subject_1[4], 'rb') as f:\n",
    "    subject_data = pickle.load(f)\n",
    "print(type(subject_data))"
   ]
  },
  {
   "cell_type": "code",
   "execution_count": 50,
   "id": "43957953",
   "metadata": {},
   "outputs": [
    {
     "data": {
      "text/plain": [
       "{'Age': 56,\n",
       " 'Gender': 'F',\n",
       " 'Recording_time': 1832,\n",
       " 'Ans_R': 43,\n",
       " 'Ans_W': 2,\n",
       " 'EMG_trials': array([ 44.,  55.,  56.,  59., 148., 155.]),\n",
       " 'Power_EXG7': array([1.66555993e-09, 1.78973692e-10, 3.09067948e-11, 4.65290829e-10,\n",
       "        3.16289043e-09, 1.00091801e-09]),\n",
       " 'Power_EXG8': array([1.40977914e-09, 3.52279347e-10, 2.23067212e-10, 5.91289131e-10,\n",
       "        6.02205634e-09, 6.62926101e-10]),\n",
       " 'Baseline_EXG7_mean': 2.1510271959948184e-10,\n",
       " 'Baseline_EXG8_mean': 6.148708634155476e-11,\n",
       " 'Baseline_EXG7_std': 1.5097728063882982e-10,\n",
       " 'Baseline_EXG8_std': 4.116691114385579e-11}"
      ]
     },
     "execution_count": 50,
     "metadata": {},
     "output_type": "execute_result"
    }
   ],
   "source": [
    "subject_data"
   ]
  },
  {
   "cell_type": "markdown",
   "id": "02b36982",
   "metadata": {},
   "source": [
    "# Acquiring EEG data for all 10 subjects for X"
   ]
  },
  {
   "cell_type": "code",
   "execution_count": 51,
   "id": "870198ae",
   "metadata": {},
   "outputs": [
    {
     "ename": "IndexError",
     "evalue": "list index out of range",
     "output_type": "error",
     "traceback": [
      "\u001b[0;31m---------------------------------------------------------------------------\u001b[0m",
      "\u001b[0;31mIndexError\u001b[0m                                Traceback (most recent call last)",
      "Cell \u001b[0;32mIn[51], line 3\u001b[0m\n\u001b[1;32m      1\u001b[0m data_l_epochs \u001b[38;5;241m=\u001b[39m \u001b[38;5;28msorted\u001b[39m(glob(os\u001b[38;5;241m.\u001b[39mpath\u001b[38;5;241m.\u001b[39mjoin(root_dir, \u001b[38;5;124m\"\u001b[39m\u001b[38;5;124mderivatives\u001b[39m\u001b[38;5;124m\"\u001b[39m, \u001b[38;5;124m\"\u001b[39m\u001b[38;5;124msub-*\u001b[39m\u001b[38;5;124m\"\u001b[39m, \u001b[38;5;124m\"\u001b[39m\u001b[38;5;124mses-*\u001b[39m\u001b[38;5;124m\"\u001b[39m, \u001b[38;5;124m\"\u001b[39m\u001b[38;5;124msub-*_ses-*_eeg-epo.fif\u001b[39m\u001b[38;5;124m\"\u001b[39m), recursive\u001b[38;5;241m=\u001b[39m\u001b[38;5;28;01mTrue\u001b[39;00m))\n\u001b[1;32m      2\u001b[0m data_l_epochs \u001b[38;5;241m=\u001b[39m [f \u001b[38;5;28;01mfor\u001b[39;00m f \u001b[38;5;129;01min\u001b[39;00m X_data_l_eeg \u001b[38;5;28;01mif\u001b[39;00m \u001b[38;5;124m\"\u001b[39m\u001b[38;5;124mses-03\u001b[39m\u001b[38;5;124m\"\u001b[39m \u001b[38;5;129;01mnot\u001b[39;00m \u001b[38;5;129;01min\u001b[39;00m f]\n\u001b[0;32m----> 3\u001b[0m epochs \u001b[38;5;241m=\u001b[39m mne\u001b[38;5;241m.\u001b[39mread_epochs(\u001b[43mdata_l_epochs\u001b[49m\u001b[43m[\u001b[49m\u001b[38;5;241;43m0\u001b[39;49m\u001b[43m]\u001b[49m, preload\u001b[38;5;241m=\u001b[39m\u001b[38;5;28;01mTrue\u001b[39;00m)\n\u001b[1;32m      4\u001b[0m X \u001b[38;5;241m=\u001b[39m epochs\u001b[38;5;241m.\u001b[39mget_data()\n\u001b[1;32m      5\u001b[0m \u001b[38;5;66;03m### Extacting Labels\u001b[39;00m\n",
      "\u001b[0;31mIndexError\u001b[0m: list index out of range"
     ]
    }
   ],
   "source": [
    "data_l_epochs = sorted(glob(os.path.join(root_dir, \"derivatives\", \"sub-*\", \"ses-*\", \"sub-*_ses-*_eeg-epo.fif\"), recursive=True))\n",
    "data_l_epochs = [f for f in X_data_l_eeg if \"ses-03\" not in f]\n",
    "epochs = mne.read_epochs(data_l_epochs[0], preload=True)\n",
    "X = epochs.get_data()\n",
    "### Extacting Labels\n",
    "event_map = {v: k for k, v in epochs.event_id.items()}\n",
    "y = [event_map[event[-1]] for event in epochs.events]"
   ]
  },
  {
   "cell_type": "code",
   "execution_count": 52,
   "id": "850f50a9",
   "metadata": {},
   "outputs": [
    {
     "name": "stdout",
     "output_type": "stream",
     "text": [
      "Reading /media/linux-pc/Stargate/inner-speech/ds003626-download/derivatives/sub-01/ses-01/sub-01_ses-01_eeg-epo.fif ...\n",
      "Isotrak not found\n",
      "    Found the data of interest:\n",
      "        t =    -500.00 ...    4000.00 ms\n",
      "        0 CTF compensation matrices available\n",
      "Not setting metadata\n",
      "Not setting metadata\n",
      "200 matching events found\n",
      "No baseline correction applied\n",
      "0 projection items activated\n",
      "Reading /media/linux-pc/Stargate/inner-speech/ds003626-download/derivatives/sub-01/ses-02/sub-01_ses-02_eeg-epo.fif ...\n",
      "Isotrak not found\n",
      "    Found the data of interest:\n",
      "        t =    -500.00 ...    4000.00 ms\n",
      "        0 CTF compensation matrices available\n",
      "Not setting metadata\n",
      "Not setting metadata\n",
      "200 matching events found\n",
      "No baseline correction applied\n",
      "0 projection items activated\n",
      "Reading /media/linux-pc/Stargate/inner-speech/ds003626-download/derivatives/sub-02/ses-01/sub-02_ses-01_eeg-epo.fif ...\n",
      "Isotrak not found\n",
      "    Found the data of interest:\n",
      "        t =    -500.00 ...    4000.00 ms\n",
      "        0 CTF compensation matrices available\n",
      "Not setting metadata\n",
      "Not setting metadata\n",
      "200 matching events found\n",
      "No baseline correction applied\n",
      "0 projection items activated\n",
      "Reading /media/linux-pc/Stargate/inner-speech/ds003626-download/derivatives/sub-02/ses-02/sub-02_ses-02_eeg-epo.fif ...\n",
      "Isotrak not found\n",
      "    Found the data of interest:\n",
      "        t =    -500.00 ...    4000.00 ms\n",
      "        0 CTF compensation matrices available\n",
      "Not setting metadata\n",
      "Not setting metadata\n",
      "200 matching events found\n",
      "No baseline correction applied\n",
      "0 projection items activated\n",
      "Reading /media/linux-pc/Stargate/inner-speech/ds003626-download/derivatives/sub-03/ses-01/sub-03_ses-01_eeg-epo.fif ...\n",
      "Isotrak not found\n",
      "    Found the data of interest:\n",
      "        t =    -500.00 ...    4000.00 ms\n",
      "        0 CTF compensation matrices available\n",
      "Not setting metadata\n",
      "Not setting metadata\n",
      "200 matching events found\n",
      "No baseline correction applied\n",
      "0 projection items activated\n",
      "Reading /media/linux-pc/Stargate/inner-speech/ds003626-download/derivatives/sub-03/ses-02/sub-03_ses-02_eeg-epo.fif ...\n",
      "Isotrak not found\n",
      "    Found the data of interest:\n",
      "        t =    -500.00 ...    4000.00 ms\n",
      "        0 CTF compensation matrices available\n",
      "Not setting metadata\n",
      "Not setting metadata\n",
      "200 matching events found\n",
      "No baseline correction applied\n",
      "0 projection items activated\n",
      "Reading /media/linux-pc/Stargate/inner-speech/ds003626-download/derivatives/sub-04/ses-01/sub-04_ses-01_eeg-epo.fif ...\n",
      "Isotrak not found\n",
      "    Found the data of interest:\n",
      "        t =    -500.00 ...    4000.00 ms\n",
      "        0 CTF compensation matrices available\n",
      "Not setting metadata\n",
      "Not setting metadata\n",
      "200 matching events found\n",
      "No baseline correction applied\n",
      "0 projection items activated\n",
      "Reading /media/linux-pc/Stargate/inner-speech/ds003626-download/derivatives/sub-04/ses-02/sub-04_ses-02_eeg-epo.fif ...\n",
      "Isotrak not found\n",
      "    Found the data of interest:\n",
      "        t =    -500.00 ...    4000.00 ms\n",
      "        0 CTF compensation matrices available\n",
      "Not setting metadata\n",
      "Not setting metadata\n",
      "200 matching events found\n",
      "No baseline correction applied\n",
      "0 projection items activated\n",
      "Reading /media/linux-pc/Stargate/inner-speech/ds003626-download/derivatives/sub-05/ses-01/sub-05_ses-01_eeg-epo.fif ...\n",
      "Isotrak not found\n",
      "    Found the data of interest:\n",
      "        t =    -500.00 ...    4000.00 ms\n",
      "        0 CTF compensation matrices available\n",
      "Not setting metadata\n",
      "Not setting metadata\n",
      "200 matching events found\n",
      "No baseline correction applied\n",
      "0 projection items activated\n",
      "Reading /media/linux-pc/Stargate/inner-speech/ds003626-download/derivatives/sub-05/ses-02/sub-05_ses-02_eeg-epo.fif ...\n",
      "Isotrak not found\n",
      "    Found the data of interest:\n",
      "        t =    -500.00 ...    4000.00 ms\n",
      "        0 CTF compensation matrices available\n",
      "Not setting metadata\n",
      "Not setting metadata\n",
      "200 matching events found\n",
      "No baseline correction applied\n",
      "0 projection items activated\n",
      "Reading /media/linux-pc/Stargate/inner-speech/ds003626-download/derivatives/sub-06/ses-01/sub-06_ses-01_eeg-epo.fif ...\n",
      "Isotrak not found\n",
      "    Found the data of interest:\n",
      "        t =    -500.00 ...    4000.00 ms\n",
      "        0 CTF compensation matrices available\n",
      "Not setting metadata\n",
      "Not setting metadata\n",
      "200 matching events found\n",
      "No baseline correction applied\n",
      "0 projection items activated\n",
      "Reading /media/linux-pc/Stargate/inner-speech/ds003626-download/derivatives/sub-06/ses-02/sub-06_ses-02_eeg-epo.fif ...\n",
      "Isotrak not found\n",
      "    Found the data of interest:\n",
      "        t =    -500.00 ...    4000.00 ms\n",
      "        0 CTF compensation matrices available\n",
      "Not setting metadata\n",
      "Not setting metadata\n",
      "200 matching events found\n",
      "No baseline correction applied\n",
      "0 projection items activated\n",
      "Reading /media/linux-pc/Stargate/inner-speech/ds003626-download/derivatives/sub-07/ses-01/sub-07_ses-01_eeg-epo.fif ...\n",
      "Isotrak not found\n",
      "    Found the data of interest:\n",
      "        t =    -500.00 ...    4000.00 ms\n",
      "        0 CTF compensation matrices available\n",
      "Not setting metadata\n",
      "Not setting metadata\n",
      "200 matching events found\n",
      "No baseline correction applied\n",
      "0 projection items activated\n",
      "Reading /media/linux-pc/Stargate/inner-speech/ds003626-download/derivatives/sub-07/ses-02/sub-07_ses-02_eeg-epo.fif ...\n",
      "Isotrak not found\n",
      "    Found the data of interest:\n",
      "        t =    -500.00 ...    4000.00 ms\n",
      "        0 CTF compensation matrices available\n",
      "Not setting metadata\n",
      "Not setting metadata\n",
      "200 matching events found\n",
      "No baseline correction applied\n",
      "0 projection items activated\n",
      "Reading /media/linux-pc/Stargate/inner-speech/ds003626-download/derivatives/sub-08/ses-01/sub-08_ses-01_eeg-epo.fif ...\n",
      "Isotrak not found\n",
      "    Found the data of interest:\n",
      "        t =    -500.00 ...    4000.00 ms\n",
      "        0 CTF compensation matrices available\n",
      "Not setting metadata\n",
      "Not setting metadata\n",
      "200 matching events found\n",
      "No baseline correction applied\n",
      "0 projection items activated\n",
      "Reading /media/linux-pc/Stargate/inner-speech/ds003626-download/derivatives/sub-08/ses-02/sub-08_ses-02_eeg-epo.fif ...\n",
      "Isotrak not found\n",
      "    Found the data of interest:\n",
      "        t =    -500.00 ...    4000.00 ms\n",
      "        0 CTF compensation matrices available\n"
     ]
    },
    {
     "ename": "",
     "evalue": "",
     "output_type": "error",
     "traceback": [
      "\u001b[1;31mThe Kernel crashed while executing code in the current cell or a previous cell. \n",
      "\u001b[1;31mPlease review the code in the cell(s) to identify a possible cause of the failure. \n",
      "\u001b[1;31mClick <a href='https://aka.ms/vscodeJupyterKernelCrash'>here</a> for more info. \n",
      "\u001b[1;31mView Jupyter <a href='command:jupyter.viewOutput'>log</a> for further details."
     ]
    }
   ],
   "source": [
    "import os\n",
    "from glob import glob\n",
    "import mne\n",
    "import numpy as np\n",
    "\n",
    "# Path to your dataset\n",
    "root_dir = \"/media/linux-pc/Stargate/inner-speech/ds003626-download\"\n",
    "\n",
    "# 1. Find all .fif files except those in ses-03\n",
    "data_l_epochs = sorted(glob(os.path.join(root_dir, \"derivatives\", \"sub-*\", \"ses-*\", \"sub-*_ses-*_eeg-epo.fif\"), recursive=True))\n",
    "data_l_epochs = [f for f in data_l_epochs if \"ses-03\" not in f]\n",
    "\n",
    "# 2. Initialize containers for all X and y\n",
    "X_all = []\n",
    "y_all = []\n",
    "\n",
    "# 3. Loop over each file, load epochs, extract data and labels\n",
    "for path in data_l_epochs:\n",
    "    epochs = mne.read_epochs(path, preload=True)\n",
    "    X = epochs.get_data()  # shape: (n_epochs, n_channels, n_samples)\n",
    "\n",
    "    # Build label map\n",
    "    event_map = {v: k for k, v in epochs.event_id.items()}\n",
    "    y = [event_map[event[-1]] for event in epochs.events]  # match labels by last event column\n",
    "\n",
    "    # Append to global list\n",
    "    X_all.append(X)\n",
    "    y_all.extend(y)\n",
    "\n",
    "# 4. Stack X into one NumPy array and y into one list (or array)\n",
    "X_all = np.concatenate(X_all, axis=0)\n",
    "y_all = np.array(y_all)\n",
    "\n",
    "# 5. Report\n",
    "print(f\"Total epochs: {X_all.shape[0]}\")\n",
    "print(f\"Shape of X: {X_all.shape}\")  # (total_trials, n_channels, n_samples)\n",
    "print(f\"Number of labels: {len(y_all)}\")\n",
    "print(f\"Example labels: {y_all[:10]}\")\n"
   ]
  }
 ],
 "metadata": {
  "kernelspec": {
   "display_name": "inner_speech",
   "language": "python",
   "name": "python3"
  },
  "language_info": {
   "codemirror_mode": {
    "name": "ipython",
    "version": 3
   },
   "file_extension": ".py",
   "mimetype": "text/x-python",
   "name": "python",
   "nbconvert_exporter": "python",
   "pygments_lexer": "ipython3",
   "version": "3.8.6"
  }
 },
 "nbformat": 4,
 "nbformat_minor": 5
}
