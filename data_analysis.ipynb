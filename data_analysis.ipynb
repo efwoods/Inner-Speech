{
 "cells": [
  {
   "cell_type": "markdown",
   "id": "51e5ae36",
   "metadata": {},
   "source": [
    "# [Analyzing an Internal Speech Dataset ](https://www.nature.com/articles/s41597-022-01147-2#Sec2)"
   ]
  },
  {
   "cell_type": "code",
   "execution_count": 17,
   "id": "1c46848b",
   "metadata": {},
   "outputs": [],
   "source": [
    "from dotenv import load_dotenv\n",
    "import os\n",
    "from glob import glob\n",
    "import mne"
   ]
  },
  {
   "cell_type": "code",
   "execution_count": 4,
   "id": "62cc8525",
   "metadata": {},
   "outputs": [
    {
     "data": {
      "text/plain": [
       "True"
      ]
     },
     "execution_count": 4,
     "metadata": {},
     "output_type": "execute_result"
    }
   ],
   "source": [
    "load_dotenv()"
   ]
  },
  {
   "cell_type": "code",
   "execution_count": 6,
   "id": "e0793744",
   "metadata": {},
   "outputs": [],
   "source": [
    "root_dir = os.getenv(\"ROOT_DIR\")"
   ]
  },
  {
   "cell_type": "code",
   "execution_count": 7,
   "id": "472e98c6",
   "metadata": {},
   "outputs": [
    {
     "data": {
      "text/plain": [
       "'/media/linux-pc/8TB/inner-speech/ds003626-download/'"
      ]
     },
     "execution_count": 7,
     "metadata": {},
     "output_type": "execute_result"
    }
   ],
   "source": [
    "root_dir"
   ]
  },
  {
   "cell_type": "code",
   "execution_count": 18,
   "id": "8e604757",
   "metadata": {},
   "outputs": [],
   "source": [
    "bdf_file_l = sorted(glob(os.path.join(root_dir, \"**\", \"*.bdf\"), recursive=True))"
   ]
  },
  {
   "cell_type": "code",
   "execution_count": 19,
   "id": "e2333b1f",
   "metadata": {},
   "outputs": [
    {
     "data": {
      "text/plain": [
       "['/media/linux-pc/8TB/inner-speech/ds003626-download/sub-01/ses-01/eeg/sub-01_ses-01_task-innerspeech_eeg.bdf',\n",
       " '/media/linux-pc/8TB/inner-speech/ds003626-download/sub-01/ses-02/eeg/sub-01_ses-02_task-innerspeech_eeg.bdf',\n",
       " '/media/linux-pc/8TB/inner-speech/ds003626-download/sub-01/ses-03/eeg/sub-01_ses-03_task-innerspeech_eeg.bdf',\n",
       " '/media/linux-pc/8TB/inner-speech/ds003626-download/sub-02/ses-01/eeg/sub-02_ses-01_task-innerspeech_eeg.bdf',\n",
       " '/media/linux-pc/8TB/inner-speech/ds003626-download/sub-02/ses-02/eeg/sub-02_ses-02_task-innerspeech_eeg.bdf']"
      ]
     },
     "execution_count": 19,
     "metadata": {},
     "output_type": "execute_result"
    }
   ],
   "source": [
    "bdf_file_l[:5]"
   ]
  },
  {
   "cell_type": "code",
   "execution_count": 20,
   "id": "8e0c6643",
   "metadata": {},
   "outputs": [],
   "source": [
    "bdf_path = bdf_file_l[0]"
   ]
  },
  {
   "cell_type": "code",
   "execution_count": 21,
   "id": "c6cd8ae6",
   "metadata": {},
   "outputs": [
    {
     "name": "stdout",
     "output_type": "stream",
     "text": [
      "Extracting EDF parameters from /media/linux-pc/8TB/inner-speech/ds003626-download/sub-01/ses-01/eeg/sub-01_ses-01_task-innerspeech_eeg.bdf...\n",
      "BDF file detected\n",
      "Setting channel info structure...\n",
      "Creating raw.info structure...\n",
      "Reading 0 ... 1875967  =      0.000 ...  1831.999 secs...\n"
     ]
    }
   ],
   "source": [
    "raw = mne.io.read_raw_bdf(bdf_path, preload=True)"
   ]
  }
 ],
 "metadata": {
  "kernelspec": {
   "display_name": "torch",
   "language": "python",
   "name": "python3"
  },
  "language_info": {
   "codemirror_mode": {
    "name": "ipython",
    "version": 3
   },
   "file_extension": ".py",
   "mimetype": "text/x-python",
   "name": "python",
   "nbconvert_exporter": "python",
   "pygments_lexer": "ipython3",
   "version": "3.10.16"
  }
 },
 "nbformat": 4,
 "nbformat_minor": 5
}
