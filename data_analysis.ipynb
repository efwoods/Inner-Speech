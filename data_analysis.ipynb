{
 "cells": [
  {
   "cell_type": "markdown",
   "id": "51e5ae36",
   "metadata": {},
   "source": [
    "# [Analyzing an Internal Speech Dataset ](https://www.nature.com/articles/s41597-022-01147-2#Sec2)"
   ]
  },
  {
   "cell_type": "code",
   "execution_count": null,
   "id": "1c46848b",
   "metadata": {},
   "outputs": [],
   "source": [
    "from dotenv import load_dotenv\n",
    "import os\n",
    "from glob import glob\n",
    "import mne\n",
    "import numpy as np\n",
    "import pickle\n",
    "\n",
    "load_dotenv()\n",
    "root_dir = os.getenv(\"ROOT_DIR\")"
   ]
  },
  {
   "cell_type": "code",
   "execution_count": 3,
   "id": "472e98c6",
   "metadata": {},
   "outputs": [
    {
     "data": {
      "text/plain": [
       "'/media/linux-pc/8TB/inner-speech/ds003626-download/'"
      ]
     },
     "execution_count": 3,
     "metadata": {},
     "output_type": "execute_result"
    }
   ],
   "source": [
    "root_dir"
   ]
  },
  {
   "cell_type": "code",
   "execution_count": 121,
   "id": "10559979",
   "metadata": {},
   "outputs": [],
   "source": [
    "all_file_l = sorted(glob(os.path.join(root_dir, \"**\", \"*.*\"), recursive=True))"
   ]
  },
  {
   "cell_type": "code",
   "execution_count": 120,
   "id": "2478b711",
   "metadata": {},
   "outputs": [],
   "source": [
    "X_data_l_eeg = sorted(glob(os.path.join(root_dir, \"derivatives\", \"**\", \"**\", \"*.eeg-epo.fif\"), recursive=True))\n",
    "y_data_l_eeg = sorted(glob(os.path.join(root_dir, \"derivatives\", \"**\", \"**\", \"*.events.dat\"), recursive=True))"
   ]
  },
  {
   "cell_type": "code",
   "execution_count": 122,
   "id": "9e94f3da",
   "metadata": {},
   "outputs": [
    {
     "data": {
      "text/plain": [
       "['/media/linux-pc/8TB/inner-speech/ds003626-download/dataset_description.json',\n",
       " '/media/linux-pc/8TB/inner-speech/ds003626-download/derivatives/sub-01/ses-01/sub-01_ses-01_baseline-epo.fif',\n",
       " '/media/linux-pc/8TB/inner-speech/ds003626-download/derivatives/sub-01/ses-01/sub-01_ses-01_eeg-epo.fif',\n",
       " '/media/linux-pc/8TB/inner-speech/ds003626-download/derivatives/sub-01/ses-01/sub-01_ses-01_events.dat',\n",
       " '/media/linux-pc/8TB/inner-speech/ds003626-download/derivatives/sub-01/ses-01/sub-01_ses-01_exg-epo.fif',\n",
       " '/media/linux-pc/8TB/inner-speech/ds003626-download/derivatives/sub-01/ses-01/sub-01_ses-01_report.pkl',\n",
       " '/media/linux-pc/8TB/inner-speech/ds003626-download/derivatives/sub-01/ses-02/sub-01_ses-02_baseline-epo.fif',\n",
       " '/media/linux-pc/8TB/inner-speech/ds003626-download/derivatives/sub-01/ses-02/sub-01_ses-02_eeg-epo.fif',\n",
       " '/media/linux-pc/8TB/inner-speech/ds003626-download/derivatives/sub-01/ses-02/sub-01_ses-02_events.dat',\n",
       " '/media/linux-pc/8TB/inner-speech/ds003626-download/derivatives/sub-01/ses-02/sub-01_ses-02_exg-epo.fif',\n",
       " '/media/linux-pc/8TB/inner-speech/ds003626-download/derivatives/sub-01/ses-02/sub-01_ses-02_report.pkl',\n",
       " '/media/linux-pc/8TB/inner-speech/ds003626-download/derivatives/sub-01/ses-03/sub-01_ses-03_baseline-epo.fif',\n",
       " '/media/linux-pc/8TB/inner-speech/ds003626-download/derivatives/sub-01/ses-03/sub-01_ses-03_eeg-epo.fif',\n",
       " '/media/linux-pc/8TB/inner-speech/ds003626-download/derivatives/sub-01/ses-03/sub-01_ses-03_events.dat',\n",
       " '/media/linux-pc/8TB/inner-speech/ds003626-download/derivatives/sub-01/ses-03/sub-01_ses-03_exg-epo.fif',\n",
       " '/media/linux-pc/8TB/inner-speech/ds003626-download/derivatives/sub-01/ses-03/sub-01_ses-03_report.pkl',\n",
       " '/media/linux-pc/8TB/inner-speech/ds003626-download/derivatives/sub-02/ses-01/sub-02_ses-01_baseline-epo.fif',\n",
       " '/media/linux-pc/8TB/inner-speech/ds003626-download/derivatives/sub-02/ses-01/sub-02_ses-01_eeg-epo.fif',\n",
       " '/media/linux-pc/8TB/inner-speech/ds003626-download/derivatives/sub-02/ses-01/sub-02_ses-01_events.dat',\n",
       " '/media/linux-pc/8TB/inner-speech/ds003626-download/derivatives/sub-02/ses-01/sub-02_ses-01_exg-epo.fif',\n",
       " '/media/linux-pc/8TB/inner-speech/ds003626-download/derivatives/sub-02/ses-01/sub-02_ses-01_report.pkl',\n",
       " '/media/linux-pc/8TB/inner-speech/ds003626-download/derivatives/sub-02/ses-02/sub-02_ses-02_baseline-epo.fif',\n",
       " '/media/linux-pc/8TB/inner-speech/ds003626-download/derivatives/sub-02/ses-02/sub-02_ses-02_eeg-epo.fif',\n",
       " '/media/linux-pc/8TB/inner-speech/ds003626-download/derivatives/sub-02/ses-02/sub-02_ses-02_events.dat',\n",
       " '/media/linux-pc/8TB/inner-speech/ds003626-download/derivatives/sub-02/ses-02/sub-02_ses-02_exg-epo.fif',\n",
       " '/media/linux-pc/8TB/inner-speech/ds003626-download/derivatives/sub-02/ses-02/sub-02_ses-02_report.pkl',\n",
       " '/media/linux-pc/8TB/inner-speech/ds003626-download/derivatives/sub-02/ses-03/sub-02_ses-03_baseline-epo.fif',\n",
       " '/media/linux-pc/8TB/inner-speech/ds003626-download/derivatives/sub-02/ses-03/sub-02_ses-03_eeg-epo.fif',\n",
       " '/media/linux-pc/8TB/inner-speech/ds003626-download/derivatives/sub-02/ses-03/sub-02_ses-03_events.dat',\n",
       " '/media/linux-pc/8TB/inner-speech/ds003626-download/derivatives/sub-02/ses-03/sub-02_ses-03_exg-epo.fif',\n",
       " '/media/linux-pc/8TB/inner-speech/ds003626-download/derivatives/sub-02/ses-03/sub-02_ses-03_report.pkl',\n",
       " '/media/linux-pc/8TB/inner-speech/ds003626-download/derivatives/sub-03/ses-01/sub-03_ses-01_baseline-epo.fif',\n",
       " '/media/linux-pc/8TB/inner-speech/ds003626-download/derivatives/sub-03/ses-01/sub-03_ses-01_eeg-epo.fif',\n",
       " '/media/linux-pc/8TB/inner-speech/ds003626-download/derivatives/sub-03/ses-01/sub-03_ses-01_events.dat',\n",
       " '/media/linux-pc/8TB/inner-speech/ds003626-download/derivatives/sub-03/ses-01/sub-03_ses-01_exg-epo.fif',\n",
       " '/media/linux-pc/8TB/inner-speech/ds003626-download/derivatives/sub-03/ses-01/sub-03_ses-01_report.pkl',\n",
       " '/media/linux-pc/8TB/inner-speech/ds003626-download/derivatives/sub-03/ses-02/sub-03_ses-02_baseline-epo.fif',\n",
       " '/media/linux-pc/8TB/inner-speech/ds003626-download/derivatives/sub-03/ses-02/sub-03_ses-02_eeg-epo.fif',\n",
       " '/media/linux-pc/8TB/inner-speech/ds003626-download/derivatives/sub-03/ses-02/sub-03_ses-02_events.dat',\n",
       " '/media/linux-pc/8TB/inner-speech/ds003626-download/derivatives/sub-03/ses-02/sub-03_ses-02_exg-epo.fif',\n",
       " '/media/linux-pc/8TB/inner-speech/ds003626-download/derivatives/sub-03/ses-02/sub-03_ses-02_report.pkl',\n",
       " '/media/linux-pc/8TB/inner-speech/ds003626-download/derivatives/sub-03/ses-03/sub-03_ses-03_baseline-epo.fif',\n",
       " '/media/linux-pc/8TB/inner-speech/ds003626-download/derivatives/sub-03/ses-03/sub-03_ses-03_eeg-epo.fif',\n",
       " '/media/linux-pc/8TB/inner-speech/ds003626-download/derivatives/sub-03/ses-03/sub-03_ses-03_events.dat',\n",
       " '/media/linux-pc/8TB/inner-speech/ds003626-download/derivatives/sub-03/ses-03/sub-03_ses-03_exg-epo.fif',\n",
       " '/media/linux-pc/8TB/inner-speech/ds003626-download/derivatives/sub-03/ses-03/sub-03_ses-03_report.pkl',\n",
       " '/media/linux-pc/8TB/inner-speech/ds003626-download/derivatives/sub-04/ses-01/sub-04_ses-01_baseline-epo.fif',\n",
       " '/media/linux-pc/8TB/inner-speech/ds003626-download/derivatives/sub-04/ses-01/sub-04_ses-01_eeg-epo.fif',\n",
       " '/media/linux-pc/8TB/inner-speech/ds003626-download/derivatives/sub-04/ses-01/sub-04_ses-01_events.dat',\n",
       " '/media/linux-pc/8TB/inner-speech/ds003626-download/derivatives/sub-04/ses-01/sub-04_ses-01_exg-epo.fif',\n",
       " '/media/linux-pc/8TB/inner-speech/ds003626-download/derivatives/sub-04/ses-01/sub-04_ses-01_report.pkl',\n",
       " '/media/linux-pc/8TB/inner-speech/ds003626-download/derivatives/sub-04/ses-02/sub-04_ses-02_baseline-epo.fif',\n",
       " '/media/linux-pc/8TB/inner-speech/ds003626-download/derivatives/sub-04/ses-02/sub-04_ses-02_eeg-epo.fif',\n",
       " '/media/linux-pc/8TB/inner-speech/ds003626-download/derivatives/sub-04/ses-02/sub-04_ses-02_events.dat',\n",
       " '/media/linux-pc/8TB/inner-speech/ds003626-download/derivatives/sub-04/ses-02/sub-04_ses-02_exg-epo.fif',\n",
       " '/media/linux-pc/8TB/inner-speech/ds003626-download/derivatives/sub-04/ses-02/sub-04_ses-02_report.pkl',\n",
       " '/media/linux-pc/8TB/inner-speech/ds003626-download/derivatives/sub-04/ses-03/sub-04_ses-03_baseline-epo.fif',\n",
       " '/media/linux-pc/8TB/inner-speech/ds003626-download/derivatives/sub-04/ses-03/sub-04_ses-03_eeg-epo.fif',\n",
       " '/media/linux-pc/8TB/inner-speech/ds003626-download/derivatives/sub-04/ses-03/sub-04_ses-03_events.dat',\n",
       " '/media/linux-pc/8TB/inner-speech/ds003626-download/derivatives/sub-04/ses-03/sub-04_ses-03_exg-epo.fif',\n",
       " '/media/linux-pc/8TB/inner-speech/ds003626-download/derivatives/sub-04/ses-03/sub-04_ses-03_report.pkl',\n",
       " '/media/linux-pc/8TB/inner-speech/ds003626-download/derivatives/sub-05/ses-01/sub-05_ses-01_baseline-epo.fif',\n",
       " '/media/linux-pc/8TB/inner-speech/ds003626-download/derivatives/sub-05/ses-01/sub-05_ses-01_eeg-epo.fif',\n",
       " '/media/linux-pc/8TB/inner-speech/ds003626-download/derivatives/sub-05/ses-01/sub-05_ses-01_events.dat',\n",
       " '/media/linux-pc/8TB/inner-speech/ds003626-download/derivatives/sub-05/ses-01/sub-05_ses-01_exg-epo.fif',\n",
       " '/media/linux-pc/8TB/inner-speech/ds003626-download/derivatives/sub-05/ses-01/sub-05_ses-01_report.pkl',\n",
       " '/media/linux-pc/8TB/inner-speech/ds003626-download/derivatives/sub-05/ses-02/sub-05_ses-02_baseline-epo.fif',\n",
       " '/media/linux-pc/8TB/inner-speech/ds003626-download/derivatives/sub-05/ses-02/sub-05_ses-02_eeg-epo.fif',\n",
       " '/media/linux-pc/8TB/inner-speech/ds003626-download/derivatives/sub-05/ses-02/sub-05_ses-02_events.dat',\n",
       " '/media/linux-pc/8TB/inner-speech/ds003626-download/derivatives/sub-05/ses-02/sub-05_ses-02_exg-epo.fif',\n",
       " '/media/linux-pc/8TB/inner-speech/ds003626-download/derivatives/sub-05/ses-02/sub-05_ses-02_report.pkl',\n",
       " '/media/linux-pc/8TB/inner-speech/ds003626-download/derivatives/sub-05/ses-03/sub-05_ses-03_baseline-epo.fif',\n",
       " '/media/linux-pc/8TB/inner-speech/ds003626-download/derivatives/sub-05/ses-03/sub-05_ses-03_eeg-epo.fif',\n",
       " '/media/linux-pc/8TB/inner-speech/ds003626-download/derivatives/sub-05/ses-03/sub-05_ses-03_events.dat',\n",
       " '/media/linux-pc/8TB/inner-speech/ds003626-download/derivatives/sub-05/ses-03/sub-05_ses-03_exg-epo.fif',\n",
       " '/media/linux-pc/8TB/inner-speech/ds003626-download/derivatives/sub-05/ses-03/sub-05_ses-03_report.pkl',\n",
       " '/media/linux-pc/8TB/inner-speech/ds003626-download/derivatives/sub-06/ses-01/sub-06_ses-01_baseline-epo.fif',\n",
       " '/media/linux-pc/8TB/inner-speech/ds003626-download/derivatives/sub-06/ses-01/sub-06_ses-01_eeg-epo.fif',\n",
       " '/media/linux-pc/8TB/inner-speech/ds003626-download/derivatives/sub-06/ses-01/sub-06_ses-01_events.dat',\n",
       " '/media/linux-pc/8TB/inner-speech/ds003626-download/derivatives/sub-06/ses-01/sub-06_ses-01_exg-epo.fif',\n",
       " '/media/linux-pc/8TB/inner-speech/ds003626-download/derivatives/sub-06/ses-01/sub-06_ses-01_report.pkl',\n",
       " '/media/linux-pc/8TB/inner-speech/ds003626-download/derivatives/sub-06/ses-02/sub-06_ses-02_baseline-epo.fif',\n",
       " '/media/linux-pc/8TB/inner-speech/ds003626-download/derivatives/sub-06/ses-02/sub-06_ses-02_eeg-epo.fif',\n",
       " '/media/linux-pc/8TB/inner-speech/ds003626-download/derivatives/sub-06/ses-02/sub-06_ses-02_events.dat',\n",
       " '/media/linux-pc/8TB/inner-speech/ds003626-download/derivatives/sub-06/ses-02/sub-06_ses-02_exg-epo.fif',\n",
       " '/media/linux-pc/8TB/inner-speech/ds003626-download/derivatives/sub-06/ses-02/sub-06_ses-02_report.pkl',\n",
       " '/media/linux-pc/8TB/inner-speech/ds003626-download/derivatives/sub-06/ses-03/sub-06_ses-03_baseline-epo.fif',\n",
       " '/media/linux-pc/8TB/inner-speech/ds003626-download/derivatives/sub-06/ses-03/sub-06_ses-03_eeg-epo.fif',\n",
       " '/media/linux-pc/8TB/inner-speech/ds003626-download/derivatives/sub-06/ses-03/sub-06_ses-03_events.dat',\n",
       " '/media/linux-pc/8TB/inner-speech/ds003626-download/derivatives/sub-06/ses-03/sub-06_ses-03_exg-epo.fif',\n",
       " '/media/linux-pc/8TB/inner-speech/ds003626-download/derivatives/sub-06/ses-03/sub-06_ses-03_report.pkl',\n",
       " '/media/linux-pc/8TB/inner-speech/ds003626-download/derivatives/sub-07/ses-01/sub-07_ses-01_baseline-epo.fif',\n",
       " '/media/linux-pc/8TB/inner-speech/ds003626-download/derivatives/sub-07/ses-01/sub-07_ses-01_eeg-epo.fif',\n",
       " '/media/linux-pc/8TB/inner-speech/ds003626-download/derivatives/sub-07/ses-01/sub-07_ses-01_events.dat',\n",
       " '/media/linux-pc/8TB/inner-speech/ds003626-download/derivatives/sub-07/ses-01/sub-07_ses-01_exg-epo.fif',\n",
       " '/media/linux-pc/8TB/inner-speech/ds003626-download/derivatives/sub-07/ses-01/sub-07_ses-01_report.pkl',\n",
       " '/media/linux-pc/8TB/inner-speech/ds003626-download/derivatives/sub-07/ses-02/sub-07_ses-02_baseline-epo.fif',\n",
       " '/media/linux-pc/8TB/inner-speech/ds003626-download/derivatives/sub-07/ses-02/sub-07_ses-02_eeg-epo.fif',\n",
       " '/media/linux-pc/8TB/inner-speech/ds003626-download/derivatives/sub-07/ses-02/sub-07_ses-02_events.dat',\n",
       " '/media/linux-pc/8TB/inner-speech/ds003626-download/derivatives/sub-07/ses-02/sub-07_ses-02_exg-epo.fif',\n",
       " '/media/linux-pc/8TB/inner-speech/ds003626-download/derivatives/sub-07/ses-02/sub-07_ses-02_report.pkl',\n",
       " '/media/linux-pc/8TB/inner-speech/ds003626-download/derivatives/sub-07/ses-03/sub-07_ses-03_baseline-epo.fif',\n",
       " '/media/linux-pc/8TB/inner-speech/ds003626-download/derivatives/sub-07/ses-03/sub-07_ses-03_eeg-epo.fif',\n",
       " '/media/linux-pc/8TB/inner-speech/ds003626-download/derivatives/sub-07/ses-03/sub-07_ses-03_events.dat',\n",
       " '/media/linux-pc/8TB/inner-speech/ds003626-download/derivatives/sub-07/ses-03/sub-07_ses-03_exg-epo.fif',\n",
       " '/media/linux-pc/8TB/inner-speech/ds003626-download/derivatives/sub-07/ses-03/sub-07_ses-03_report.pkl',\n",
       " '/media/linux-pc/8TB/inner-speech/ds003626-download/derivatives/sub-08/ses-01/sub-08_ses-01_baseline-epo.fif',\n",
       " '/media/linux-pc/8TB/inner-speech/ds003626-download/derivatives/sub-08/ses-01/sub-08_ses-01_eeg-epo.fif',\n",
       " '/media/linux-pc/8TB/inner-speech/ds003626-download/derivatives/sub-08/ses-01/sub-08_ses-01_events.dat',\n",
       " '/media/linux-pc/8TB/inner-speech/ds003626-download/derivatives/sub-08/ses-01/sub-08_ses-01_exg-epo.fif',\n",
       " '/media/linux-pc/8TB/inner-speech/ds003626-download/derivatives/sub-08/ses-01/sub-08_ses-01_report.pkl',\n",
       " '/media/linux-pc/8TB/inner-speech/ds003626-download/derivatives/sub-08/ses-02/sub-08_ses-02_baseline-epo.fif',\n",
       " '/media/linux-pc/8TB/inner-speech/ds003626-download/derivatives/sub-08/ses-02/sub-08_ses-02_eeg-epo.fif',\n",
       " '/media/linux-pc/8TB/inner-speech/ds003626-download/derivatives/sub-08/ses-02/sub-08_ses-02_events.dat',\n",
       " '/media/linux-pc/8TB/inner-speech/ds003626-download/derivatives/sub-08/ses-02/sub-08_ses-02_exg-epo.fif',\n",
       " '/media/linux-pc/8TB/inner-speech/ds003626-download/derivatives/sub-08/ses-02/sub-08_ses-02_report.pkl',\n",
       " '/media/linux-pc/8TB/inner-speech/ds003626-download/derivatives/sub-08/ses-03/sub-08_ses-03_baseline-epo.fif',\n",
       " '/media/linux-pc/8TB/inner-speech/ds003626-download/derivatives/sub-08/ses-03/sub-08_ses-03_eeg-epo.fif',\n",
       " '/media/linux-pc/8TB/inner-speech/ds003626-download/derivatives/sub-08/ses-03/sub-08_ses-03_events.dat',\n",
       " '/media/linux-pc/8TB/inner-speech/ds003626-download/derivatives/sub-08/ses-03/sub-08_ses-03_exg-epo.fif',\n",
       " '/media/linux-pc/8TB/inner-speech/ds003626-download/derivatives/sub-08/ses-03/sub-08_ses-03_report.pkl',\n",
       " '/media/linux-pc/8TB/inner-speech/ds003626-download/derivatives/sub-09/ses-01/sub-09_ses-01_baseline-epo.fif',\n",
       " '/media/linux-pc/8TB/inner-speech/ds003626-download/derivatives/sub-09/ses-01/sub-09_ses-01_eeg-epo.fif',\n",
       " '/media/linux-pc/8TB/inner-speech/ds003626-download/derivatives/sub-09/ses-01/sub-09_ses-01_events.dat',\n",
       " '/media/linux-pc/8TB/inner-speech/ds003626-download/derivatives/sub-09/ses-01/sub-09_ses-01_exg-epo.fif',\n",
       " '/media/linux-pc/8TB/inner-speech/ds003626-download/derivatives/sub-09/ses-01/sub-09_ses-01_report.pkl',\n",
       " '/media/linux-pc/8TB/inner-speech/ds003626-download/derivatives/sub-09/ses-02/sub-09_ses-02_baseline-epo.fif',\n",
       " '/media/linux-pc/8TB/inner-speech/ds003626-download/derivatives/sub-09/ses-02/sub-09_ses-02_eeg-epo.fif',\n",
       " '/media/linux-pc/8TB/inner-speech/ds003626-download/derivatives/sub-09/ses-02/sub-09_ses-02_events.dat',\n",
       " '/media/linux-pc/8TB/inner-speech/ds003626-download/derivatives/sub-09/ses-02/sub-09_ses-02_exg-epo.fif',\n",
       " '/media/linux-pc/8TB/inner-speech/ds003626-download/derivatives/sub-09/ses-02/sub-09_ses-02_report.pkl',\n",
       " '/media/linux-pc/8TB/inner-speech/ds003626-download/derivatives/sub-09/ses-03/sub-09_ses-03_baseline-epo.fif',\n",
       " '/media/linux-pc/8TB/inner-speech/ds003626-download/derivatives/sub-09/ses-03/sub-09_ses-03_eeg-epo.fif',\n",
       " '/media/linux-pc/8TB/inner-speech/ds003626-download/derivatives/sub-09/ses-03/sub-09_ses-03_events.dat',\n",
       " '/media/linux-pc/8TB/inner-speech/ds003626-download/derivatives/sub-09/ses-03/sub-09_ses-03_exg-epo.fif',\n",
       " '/media/linux-pc/8TB/inner-speech/ds003626-download/derivatives/sub-09/ses-03/sub-09_ses-03_report.pkl',\n",
       " '/media/linux-pc/8TB/inner-speech/ds003626-download/derivatives/sub-10/ses-01/sub-10_ses-01_baseline-epo.fif',\n",
       " '/media/linux-pc/8TB/inner-speech/ds003626-download/derivatives/sub-10/ses-01/sub-10_ses-01_eeg-epo.fif',\n",
       " '/media/linux-pc/8TB/inner-speech/ds003626-download/derivatives/sub-10/ses-01/sub-10_ses-01_events.dat',\n",
       " '/media/linux-pc/8TB/inner-speech/ds003626-download/derivatives/sub-10/ses-01/sub-10_ses-01_exg-epo.fif',\n",
       " '/media/linux-pc/8TB/inner-speech/ds003626-download/derivatives/sub-10/ses-01/sub-10_ses-01_report.pkl',\n",
       " '/media/linux-pc/8TB/inner-speech/ds003626-download/derivatives/sub-10/ses-02/sub-10_ses-02_baseline-epo.fif',\n",
       " '/media/linux-pc/8TB/inner-speech/ds003626-download/derivatives/sub-10/ses-02/sub-10_ses-02_eeg-epo.fif',\n",
       " '/media/linux-pc/8TB/inner-speech/ds003626-download/derivatives/sub-10/ses-02/sub-10_ses-02_events.dat',\n",
       " '/media/linux-pc/8TB/inner-speech/ds003626-download/derivatives/sub-10/ses-02/sub-10_ses-02_exg-epo.fif',\n",
       " '/media/linux-pc/8TB/inner-speech/ds003626-download/derivatives/sub-10/ses-02/sub-10_ses-02_report.pkl',\n",
       " '/media/linux-pc/8TB/inner-speech/ds003626-download/derivatives/sub-10/ses-03/sub-10_ses-03_baseline-epo.fif',\n",
       " '/media/linux-pc/8TB/inner-speech/ds003626-download/derivatives/sub-10/ses-03/sub-10_ses-03_eeg-epo.fif',\n",
       " '/media/linux-pc/8TB/inner-speech/ds003626-download/derivatives/sub-10/ses-03/sub-10_ses-03_events.dat',\n",
       " '/media/linux-pc/8TB/inner-speech/ds003626-download/derivatives/sub-10/ses-03/sub-10_ses-03_exg-epo.fif',\n",
       " '/media/linux-pc/8TB/inner-speech/ds003626-download/derivatives/sub-10/ses-03/sub-10_ses-03_report.pkl',\n",
       " '/media/linux-pc/8TB/inner-speech/ds003626-download/sub-01/ses-01/eeg/sub-01_ses-01_task-innerspeech_eeg.bdf',\n",
       " '/media/linux-pc/8TB/inner-speech/ds003626-download/sub-01/ses-02/eeg/sub-01_ses-02_task-innerspeech_eeg.bdf',\n",
       " '/media/linux-pc/8TB/inner-speech/ds003626-download/sub-01/ses-03/eeg/sub-01_ses-03_task-innerspeech_eeg.bdf',\n",
       " '/media/linux-pc/8TB/inner-speech/ds003626-download/sub-02/ses-01/eeg/sub-02_ses-01_task-innerspeech_eeg.bdf',\n",
       " '/media/linux-pc/8TB/inner-speech/ds003626-download/sub-02/ses-02/eeg/sub-02_ses-02_task-innerspeech_eeg.bdf',\n",
       " '/media/linux-pc/8TB/inner-speech/ds003626-download/sub-02/ses-03/eeg/sub-02_ses-03_task-innerspeech_eeg.bdf',\n",
       " '/media/linux-pc/8TB/inner-speech/ds003626-download/sub-03/ses-01/eeg/sub-03_ses-01_task-innerspeech_eeg.bdf',\n",
       " '/media/linux-pc/8TB/inner-speech/ds003626-download/sub-03/ses-02/eeg/sub-03_ses-02_task-innerspeech_eeg.bdf',\n",
       " '/media/linux-pc/8TB/inner-speech/ds003626-download/sub-03/ses-03/eeg/sub-03_ses-03_task-innerspeech_eeg.bdf',\n",
       " '/media/linux-pc/8TB/inner-speech/ds003626-download/sub-04/ses-01/eeg/sub-04_ses-01_task-innerspeech_eeg.bdf',\n",
       " '/media/linux-pc/8TB/inner-speech/ds003626-download/sub-04/ses-02/eeg/sub-04_ses-02_task-innerspeech_eeg.bdf',\n",
       " '/media/linux-pc/8TB/inner-speech/ds003626-download/sub-04/ses-03/eeg/sub-04_ses-03_task-innerspeech_eeg.bdf',\n",
       " '/media/linux-pc/8TB/inner-speech/ds003626-download/sub-05/ses-01/eeg/sub-05_ses-01_task-innerspeech_eeg.bdf',\n",
       " '/media/linux-pc/8TB/inner-speech/ds003626-download/sub-05/ses-02/eeg/sub-05_ses-02_task-innerspeech_eeg.bdf',\n",
       " '/media/linux-pc/8TB/inner-speech/ds003626-download/sub-05/ses-03/eeg/sub-05_ses-03_task-innerspeech_eeg.bdf',\n",
       " '/media/linux-pc/8TB/inner-speech/ds003626-download/sub-06/ses-01/eeg/sub-06_ses-01_task-innerspeech_eeg.bdf',\n",
       " '/media/linux-pc/8TB/inner-speech/ds003626-download/sub-06/ses-02/eeg/sub-06_ses-02_task-innerspeech_eeg.bdf',\n",
       " '/media/linux-pc/8TB/inner-speech/ds003626-download/sub-06/ses-03/eeg/sub-06_ses-03_task-innerspeech_eeg.bdf',\n",
       " '/media/linux-pc/8TB/inner-speech/ds003626-download/sub-07/ses-01/eeg/sub-07_ses-01_task-innerspeech_eeg.bdf',\n",
       " '/media/linux-pc/8TB/inner-speech/ds003626-download/sub-07/ses-02/eeg/sub-07_ses-02_task-innerspeech_eeg.bdf',\n",
       " '/media/linux-pc/8TB/inner-speech/ds003626-download/sub-07/ses-03/eeg/sub-07_ses-03_task-innerspeech_eeg.bdf',\n",
       " '/media/linux-pc/8TB/inner-speech/ds003626-download/sub-08/ses-01/eeg/sub-08_ses-01_task-innerspeech_eeg.bdf',\n",
       " '/media/linux-pc/8TB/inner-speech/ds003626-download/sub-08/ses-02/eeg/sub-08_ses-02_task-innerspeech_eeg.bdf',\n",
       " '/media/linux-pc/8TB/inner-speech/ds003626-download/sub-08/ses-03/eeg/sub-08_ses-03_task-innerspeech_eeg.bdf',\n",
       " '/media/linux-pc/8TB/inner-speech/ds003626-download/sub-09/ses-01/eeg/sub-09_ses-01_task-innerspeech_eeg.bdf',\n",
       " '/media/linux-pc/8TB/inner-speech/ds003626-download/sub-09/ses-02/eeg/sub-09_ses-02_task-innerspeech_eeg.bdf',\n",
       " '/media/linux-pc/8TB/inner-speech/ds003626-download/sub-09/ses-03/eeg/sub-09_ses-03_task-innerspeech_eeg.bdf',\n",
       " '/media/linux-pc/8TB/inner-speech/ds003626-download/sub-10/ses-01/eeg/sub-10_ses-01_task-innerspeech_eeg.bdf',\n",
       " '/media/linux-pc/8TB/inner-speech/ds003626-download/sub-10/ses-02/eeg/sub-10_ses-02_task-innerspeech_eeg.bdf',\n",
       " '/media/linux-pc/8TB/inner-speech/ds003626-download/sub-10/ses-03/eeg/sub-10_ses-03_task-innerspeech_eeg.bdf']"
      ]
     },
     "execution_count": 122,
     "metadata": {},
     "output_type": "execute_result"
    }
   ],
   "source": [
    "all_file_l"
   ]
  },
  {
   "cell_type": "code",
   "execution_count": 30,
   "id": "8e604757",
   "metadata": {},
   "outputs": [],
   "source": [
    "bdf_file_l = sorted(glob(os.path.join(root_dir, \"**\", \"*.bdf\"), recursive=True))"
   ]
  },
  {
   "cell_type": "code",
   "execution_count": 26,
   "id": "e2333b1f",
   "metadata": {},
   "outputs": [
    {
     "data": {
      "text/plain": [
       "['/media/linux-pc/8TB/inner-speech/ds003626-download/derivatives/sub-01/ses-01/sub-01_ses-01_baseline-epo.fif',\n",
       " '/media/linux-pc/8TB/inner-speech/ds003626-download/derivatives/sub-01/ses-01/sub-01_ses-01_eeg-epo.fif',\n",
       " '/media/linux-pc/8TB/inner-speech/ds003626-download/derivatives/sub-01/ses-01/sub-01_ses-01_exg-epo.fif',\n",
       " '/media/linux-pc/8TB/inner-speech/ds003626-download/derivatives/sub-01/ses-02/sub-01_ses-02_baseline-epo.fif',\n",
       " '/media/linux-pc/8TB/inner-speech/ds003626-download/derivatives/sub-01/ses-02/sub-01_ses-02_eeg-epo.fif']"
      ]
     },
     "execution_count": 26,
     "metadata": {},
     "output_type": "execute_result"
    }
   ],
   "source": [
    "bdf_file_l[:5]"
   ]
  },
  {
   "cell_type": "code",
   "execution_count": 20,
   "id": "8e0c6643",
   "metadata": {},
   "outputs": [],
   "source": [
    "bdf_path = bdf_file_l[0]"
   ]
  },
  {
   "cell_type": "code",
   "execution_count": 21,
   "id": "c6cd8ae6",
   "metadata": {},
   "outputs": [
    {
     "name": "stdout",
     "output_type": "stream",
     "text": [
      "Extracting EDF parameters from /media/linux-pc/8TB/inner-speech/ds003626-download/sub-01/ses-01/eeg/sub-01_ses-01_task-innerspeech_eeg.bdf...\n",
      "BDF file detected\n",
      "Setting channel info structure...\n",
      "Creating raw.info structure...\n",
      "Reading 0 ... 1875967  =      0.000 ...  1831.999 secs...\n"
     ]
    }
   ],
   "source": [
    "raw = mne.io.read_raw_bdf(bdf_path, preload=True)"
   ]
  },
  {
   "cell_type": "code",
   "execution_count": 22,
   "id": "8557de2b",
   "metadata": {},
   "outputs": [
    {
     "name": "stdout",
     "output_type": "stream",
     "text": [
      "<Info | 8 non-empty values\n",
      " bads: []\n",
      " ch_names: A1, A2, A3, A4, A5, A6, A7, A8, A9, A10, A11, A12, A13, A14, ...\n",
      " chs: 136 EEG, 1 Stimulus\n",
      " custom_ref_applied: False\n",
      " highpass: 0.0 Hz\n",
      " lowpass: 208.0 Hz\n",
      " meas_date: 2019-08-20 10:57:41 UTC\n",
      " nchan: 137\n",
      " projs: []\n",
      " sfreq: 1024.0 Hz\n",
      " subject_info: <subject_info | his_id: >\n",
      ">\n"
     ]
    }
   ],
   "source": [
    "print(raw.info)"
   ]
  },
  {
   "cell_type": "code",
   "execution_count": 24,
   "id": "5159b3c6",
   "metadata": {},
   "outputs": [
    {
     "name": "stdout",
     "output_type": "stream",
     "text": [
      "Event labels and IDs: {}\n"
     ]
    }
   ],
   "source": [
    "events, event_id = mne.events_from_annotations(raw)\n",
    "print(\"Event labels and IDs:\", event_id)"
   ]
  },
  {
   "cell_type": "code",
   "execution_count": 33,
   "id": "6f7e718c",
   "metadata": {},
   "outputs": [
    {
     "data": {
      "text/plain": [
       "'/media/linux-pc/8TB/inner-speech/ds003626-download/derivatives/sub-01/ses-01/sub-01_ses-01_baseline-epo.fif'"
      ]
     },
     "execution_count": 33,
     "metadata": {},
     "output_type": "execute_result"
    }
   ],
   "source": [
    "all_file_l[1]"
   ]
  },
  {
   "cell_type": "code",
   "execution_count": 34,
   "id": "6510d779",
   "metadata": {},
   "outputs": [],
   "source": [
    "eeg_epochs_path = all_file_l[1]"
   ]
  },
  {
   "cell_type": "code",
   "execution_count": 35,
   "id": "925a6cb4",
   "metadata": {},
   "outputs": [
    {
     "name": "stdout",
     "output_type": "stream",
     "text": [
      "Reading /media/linux-pc/8TB/inner-speech/ds003626-download/derivatives/sub-01/ses-01/sub-01_ses-01_baseline-epo.fif ...\n",
      "Isotrak not found\n",
      "    Found the data of interest:\n",
      "        t =       0.00 ...   15000.00 ms\n",
      "        0 CTF compensation matrices available\n",
      "Not setting metadata\n",
      "1 matching events found\n",
      "No baseline correction applied\n",
      "0 projection items activated\n"
     ]
    }
   ],
   "source": [
    "epochs = mne.read_epochs(eeg_epochs_path, preload=True)"
   ]
  },
  {
   "cell_type": "code",
   "execution_count": 36,
   "id": "4ddbd4df",
   "metadata": {},
   "outputs": [
    {
     "name": "stdout",
     "output_type": "stream",
     "text": [
      "<EpochsFIF | 1 events (all good), 0 – 15 s (baseline off), ~4.2 MiB, data loaded,\n",
      " 'Baseline': 1>\n"
     ]
    }
   ],
   "source": [
    "print(epochs)"
   ]
  },
  {
   "cell_type": "code",
   "execution_count": 37,
   "id": "8c6a5b0a",
   "metadata": {},
   "outputs": [
    {
     "data": {
      "text/plain": [
       "{'Baseline': 13}"
      ]
     },
     "execution_count": 37,
     "metadata": {},
     "output_type": "execute_result"
    }
   ],
   "source": [
    "epochs.event_id"
   ]
  },
  {
   "cell_type": "code",
   "execution_count": 112,
   "id": "38928d72",
   "metadata": {},
   "outputs": [
    {
     "data": {
      "text/plain": [
       "['/media/linux-pc/8TB/inner-speech/ds003626-download/derivatives/sub-01/ses-01/sub-01_ses-01_baseline-epo.fif',\n",
       " '/media/linux-pc/8TB/inner-speech/ds003626-download/derivatives/sub-01/ses-01/sub-01_ses-01_eeg-epo.fif',\n",
       " '/media/linux-pc/8TB/inner-speech/ds003626-download/derivatives/sub-01/ses-01/sub-01_ses-01_events.dat',\n",
       " '/media/linux-pc/8TB/inner-speech/ds003626-download/derivatives/sub-01/ses-01/sub-01_ses-01_exg-epo.fif',\n",
       " '/media/linux-pc/8TB/inner-speech/ds003626-download/derivatives/sub-01/ses-01/sub-01_ses-01_report.pkl',\n",
       " '/media/linux-pc/8TB/inner-speech/ds003626-download/derivatives/sub-01/ses-02/sub-01_ses-02_baseline-epo.fif',\n",
       " '/media/linux-pc/8TB/inner-speech/ds003626-download/derivatives/sub-01/ses-02/sub-01_ses-02_eeg-epo.fif',\n",
       " '/media/linux-pc/8TB/inner-speech/ds003626-download/derivatives/sub-01/ses-02/sub-01_ses-02_events.dat',\n",
       " '/media/linux-pc/8TB/inner-speech/ds003626-download/derivatives/sub-01/ses-02/sub-01_ses-02_exg-epo.fif',\n",
       " '/media/linux-pc/8TB/inner-speech/ds003626-download/derivatives/sub-01/ses-02/sub-01_ses-02_report.pkl',\n",
       " '/media/linux-pc/8TB/inner-speech/ds003626-download/derivatives/sub-01/ses-03/sub-01_ses-03_baseline-epo.fif',\n",
       " '/media/linux-pc/8TB/inner-speech/ds003626-download/derivatives/sub-01/ses-03/sub-01_ses-03_eeg-epo.fif',\n",
       " '/media/linux-pc/8TB/inner-speech/ds003626-download/derivatives/sub-01/ses-03/sub-01_ses-03_events.dat',\n",
       " '/media/linux-pc/8TB/inner-speech/ds003626-download/derivatives/sub-01/ses-03/sub-01_ses-03_exg-epo.fif',\n",
       " '/media/linux-pc/8TB/inner-speech/ds003626-download/derivatives/sub-01/ses-03/sub-01_ses-03_report.pkl']"
      ]
     },
     "execution_count": 112,
     "metadata": {},
     "output_type": "execute_result"
    }
   ],
   "source": [
    "all_file_l"
   ]
  },
  {
   "cell_type": "code",
   "execution_count": 111,
   "id": "9a951b7e",
   "metadata": {},
   "outputs": [
    {
     "data": {
      "text/plain": [
       "'/media/linux-pc/8TB/inner-speech/ds003626-download/derivatives/sub-01/ses-02/sub-01_ses-02_events.dat'"
      ]
     },
     "execution_count": 111,
     "metadata": {},
     "output_type": "execute_result"
    }
   ],
   "source": [
    "all_file_l[7]"
   ]
  },
  {
   "cell_type": "code",
   "execution_count": 40,
   "id": "6031b7be",
   "metadata": {},
   "outputs": [],
   "source": [
    "eeg_epochs_path = all_file_l[7]"
   ]
  },
  {
   "cell_type": "code",
   "execution_count": 41,
   "id": "9df9625a",
   "metadata": {},
   "outputs": [
    {
     "name": "stdout",
     "output_type": "stream",
     "text": [
      "Reading /media/linux-pc/8TB/inner-speech/ds003626-download/derivatives/sub-01/ses-02/sub-01_ses-02_eeg-epo.fif ...\n",
      "Isotrak not found\n",
      "    Found the data of interest:\n",
      "        t =    -500.00 ...    4000.00 ms\n",
      "        0 CTF compensation matrices available\n",
      "Not setting metadata\n",
      "200 matching events found\n",
      "No baseline correction applied\n",
      "0 projection items activated\n"
     ]
    }
   ],
   "source": [
    "epochs = mne.read_epochs(eeg_epochs_path, preload=True)"
   ]
  },
  {
   "cell_type": "code",
   "execution_count": 42,
   "id": "5e204cff",
   "metadata": {},
   "outputs": [
    {
     "name": "stdout",
     "output_type": "stream",
     "text": [
      "<EpochsFIF | 200 events (all good), -0.5 – 4 s (baseline off), ~225.3 MiB, data loaded,\n",
      " 'Arriba': 50\n",
      " 'Abajo': 50\n",
      " 'Derecha': 50\n",
      " 'Izquierda': 50>\n"
     ]
    }
   ],
   "source": [
    "print(epochs)"
   ]
  },
  {
   "cell_type": "code",
   "execution_count": 43,
   "id": "d82ca7fe",
   "metadata": {},
   "outputs": [
    {
     "data": {
      "text/plain": [
       "{'Arriba': 31, 'Abajo': 32, 'Derecha': 33, 'Izquierda': 34}"
      ]
     },
     "execution_count": 43,
     "metadata": {},
     "output_type": "execute_result"
    }
   ],
   "source": [
    "epochs.event_id"
   ]
  },
  {
   "cell_type": "code",
   "execution_count": 109,
   "id": "54c39628",
   "metadata": {},
   "outputs": [
    {
     "data": {
      "text/plain": [
       "array([[  42418,       0,      31],\n",
       "       [  49056,       0,      33],\n",
       "       [  55763,       0,      31],\n",
       "       [  62146,       0,      34],\n",
       "       [  68836,       0,      34],\n",
       "       [  75424,       0,      34],\n",
       "       [  81806,       0,      33],\n",
       "       [  88462,       0,      32],\n",
       "       [  94930,       0,      32],\n",
       "       [ 101364,       0,      31],\n",
       "       [ 107849,       0,      31],\n",
       "       [ 114300,       0,      32],\n",
       "       [ 120786,       0,      33],\n",
       "       [ 127185,       0,      32],\n",
       "       [ 133892,       0,      34],\n",
       "       [ 140395,       0,      31],\n",
       "       [ 147033,       0,      32],\n",
       "       [ 153774,       0,      33],\n",
       "       [ 160396,       0,      32],\n",
       "       [ 167035,       0,      33],\n",
       "       [ 173622,       0,      34],\n",
       "       [ 180056,       0,      34],\n",
       "       [ 186678,       0,      34],\n",
       "       [ 193505,       0,      31],\n",
       "       [ 200297,       0,      33],\n",
       "       [ 206782,       0,      33],\n",
       "       [ 213250,       0,      32],\n",
       "       [ 219906,       0,      33],\n",
       "       [ 226613,       0,      34],\n",
       "       [ 233218,       0,      31],\n",
       "       [ 239686,       0,      31],\n",
       "       [ 246512,       0,      32],\n",
       "       [ 252929,       0,      33],\n",
       "       [ 259346,       0,      31],\n",
       "       [ 265797,       0,      32],\n",
       "       [ 272282,       0,      31],\n",
       "       [ 278955,       0,      33],\n",
       "       [ 285611,       0,      32],\n",
       "       [ 291993,       0,      34],\n",
       "       [ 298820,       0,      34],\n",
       "       [ 352288,       0,      32],\n",
       "       [ 358739,       0,      32],\n",
       "       [ 365276,       0,      33],\n",
       "       [ 371675,       0,      33],\n",
       "       [ 378297,       0,      34],\n",
       "       [ 384850,       0,      31],\n",
       "       [ 391336,       0,      31],\n",
       "       [ 397838,       0,      33],\n",
       "       [ 404698,       0,      32],\n",
       "       [ 411405,       0,      32],\n",
       "       [ 424905,       0,      34],\n",
       "       [ 431305,       0,      32],\n",
       "       [ 438063,       0,      33],\n",
       "       [ 444821,       0,      31],\n",
       "       [ 451494,       0,      34],\n",
       "       [ 457979,       0,      31],\n",
       "       [ 464652,       0,      31],\n",
       "       [ 471188,       0,      31],\n",
       "       [ 477639,       0,      33],\n",
       "       [ 484107,       0,      32],\n",
       "       [ 490968,       0,      32],\n",
       "       [ 497368,       0,      32],\n",
       "       [ 503853,       0,      34],\n",
       "       [ 510270,       0,      33],\n",
       "       [ 516840,       0,      32],\n",
       "       [ 529111,       0,      33],\n",
       "       [ 535613,       0,      31],\n",
       "       [ 542047,       0,      32],\n",
       "       [ 548583,       0,      33],\n",
       "       [ 555205,       0,      34],\n",
       "       [ 561605,       0,      33],\n",
       "       [ 568483,       0,      34],\n",
       "       [ 575002,       0,      34],\n",
       "       [ 581538,       0,      31],\n",
       "       [ 587955,       0,      34],\n",
       "       [ 594474,       0,      34],\n",
       "       [ 600857,       0,      33],\n",
       "       [ 607462,       0,      34],\n",
       "       [ 614237,       0,      31],\n",
       "       [ 626764,       0,      31],\n",
       "       [ 680232,       0,      32],\n",
       "       [ 686649,       0,      32],\n",
       "       [ 693066,       0,      34],\n",
       "       [ 699756,       0,      32],\n",
       "       [ 706258,       0,      31],\n",
       "       [ 712965,       0,      34],\n",
       "       [ 719723,       0,      33],\n",
       "       [ 726396,       0,      33],\n",
       "       [ 733154,       0,      31],\n",
       "       [ 739639,       0,      31],\n",
       "       [ 753804,       0,      31],\n",
       "       [ 760631,       0,      31],\n",
       "       [ 767048,       0,      34],\n",
       "       [ 773618,       0,      31],\n",
       "       [ 780154,       0,      32],\n",
       "       [ 786878,       0,      33],\n",
       "       [ 793551,       0,      33],\n",
       "       [ 800310,       0,      33],\n",
       "       [ 806846,       0,      32],\n",
       "       [ 813331,       0,      33],\n",
       "       [ 819748,       0,      32],\n",
       "       [ 826523,       0,      33],\n",
       "       [ 832991,       0,      34],\n",
       "       [ 839545,       0,      34],\n",
       "       [ 846200,       0,      31],\n",
       "       [ 858437,       0,      34],\n",
       "       [ 865025,       0,      31],\n",
       "       [ 871476,       0,      31],\n",
       "       [ 878234,       0,      34],\n",
       "       [ 884651,       0,      32],\n",
       "       [ 891170,       0,      33],\n",
       "       [ 897638,       0,      32],\n",
       "       [ 904260,       0,      32],\n",
       "       [ 910676,       0,      31],\n",
       "       [ 917264,       0,      34],\n",
       "       [ 923698,       0,      33],\n",
       "       [ 930132,       0,      34],\n",
       "       [ 936890,       0,      34],\n",
       "       [ 949212,       0,      32],\n",
       "       [ 956090,       0,      33],\n",
       "       [1009541,       0,      34],\n",
       "       [1016026,       0,      31],\n",
       "       [1022494,       0,      32],\n",
       "       [1029304,       0,      31],\n",
       "       [1036028,       0,      34],\n",
       "       [1042683,       0,      33],\n",
       "       [1049134,       0,      31],\n",
       "       [1055620,       0,      34],\n",
       "       [1062037,       0,      32],\n",
       "       [1068897,       0,      34],\n",
       "       [1075621,       0,      31],\n",
       "       [1082260,       0,      33],\n",
       "       [1088796,       0,      34],\n",
       "       [1102398,       0,      33],\n",
       "       [1109293,       0,      34],\n",
       "       [1115761,       0,      33],\n",
       "       [1122263,       0,      34],\n",
       "       [1128833,       0,      33],\n",
       "       [1135233,       0,      33],\n",
       "       [1141957,       0,      32],\n",
       "       [1148545,       0,      31],\n",
       "       [1155423,       0,      31],\n",
       "       [1162010,       0,      33],\n",
       "       [1168700,       0,      34],\n",
       "       [1175151,       0,      33],\n",
       "       [1181722,       0,      31],\n",
       "       [1194026,       0,      32],\n",
       "       [1200853,       0,      33],\n",
       "       [1207406,       0,      32],\n",
       "       [1214113,       0,      32],\n",
       "       [1220632,       0,      31],\n",
       "       [1227288,       0,      32],\n",
       "       [1234098,       0,      32],\n",
       "       [1240770,       0,      33],\n",
       "       [1247324,       0,      34],\n",
       "       [1253860,       0,      32],\n",
       "       [1260448,       0,      31],\n",
       "       [1267018,       0,      32],\n",
       "       [1273555,       0,      31],\n",
       "       [1280193,       0,      34],\n",
       "       [1339942,       0,      32],\n",
       "       [1346427,       0,      31],\n",
       "       [1352810,       0,      33],\n",
       "       [1359671,       0,      34],\n",
       "       [1366360,       0,      33],\n",
       "       [1373221,       0,      31],\n",
       "       [1379672,       0,      32],\n",
       "       [1386516,       0,      31],\n",
       "       [1393325,       0,      31],\n",
       "       [1399998,       0,      34],\n",
       "       [1406620,       0,      33],\n",
       "       [1413105,       0,      34],\n",
       "       [1426997,       0,      31],\n",
       "       [1433396,       0,      34],\n",
       "       [1440172,       0,      32],\n",
       "       [1446913,       0,      32],\n",
       "       [1453671,       0,      31],\n",
       "       [1460395,       0,      34],\n",
       "       [1467000,       0,      32],\n",
       "       [1473536,       0,      34],\n",
       "       [1480311,       0,      33],\n",
       "       [1486865,       0,      34],\n",
       "       [1493674,       0,      32],\n",
       "       [1506388,       0,      31],\n",
       "       [1513010,       0,      33],\n",
       "       [1519717,       0,      33],\n",
       "       [1526578,       0,      32],\n",
       "       [1533182,       0,      33],\n",
       "       [1539582,       0,      31],\n",
       "       [1546392,       0,      34],\n",
       "       [1553099,       0,      33],\n",
       "       [1559652,       0,      32],\n",
       "       [1566530,       0,      33],\n",
       "       [1573015,       0,      31],\n",
       "       [1579722,       0,      32],\n",
       "       [1586412,       0,      32],\n",
       "       [1592982,       0,      34],\n",
       "       [1605953,       0,      34],\n",
       "       [1612557,       0,      33],\n",
       "       [1619025,       0,      31]], dtype=int32)"
      ]
     },
     "execution_count": 109,
     "metadata": {},
     "output_type": "execute_result"
    }
   ],
   "source": [
    "epochs.events"
   ]
  },
  {
   "cell_type": "code",
   "execution_count": null,
   "id": "e4dd8968",
   "metadata": {},
   "outputs": [],
   "source": [
    "epochs = mne.read_epochs(eeg_epochs_path, preload=True)\n",
    "event_map = {v: k for k, v in epochs.event_id.items()}"
   ]
  },
  {
   "cell_type": "code",
   "execution_count": null,
   "id": "0dc64b6c",
   "metadata": {},
   "outputs": [],
   "source": [
    "labels = [event_map[event[-1]] for event in epochs.events]"
   ]
  },
  {
   "cell_type": "code",
   "execution_count": 60,
   "id": "4dcf5201",
   "metadata": {},
   "outputs": [
    {
     "data": {
      "text/plain": [
       "200"
      ]
     },
     "execution_count": 60,
     "metadata": {},
     "output_type": "execute_result"
    }
   ],
   "source": [
    "labels.__len__()"
   ]
  },
  {
   "cell_type": "code",
   "execution_count": 59,
   "id": "e353648b",
   "metadata": {},
   "outputs": [
    {
     "data": {
      "text/plain": [
       "50"
      ]
     },
     "execution_count": 59,
     "metadata": {},
     "output_type": "execute_result"
    }
   ],
   "source": [
    "[label for label in labels if label == \"Arriba\"].__len__()"
   ]
  },
  {
   "cell_type": "code",
   "execution_count": 51,
   "id": "27b45b34",
   "metadata": {},
   "outputs": [],
   "source": [
    "X = epochs.get_data()\n",
    "y = labels"
   ]
  },
  {
   "cell_type": "code",
   "execution_count": 103,
   "id": "58cb00da",
   "metadata": {},
   "outputs": [
    {
     "data": {
      "text/plain": [
       "(200, 128, 1153)"
      ]
     },
     "execution_count": 103,
     "metadata": {},
     "output_type": "execute_result"
    }
   ],
   "source": [
    "X.shape"
   ]
  },
  {
   "cell_type": "code",
   "execution_count": 152,
   "id": "153c24c8",
   "metadata": {},
   "outputs": [
    {
     "data": {
      "text/plain": [
       "(200, 128, 1153)"
      ]
     },
     "execution_count": 152,
     "metadata": {},
     "output_type": "execute_result"
    }
   ],
   "source": [
    "X.shape"
   ]
  },
  {
   "cell_type": "code",
   "execution_count": 107,
   "id": "79457582",
   "metadata": {},
   "outputs": [
    {
     "data": {
      "text/plain": [
       "['Arriba',\n",
       " 'Derecha',\n",
       " 'Arriba',\n",
       " 'Izquierda',\n",
       " 'Izquierda',\n",
       " 'Izquierda',\n",
       " 'Derecha',\n",
       " 'Abajo',\n",
       " 'Abajo',\n",
       " 'Arriba',\n",
       " 'Arriba',\n",
       " 'Abajo',\n",
       " 'Derecha',\n",
       " 'Abajo',\n",
       " 'Izquierda',\n",
       " 'Arriba',\n",
       " 'Abajo',\n",
       " 'Derecha',\n",
       " 'Abajo',\n",
       " 'Derecha',\n",
       " 'Izquierda',\n",
       " 'Izquierda',\n",
       " 'Izquierda',\n",
       " 'Arriba',\n",
       " 'Derecha',\n",
       " 'Derecha',\n",
       " 'Abajo',\n",
       " 'Derecha',\n",
       " 'Izquierda',\n",
       " 'Arriba',\n",
       " 'Arriba',\n",
       " 'Abajo',\n",
       " 'Derecha',\n",
       " 'Arriba',\n",
       " 'Abajo',\n",
       " 'Arriba',\n",
       " 'Derecha',\n",
       " 'Abajo',\n",
       " 'Izquierda',\n",
       " 'Izquierda',\n",
       " 'Abajo',\n",
       " 'Abajo',\n",
       " 'Derecha',\n",
       " 'Derecha',\n",
       " 'Izquierda',\n",
       " 'Arriba',\n",
       " 'Arriba',\n",
       " 'Derecha',\n",
       " 'Abajo',\n",
       " 'Abajo',\n",
       " 'Izquierda',\n",
       " 'Abajo',\n",
       " 'Derecha',\n",
       " 'Arriba',\n",
       " 'Izquierda',\n",
       " 'Arriba',\n",
       " 'Arriba',\n",
       " 'Arriba',\n",
       " 'Derecha',\n",
       " 'Abajo',\n",
       " 'Abajo',\n",
       " 'Abajo',\n",
       " 'Izquierda',\n",
       " 'Derecha',\n",
       " 'Abajo',\n",
       " 'Derecha',\n",
       " 'Arriba',\n",
       " 'Abajo',\n",
       " 'Derecha',\n",
       " 'Izquierda',\n",
       " 'Derecha',\n",
       " 'Izquierda',\n",
       " 'Izquierda',\n",
       " 'Arriba',\n",
       " 'Izquierda',\n",
       " 'Izquierda',\n",
       " 'Derecha',\n",
       " 'Izquierda',\n",
       " 'Arriba',\n",
       " 'Arriba',\n",
       " 'Abajo',\n",
       " 'Abajo',\n",
       " 'Izquierda',\n",
       " 'Abajo',\n",
       " 'Arriba',\n",
       " 'Izquierda',\n",
       " 'Derecha',\n",
       " 'Derecha',\n",
       " 'Arriba',\n",
       " 'Arriba',\n",
       " 'Arriba',\n",
       " 'Arriba',\n",
       " 'Izquierda',\n",
       " 'Arriba',\n",
       " 'Abajo',\n",
       " 'Derecha',\n",
       " 'Derecha',\n",
       " 'Derecha',\n",
       " 'Abajo',\n",
       " 'Derecha',\n",
       " 'Abajo',\n",
       " 'Derecha',\n",
       " 'Izquierda',\n",
       " 'Izquierda',\n",
       " 'Arriba',\n",
       " 'Izquierda',\n",
       " 'Arriba',\n",
       " 'Arriba',\n",
       " 'Izquierda',\n",
       " 'Abajo',\n",
       " 'Derecha',\n",
       " 'Abajo',\n",
       " 'Abajo',\n",
       " 'Arriba',\n",
       " 'Izquierda',\n",
       " 'Derecha',\n",
       " 'Izquierda',\n",
       " 'Izquierda',\n",
       " 'Abajo',\n",
       " 'Derecha',\n",
       " 'Izquierda',\n",
       " 'Arriba',\n",
       " 'Abajo',\n",
       " 'Arriba',\n",
       " 'Izquierda',\n",
       " 'Derecha',\n",
       " 'Arriba',\n",
       " 'Izquierda',\n",
       " 'Abajo',\n",
       " 'Izquierda',\n",
       " 'Arriba',\n",
       " 'Derecha',\n",
       " 'Izquierda',\n",
       " 'Derecha',\n",
       " 'Izquierda',\n",
       " 'Derecha',\n",
       " 'Izquierda',\n",
       " 'Derecha',\n",
       " 'Derecha',\n",
       " 'Abajo',\n",
       " 'Arriba',\n",
       " 'Arriba',\n",
       " 'Derecha',\n",
       " 'Izquierda',\n",
       " 'Derecha',\n",
       " 'Arriba',\n",
       " 'Abajo',\n",
       " 'Derecha',\n",
       " 'Abajo',\n",
       " 'Abajo',\n",
       " 'Arriba',\n",
       " 'Abajo',\n",
       " 'Abajo',\n",
       " 'Derecha',\n",
       " 'Izquierda',\n",
       " 'Abajo',\n",
       " 'Arriba',\n",
       " 'Abajo',\n",
       " 'Arriba',\n",
       " 'Izquierda',\n",
       " 'Abajo',\n",
       " 'Arriba',\n",
       " 'Derecha',\n",
       " 'Izquierda',\n",
       " 'Derecha',\n",
       " 'Arriba',\n",
       " 'Abajo',\n",
       " 'Arriba',\n",
       " 'Arriba',\n",
       " 'Izquierda',\n",
       " 'Derecha',\n",
       " 'Izquierda',\n",
       " 'Arriba',\n",
       " 'Izquierda',\n",
       " 'Abajo',\n",
       " 'Abajo',\n",
       " 'Arriba',\n",
       " 'Izquierda',\n",
       " 'Abajo',\n",
       " 'Izquierda',\n",
       " 'Derecha',\n",
       " 'Izquierda',\n",
       " 'Abajo',\n",
       " 'Arriba',\n",
       " 'Derecha',\n",
       " 'Derecha',\n",
       " 'Abajo',\n",
       " 'Derecha',\n",
       " 'Arriba',\n",
       " 'Izquierda',\n",
       " 'Derecha',\n",
       " 'Abajo',\n",
       " 'Derecha',\n",
       " 'Arriba',\n",
       " 'Abajo',\n",
       " 'Abajo',\n",
       " 'Izquierda',\n",
       " 'Izquierda',\n",
       " 'Derecha',\n",
       " 'Arriba']"
      ]
     },
     "execution_count": 107,
     "metadata": {},
     "output_type": "execute_result"
    }
   ],
   "source": [
    "y"
   ]
  },
  {
   "cell_type": "markdown",
   "id": "79d8a33c",
   "metadata": {},
   "source": [
    "### Subject 1"
   ]
  },
  {
   "cell_type": "code",
   "execution_count": 124,
   "id": "cc08f4a0",
   "metadata": {},
   "outputs": [],
   "source": [
    "subject_1 = sorted(glob(os.path.join(root_dir, \"derivatives\", \"sub-01\", \"**\", \"*.*\"), recursive=True))"
   ]
  },
  {
   "cell_type": "code",
   "execution_count": 138,
   "id": "4535cd55",
   "metadata": {},
   "outputs": [
    {
     "data": {
      "text/plain": [
       "['/media/linux-pc/8TB/inner-speech/ds003626-download/derivatives/sub-01/ses-01/sub-01_ses-01_baseline-epo.fif',\n",
       " '/media/linux-pc/8TB/inner-speech/ds003626-download/derivatives/sub-01/ses-01/sub-01_ses-01_eeg-epo.fif',\n",
       " '/media/linux-pc/8TB/inner-speech/ds003626-download/derivatives/sub-01/ses-01/sub-01_ses-01_events.dat',\n",
       " '/media/linux-pc/8TB/inner-speech/ds003626-download/derivatives/sub-01/ses-01/sub-01_ses-01_exg-epo.fif',\n",
       " '/media/linux-pc/8TB/inner-speech/ds003626-download/derivatives/sub-01/ses-01/sub-01_ses-01_report.pkl',\n",
       " '/media/linux-pc/8TB/inner-speech/ds003626-download/derivatives/sub-01/ses-02/sub-01_ses-02_baseline-epo.fif',\n",
       " '/media/linux-pc/8TB/inner-speech/ds003626-download/derivatives/sub-01/ses-02/sub-01_ses-02_eeg-epo.fif',\n",
       " '/media/linux-pc/8TB/inner-speech/ds003626-download/derivatives/sub-01/ses-02/sub-01_ses-02_events.dat',\n",
       " '/media/linux-pc/8TB/inner-speech/ds003626-download/derivatives/sub-01/ses-02/sub-01_ses-02_exg-epo.fif',\n",
       " '/media/linux-pc/8TB/inner-speech/ds003626-download/derivatives/sub-01/ses-02/sub-01_ses-02_report.pkl',\n",
       " '/media/linux-pc/8TB/inner-speech/ds003626-download/derivatives/sub-01/ses-03/sub-01_ses-03_baseline-epo.fif',\n",
       " '/media/linux-pc/8TB/inner-speech/ds003626-download/derivatives/sub-01/ses-03/sub-01_ses-03_eeg-epo.fif',\n",
       " '/media/linux-pc/8TB/inner-speech/ds003626-download/derivatives/sub-01/ses-03/sub-01_ses-03_events.dat',\n",
       " '/media/linux-pc/8TB/inner-speech/ds003626-download/derivatives/sub-01/ses-03/sub-01_ses-03_exg-epo.fif',\n",
       " '/media/linux-pc/8TB/inner-speech/ds003626-download/derivatives/sub-01/ses-03/sub-01_ses-03_report.pkl']"
      ]
     },
     "execution_count": 138,
     "metadata": {},
     "output_type": "execute_result"
    }
   ],
   "source": [
    "subject_1"
   ]
  },
  {
   "cell_type": "code",
   "execution_count": 126,
   "id": "26365819",
   "metadata": {},
   "outputs": [
    {
     "data": {
      "text/plain": [
       "15"
      ]
     },
     "execution_count": 126,
     "metadata": {},
     "output_type": "execute_result"
    }
   ],
   "source": [
    "subject_1.__len__()"
   ]
  },
  {
   "cell_type": "code",
   "execution_count": 129,
   "id": "05526233",
   "metadata": {},
   "outputs": [
    {
     "data": {
      "text/plain": [
       "['/media/linux-pc/8TB/inner-speech/ds003626-download/derivatives/sub-01/ses-01/sub-01_ses-01_baseline-epo.fif',\n",
       " '/media/linux-pc/8TB/inner-speech/ds003626-download/derivatives/sub-01/ses-01/sub-01_ses-01_eeg-epo.fif',\n",
       " '/media/linux-pc/8TB/inner-speech/ds003626-download/derivatives/sub-01/ses-01/sub-01_ses-01_events.dat',\n",
       " '/media/linux-pc/8TB/inner-speech/ds003626-download/derivatives/sub-01/ses-01/sub-01_ses-01_exg-epo.fif',\n",
       " '/media/linux-pc/8TB/inner-speech/ds003626-download/derivatives/sub-01/ses-01/sub-01_ses-01_report.pkl']"
      ]
     },
     "execution_count": 129,
     "metadata": {},
     "output_type": "execute_result"
    }
   ],
   "source": [
    "subject_1[:5]"
   ]
  },
  {
   "cell_type": "code",
   "execution_count": 127,
   "id": "ca453f45",
   "metadata": {},
   "outputs": [
    {
     "data": {
      "text/plain": [
       "['/media/linux-pc/8TB/inner-speech/ds003626-download/derivatives/sub-01/ses-01/sub-01_ses-01_baseline-epo.fif',\n",
       " '/media/linux-pc/8TB/inner-speech/ds003626-download/derivatives/sub-01/ses-01/sub-01_ses-01_eeg-epo.fif',\n",
       " '/media/linux-pc/8TB/inner-speech/ds003626-download/derivatives/sub-01/ses-01/sub-01_ses-01_events.dat',\n",
       " '/media/linux-pc/8TB/inner-speech/ds003626-download/derivatives/sub-01/ses-01/sub-01_ses-01_exg-epo.fif',\n",
       " '/media/linux-pc/8TB/inner-speech/ds003626-download/derivatives/sub-01/ses-01/sub-01_ses-01_report.pkl']"
      ]
     },
     "execution_count": 127,
     "metadata": {},
     "output_type": "execute_result"
    }
   ],
   "source": [
    "subject_1[:5]"
   ]
  },
  {
   "cell_type": "code",
   "execution_count": 90,
   "id": "d5784dbf",
   "metadata": {},
   "outputs": [
    {
     "name": "stdout",
     "output_type": "stream",
     "text": [
      "Reading /media/linux-pc/8TB/inner-speech/ds003626-download/derivatives/sub-01/ses-01/sub-01_ses-01_eeg-epo.fif ...\n",
      "Isotrak not found\n",
      "    Found the data of interest:\n",
      "        t =    -500.00 ...    4000.00 ms\n",
      "        0 CTF compensation matrices available\n",
      "Not setting metadata\n",
      "200 matching events found\n",
      "No baseline correction applied\n",
      "0 projection items activated\n"
     ]
    }
   ],
   "source": [
    "# Load EEG epochs\n",
    "epochs_eeg = mne.read_epochs(subject_1[1], preload=True)"
   ]
  },
  {
   "cell_type": "code",
   "execution_count": 98,
   "id": "31b20e4e",
   "metadata": {},
   "outputs": [
    {
     "data": {
      "text/html": [
       "<script type=\"text/javascript\">\n",
       "    // must be `var` (not `const`) because this can get embedded multiple times on a page\n",
       "var toggleVisibility = (className) => {\n",
       "\n",
       "    const elements = document.querySelectorAll(`.${className}`);\n",
       "\n",
       "    elements.forEach(element => {\n",
       "        if (element.classList.contains(\"mne-repr-section-header\")) {\n",
       "            return  // Don't collapse the section header row\n",
       "        }\n",
       "        element.classList.toggle(\"mne-repr-collapsed\");\n",
       "    });\n",
       "\n",
       "    // trigger caret to rotate\n",
       "    var sel = `.mne-repr-section-header.${className} > th.mne-repr-section-toggle > button`;\n",
       "    const button = document.querySelector(sel);\n",
       "    button.classList.toggle(\"collapsed\");\n",
       "\n",
       "    // adjust tooltip\n",
       "    sel = `tr.mne-repr-section-header.${className}`;\n",
       "    const secHeadRow = document.querySelector(sel);\n",
       "    secHeadRow.classList.toggle(\"collapsed\");\n",
       "    secHeadRow.title = secHeadRow.title === \"Hide section\" ? \"Show section\" : \"Hide section\";\n",
       "}\n",
       "</script>\n",
       "\n",
       "<style type=\"text/css\">\n",
       "    /*\n",
       "Styles in this section apply both to the sphinx-built website docs and to notebooks\n",
       "rendered in an IDE or in Jupyter. In our web docs, styles here are complemented by\n",
       "doc/_static/styles.css and other CSS files (e.g. from the sphinx theme, sphinx-gallery,\n",
       "or bootstrap). In IDEs/Jupyter, those style files are unavailable, so only the rules in\n",
       "this file apply (plus whatever default styling the IDE applies).\n",
       "*/\n",
       ".mne-repr-table {\n",
       "    display: inline;  /* prevent using full container width */\n",
       "}\n",
       ".mne-repr-table tr.mne-repr-section-header > th {\n",
       "    padding-top: 1rem;\n",
       "    text-align: left;\n",
       "    vertical-align: middle;\n",
       "}\n",
       ".mne-repr-section-toggle > button {\n",
       "    all: unset;\n",
       "    display: block;\n",
       "    height: 1rem;\n",
       "    width: 1rem;\n",
       "}\n",
       ".mne-repr-section-toggle > button > svg {\n",
       "    height: 60%;\n",
       "}\n",
       "\n",
       "/* transition (rotation) effects on the collapser button */\n",
       ".mne-repr-section-toggle > button.collapsed > svg {\n",
       "    transition: 0.1s ease-out;\n",
       "    transform: rotate(-90deg);\n",
       "}\n",
       ".mne-repr-section-toggle > button:not(.collapsed) > svg {\n",
       "    transition: 0.1s ease-out;\n",
       "    transform: rotate(0deg);\n",
       "}\n",
       "\n",
       "/* hide collapsed table rows */\n",
       ".mne-repr-collapsed {\n",
       "    display: none;\n",
       "}\n",
       "\n",
       "\n",
       "@layer {\n",
       "    /*\n",
       "    Selectors in a `@layer` will always be lower-precedence than selectors outside the\n",
       "    layer. So even though e.g. `div.output_html` is present in the sphinx-rendered\n",
       "    website docs, the styles here won't take effect there as long as some other rule\n",
       "    somewhere in the page's CSS targets the same element.\n",
       "\n",
       "    In IDEs or Jupyter notebooks, though, the CSS files from the sphinx theme,\n",
       "    sphinx-gallery, and bootstrap are unavailable, so these styles will apply.\n",
       "\n",
       "    Notes:\n",
       "\n",
       "    - the selector `.accordion-body` is for MNE Reports\n",
       "    - the selector `.output_html` is for VSCode's notebook interface\n",
       "    - the selector `.jp-RenderedHTML` is for Jupyter notebook\n",
       "    - variables starting with `--theme-` are VSCode-specific.\n",
       "    - variables starting with `--jp-` are Jupyter styles, *some of which* are also\n",
       "      available in VSCode. Here we try the `--theme-` variable first, then fall back to\n",
       "      the `--jp-` ones.\n",
       "    */\n",
       "    .mne-repr-table {\n",
       "        --mne-toggle-color: var(--theme-foreground, var(--jp-ui-font-color1));\n",
       "        --mne-button-bg-color: var(--theme-button-background, var(--jp-info-color0, var(--jp-content-link-color)));\n",
       "        --mne-button-fg-color: var(--theme-button-foreground, var(--jp-ui-inverse-font-color0, var(--jp-editor-background)));\n",
       "        --mne-button-hover-bg-color: var(--theme-button-hover-background, var(--jp-info-color1));\n",
       "        --mne-button-radius: var(--jp-border-radius, 0.25rem);\n",
       "    }\n",
       "    /* chevron position/alignment; in VSCode it looks ok without adjusting */\n",
       "    .accordion-body .mne-repr-section-toggle > button,\n",
       "    .jp-RenderedHTML .mne-repr-section-toggle > button {\n",
       "        padding: 0 0 45% 25% !important;\n",
       "    }\n",
       "    /* chevron color; MNE Report doesn't have light/dark mode */\n",
       "    div.output_html .mne-repr-section-toggle > button > svg > path,\n",
       "    .jp-RenderedHTML .mne-repr-section-toggle > button > svg > path {\n",
       "        fill: var(--mne-toggle-color);\n",
       "    }\n",
       "    .accordion-body .mne-ch-names-btn,\n",
       "    div.output_html .mne-ch-names-btn,\n",
       "    .jp-RenderedHTML .mne-ch-names-btn {\n",
       "        -webkit-border-radius: var(--mne-button-radius);\n",
       "        -moz-border-radius: var(--mne-button-radius);\n",
       "        border-radius: var(--mne-button-radius);\n",
       "        border: none;\n",
       "        background-image: none;\n",
       "        background-color: var(--mne-button-bg-color);\n",
       "        color: var(--mne-button-fg-color);\n",
       "        font-size: inherit;\n",
       "        min-width: 1.5rem;\n",
       "        padding: 0.25rem;\n",
       "        text-align: center;\n",
       "        text-decoration: none;\n",
       "    }\n",
       "    .accordion-body .mne-ch-names-btn:hover,\n",
       "    div.output_html .mne.ch-names-btn:hover,\n",
       "    .jp-RenderedHTML .mne-ch-names-btn:hover {\n",
       "        background-color: var(--mne-button-hover-bg-color);\n",
       "        text-decoration: underline;\n",
       "    }\n",
       "    .accordion-body .mne-ch-names-btn:focus-visible,\n",
       "    div.output_html .mne-ch-names-btn:focus-visible,\n",
       "    .jp-RenderedHTML .mne-ch-names-btn:focus-visible {\n",
       "        outline: 0.1875rem solid var(--mne-button-bg-color) !important;\n",
       "        outline-offset: 0.1875rem !important;\n",
       "    }\n",
       "}\n",
       "</style>\n",
       "\n",
       "\n",
       "\n",
       "<table class=\"table mne-repr-table\">\n",
       "    \n",
       "\n",
       "\n",
       "\n",
       "\n",
       "\n",
       "\n",
       "\n",
       "<tr class=\"mne-repr-section-header general-fa168fe5-1d63-4454-856d-b13a09582b77\"\n",
       "     title=\"Hide section\" \n",
       "    onclick=\"toggleVisibility('general-fa168fe5-1d63-4454-856d-b13a09582b77')\">\n",
       "    <th class=\"mne-repr-section-toggle\">\n",
       "        <button >\n",
       "            <svg xmlns=\"http://www.w3.org/2000/svg\" viewBox=\"0 0 512 512\"><!--!Font Awesome Free 6.6.0 by @fontawesome - https://fontawesome.com License - https://fontawesome.com/license/free Copyright 2024 Fonticons, Inc.--><path d=\"M233.4 406.6c12.5 12.5 32.8 12.5 45.3 0l192-192c12.5-12.5 12.5-32.8 0-45.3s-32.8-12.5-45.3 0L256 338.7 86.6 169.4c-12.5-12.5-32.8-12.5-45.3 0s-12.5 32.8 0 45.3l192 192z\"/></svg>\n",
       "        </button>\n",
       "    </th>\n",
       "    <th colspan=\"2\">\n",
       "        <strong>General</strong>\n",
       "    </th>\n",
       "</tr>\n",
       "\n",
       "\n",
       "<tr class=\"repr-element general-fa168fe5-1d63-4454-856d-b13a09582b77 \">\n",
       "    <td class=\"mne-repr-section-toggle\"></td>\n",
       "    <td>Filename(s)</td>\n",
       "    <td>\n",
       "        \n",
       "        sub-01_ses-01_eeg-epo.fif\n",
       "        \n",
       "        \n",
       "    </td>\n",
       "</tr>\n",
       "\n",
       "<tr class=\"repr-element general-fa168fe5-1d63-4454-856d-b13a09582b77 \">\n",
       "    <td class=\"mne-repr-section-toggle\"></td>\n",
       "    <td>MNE object type</td>\n",
       "    <td>EpochsFIF</td>\n",
       "</tr>\n",
       "<tr class=\"repr-element general-fa168fe5-1d63-4454-856d-b13a09582b77 \">\n",
       "    <td class=\"mne-repr-section-toggle\"></td>\n",
       "    <td>Measurement date</td>\n",
       "    \n",
       "    <td>2019-08-20 at 10:57:41 UTC</td>\n",
       "    \n",
       "</tr>\n",
       "<tr class=\"repr-element general-fa168fe5-1d63-4454-856d-b13a09582b77 \">\n",
       "    <td class=\"mne-repr-section-toggle\"></td>\n",
       "    <td>Participant</td>\n",
       "    \n",
       "    <td>Unknown</td>\n",
       "    \n",
       "</tr>\n",
       "<tr class=\"repr-element general-fa168fe5-1d63-4454-856d-b13a09582b77 \">\n",
       "    <td class=\"mne-repr-section-toggle\"></td>\n",
       "    <td>Experimenter</td>\n",
       "    \n",
       "    <td>Unknown</td>\n",
       "    \n",
       "</tr>\n",
       "    \n",
       "\n",
       "\n",
       "\n",
       "\n",
       "\n",
       "\n",
       "\n",
       "<tr class=\"mne-repr-section-header acquisition-7ac07a9e-6811-4e06-bade-2ed72d4a9b71\"\n",
       "     title=\"Hide section\" \n",
       "    onclick=\"toggleVisibility('acquisition-7ac07a9e-6811-4e06-bade-2ed72d4a9b71')\">\n",
       "    <th class=\"mne-repr-section-toggle\">\n",
       "        <button >\n",
       "            <svg xmlns=\"http://www.w3.org/2000/svg\" viewBox=\"0 0 512 512\"><!--!Font Awesome Free 6.6.0 by @fontawesome - https://fontawesome.com License - https://fontawesome.com/license/free Copyright 2024 Fonticons, Inc.--><path d=\"M233.4 406.6c12.5 12.5 32.8 12.5 45.3 0l192-192c12.5-12.5 12.5-32.8 0-45.3s-32.8-12.5-45.3 0L256 338.7 86.6 169.4c-12.5-12.5-32.8-12.5-45.3 0s-12.5 32.8 0 45.3l192 192z\"/></svg>\n",
       "        </button>\n",
       "    </th>\n",
       "    <th colspan=\"2\">\n",
       "        <strong>Acquisition</strong>\n",
       "    </th>\n",
       "</tr>\n",
       "\n",
       "\n",
       "\n",
       "\n",
       "\n",
       "<tr class=\"repr-element acquisition-7ac07a9e-6811-4e06-bade-2ed72d4a9b71 \">\n",
       "    <td class=\"mne-repr-section-toggle\"></td>\n",
       "    <td>Total number of events</td>\n",
       "    <td>200</td>\n",
       "</tr>\n",
       "\n",
       "\n",
       "<tr class=\"repr-element acquisition-7ac07a9e-6811-4e06-bade-2ed72d4a9b71 \">\n",
       "    <td class=\"mne-repr-section-toggle\"></td>\n",
       "    <td>Events counts</td>\n",
       "    \n",
       "    <td>\n",
       "        \n",
       "        Abajo: 50\n",
       "        <br />\n",
       "        \n",
       "        Arriba: 50\n",
       "        <br />\n",
       "        \n",
       "        Derecha: 50\n",
       "        <br />\n",
       "        \n",
       "        Izquierda: 50\n",
       "        \n",
       "        \n",
       "    </td>\n",
       "    \n",
       "</tr>\n",
       "\n",
       "\n",
       "<tr class=\"repr-element acquisition-7ac07a9e-6811-4e06-bade-2ed72d4a9b71 \">\n",
       "    <td class=\"mne-repr-section-toggle\"></td>\n",
       "    <td>Time range</td>\n",
       "    <td>-0.500 – 4.000 s</td>\n",
       "</tr>\n",
       "\n",
       "\n",
       "<tr class=\"repr-element acquisition-7ac07a9e-6811-4e06-bade-2ed72d4a9b71 \">\n",
       "    <td class=\"mne-repr-section-toggle\"></td>\n",
       "    <td>Baseline</td>\n",
       "    <td>off</td>\n",
       "</tr>\n",
       "\n",
       "\n",
       "<tr class=\"repr-element acquisition-7ac07a9e-6811-4e06-bade-2ed72d4a9b71 \">\n",
       "    <td class=\"mne-repr-section-toggle\"></td>\n",
       "    <td>Sampling frequency</td>\n",
       "    <td>256.00 Hz</td>\n",
       "</tr>\n",
       "\n",
       "\n",
       "<tr class=\"repr-element acquisition-7ac07a9e-6811-4e06-bade-2ed72d4a9b71 \">\n",
       "    <td class=\"mne-repr-section-toggle\"></td>\n",
       "    <td>Time points</td>\n",
       "    <td>1,153</td>\n",
       "</tr>\n",
       "\n",
       "\n",
       "<tr class=\"repr-element acquisition-7ac07a9e-6811-4e06-bade-2ed72d4a9b71 \">\n",
       "    <td class=\"mne-repr-section-toggle\"></td>\n",
       "    <td>Metadata</td>\n",
       "    <td>No metadata set</td>\n",
       "</tr>\n",
       "\n",
       "    \n",
       "\n",
       "\n",
       "\n",
       "\n",
       "\n",
       "\n",
       "\n",
       "<tr class=\"mne-repr-section-header channels-07ffba88-2080-440f-9839-af05e6524fdc\"\n",
       "     title=\"Hide section\" \n",
       "    onclick=\"toggleVisibility('channels-07ffba88-2080-440f-9839-af05e6524fdc')\">\n",
       "    <th class=\"mne-repr-section-toggle\">\n",
       "        <button >\n",
       "            <svg xmlns=\"http://www.w3.org/2000/svg\" viewBox=\"0 0 512 512\"><!--!Font Awesome Free 6.6.0 by @fontawesome - https://fontawesome.com License - https://fontawesome.com/license/free Copyright 2024 Fonticons, Inc.--><path d=\"M233.4 406.6c12.5 12.5 32.8 12.5 45.3 0l192-192c12.5-12.5 12.5-32.8 0-45.3s-32.8-12.5-45.3 0L256 338.7 86.6 169.4c-12.5-12.5-32.8-12.5-45.3 0s-12.5 32.8 0 45.3l192 192z\"/></svg>\n",
       "        </button>\n",
       "    </th>\n",
       "    <th colspan=\"2\">\n",
       "        <strong>Channels</strong>\n",
       "    </th>\n",
       "</tr>\n",
       "\n",
       "\n",
       "    \n",
       "<tr class=\"repr-element channels-07ffba88-2080-440f-9839-af05e6524fdc \">\n",
       "    <td class=\"mne-repr-section-toggle\"></td>\n",
       "    <td>EEG</td>\n",
       "    <td>\n",
       "        <button class=\"mne-ch-names-btn sd-sphinx-override sd-btn sd-btn-info sd-text-wrap sd-shadow-sm\" onclick=\"alert('Good EEG:\\n\\nA1, A2, A3, A4, A5, A6, A7, A8, A9, A10, A11, A12, A13, A14, A15, A16, A17, A18, A19, A20, A21, A22, A23, A24, A25, A26, A27, A28, A29, A30, A31, A32, B1, B2, B3, B4, B5, B6, B7, B8, B9, B10, B11, B12, B13, B14, B15, B16, B17, B18, B19, B20, B21, B22, B23, B24, B25, B26, B27, B28, B29, B30, B31, B32, C1, C2, C3, C4, C5, C6, C7, C8, C9, C10, C11, C12, C13, C14, C15, C16, C17, C18, C19, C20, C21, C22, C23, C24, C25, C26, C27, C28, C29, C30, C31, C32, D1, D2, D3, D4, D5, D6, D7, D8, D9, D10, D11, D12, D13, D14, D15, D16, D17, D18, D19, D20, D21, D22, D23, D24, D25, D26, D27, D28, D29, D30, D31, D32')\" title=\"(Click to open in popup)&#13;&#13;A1, A2, A3, A4, A5, A6, A7, A8, A9, A10, A11, A12, A13, A14, A15, A16, A17, A18, A19, A20, A21, A22, A23, A24, A25, A26, A27, A28, A29, A30, A31, A32, B1, B2, B3, B4, B5, B6, B7, B8, B9, B10, B11, B12, B13, B14, B15, B16, B17, B18, B19, B20, B21, B22, B23, B24, B25, B26, B27, B28, B29, B30, B31, B32, C1, C2, C3, C4, C5, C6, C7, C8, C9, C10, C11, C12, C13, C14, C15, C16, C17, C18, C19, C20, C21, C22, C23, C24, C25, C26, C27, C28, C29, C30, C31, C32, D1, D2, D3, D4, D5, D6, D7, D8, D9, D10, D11, D12, D13, D14, D15, D16, D17, D18, D19, D20, D21, D22, D23, D24, D25, D26, D27, D28, D29, D30, D31, D32\">\n",
       "            128\n",
       "        </button>\n",
       "\n",
       "        \n",
       "    </td>\n",
       "</tr>\n",
       "\n",
       "\n",
       "<tr class=\"repr-element channels-07ffba88-2080-440f-9839-af05e6524fdc \">\n",
       "    <td class=\"mne-repr-section-toggle\"></td>\n",
       "    <td>Head & sensor digitization</td>\n",
       "    \n",
       "    <td>Not available</td>\n",
       "    \n",
       "</tr>\n",
       "    \n",
       "\n",
       "\n",
       "\n",
       "\n",
       "\n",
       "\n",
       "\n",
       "<tr class=\"mne-repr-section-header filters-b3d9807b-f843-49d3-90b7-9c9bbf271dd5\"\n",
       "     title=\"Hide section\" \n",
       "    onclick=\"toggleVisibility('filters-b3d9807b-f843-49d3-90b7-9c9bbf271dd5')\">\n",
       "    <th class=\"mne-repr-section-toggle\">\n",
       "        <button >\n",
       "            <svg xmlns=\"http://www.w3.org/2000/svg\" viewBox=\"0 0 512 512\"><!--!Font Awesome Free 6.6.0 by @fontawesome - https://fontawesome.com License - https://fontawesome.com/license/free Copyright 2024 Fonticons, Inc.--><path d=\"M233.4 406.6c12.5 12.5 32.8 12.5 45.3 0l192-192c12.5-12.5 12.5-32.8 0-45.3s-32.8-12.5-45.3 0L256 338.7 86.6 169.4c-12.5-12.5-32.8-12.5-45.3 0s-12.5 32.8 0 45.3l192 192z\"/></svg>\n",
       "        </button>\n",
       "    </th>\n",
       "    <th colspan=\"2\">\n",
       "        <strong>Filters</strong>\n",
       "    </th>\n",
       "</tr>\n",
       "\n",
       "\n",
       "<tr class=\"repr-element filters-b3d9807b-f843-49d3-90b7-9c9bbf271dd5 \">\n",
       "    <td class=\"mne-repr-section-toggle\"></td>\n",
       "    <td>Highpass</td>\n",
       "    <td>0.50 Hz</td>\n",
       "</tr>\n",
       "\n",
       "\n",
       "<tr class=\"repr-element filters-b3d9807b-f843-49d3-90b7-9c9bbf271dd5 \">\n",
       "    <td class=\"mne-repr-section-toggle\"></td>\n",
       "    <td>Lowpass</td>\n",
       "    <td>100.00 Hz</td>\n",
       "</tr>\n",
       "\n",
       "\n",
       "</table>"
      ],
      "text/plain": [
       "<EpochsFIF | 200 events (all good), -0.5 – 4 s (baseline off), ~225.3 MiB, data loaded,\n",
       " 'Arriba': 50\n",
       " 'Abajo': 50\n",
       " 'Derecha': 50\n",
       " 'Izquierda': 50>"
      ]
     },
     "execution_count": 98,
     "metadata": {},
     "output_type": "execute_result"
    }
   ],
   "source": [
    "epochs_eeg"
   ]
  },
  {
   "cell_type": "code",
   "execution_count": 99,
   "id": "39b96c1f",
   "metadata": {},
   "outputs": [
    {
     "data": {
      "text/plain": [
       "(200, 128, 1153)"
      ]
     },
     "execution_count": 99,
     "metadata": {},
     "output_type": "execute_result"
    }
   ],
   "source": [
    "epochs_eeg.get_data().shape"
   ]
  },
  {
   "cell_type": "code",
   "execution_count": null,
   "id": "122fc60f",
   "metadata": {},
   "outputs": [],
   "source": []
  },
  {
   "cell_type": "code",
   "execution_count": null,
   "id": "9236a449",
   "metadata": {},
   "outputs": [],
   "source": [
    "# y-labels: \n",
    "\n",
    "events = np.load(subject_1[2], allow_pickle=True)\n",
    "print(events)"
   ]
  },
  {
   "cell_type": "code",
   "execution_count": 92,
   "id": "43736501",
   "metadata": {},
   "outputs": [
    {
     "data": {
      "text/plain": [
       "['/media/linux-pc/8TB/inner-speech/ds003626-download/derivatives/sub-01/ses-01/sub-01_ses-01_baseline-epo.fif',\n",
       " '/media/linux-pc/8TB/inner-speech/ds003626-download/derivatives/sub-01/ses-01/sub-01_ses-01_eeg-epo.fif',\n",
       " '/media/linux-pc/8TB/inner-speech/ds003626-download/derivatives/sub-01/ses-01/sub-01_ses-01_events.dat',\n",
       " '/media/linux-pc/8TB/inner-speech/ds003626-download/derivatives/sub-01/ses-01/sub-01_ses-01_exg-epo.fif',\n",
       " '/media/linux-pc/8TB/inner-speech/ds003626-download/derivatives/sub-01/ses-01/sub-01_ses-01_report.pkl',\n",
       " '/media/linux-pc/8TB/inner-speech/ds003626-download/derivatives/sub-01/ses-02/sub-01_ses-02_baseline-epo.fif',\n",
       " '/media/linux-pc/8TB/inner-speech/ds003626-download/derivatives/sub-01/ses-02/sub-01_ses-02_eeg-epo.fif',\n",
       " '/media/linux-pc/8TB/inner-speech/ds003626-download/derivatives/sub-01/ses-02/sub-01_ses-02_events.dat',\n",
       " '/media/linux-pc/8TB/inner-speech/ds003626-download/derivatives/sub-01/ses-02/sub-01_ses-02_exg-epo.fif',\n",
       " '/media/linux-pc/8TB/inner-speech/ds003626-download/derivatives/sub-01/ses-02/sub-01_ses-02_report.pkl',\n",
       " '/media/linux-pc/8TB/inner-speech/ds003626-download/derivatives/sub-01/ses-03/sub-01_ses-03_baseline-epo.fif',\n",
       " '/media/linux-pc/8TB/inner-speech/ds003626-download/derivatives/sub-01/ses-03/sub-01_ses-03_eeg-epo.fif',\n",
       " '/media/linux-pc/8TB/inner-speech/ds003626-download/derivatives/sub-01/ses-03/sub-01_ses-03_events.dat',\n",
       " '/media/linux-pc/8TB/inner-speech/ds003626-download/derivatives/sub-01/ses-03/sub-01_ses-03_exg-epo.fif',\n",
       " '/media/linux-pc/8TB/inner-speech/ds003626-download/derivatives/sub-01/ses-03/sub-01_ses-03_report.pkl']"
      ]
     },
     "execution_count": 92,
     "metadata": {},
     "output_type": "execute_result"
    }
   ],
   "source": [
    "subject_1"
   ]
  },
  {
   "cell_type": "code",
   "execution_count": 91,
   "id": "972eca61",
   "metadata": {},
   "outputs": [
    {
     "data": {
      "text/plain": [
       "array([39869,     3,     0,     1])"
      ]
     },
     "execution_count": 91,
     "metadata": {},
     "output_type": "execute_result"
    }
   ],
   "source": [
    "events[0]"
   ]
  },
  {
   "cell_type": "code",
   "execution_count": null,
   "id": "d1203656",
   "metadata": {},
   "outputs": [
    {
     "name": "stdout",
     "output_type": "stream",
     "text": [
      "[[  39869       3       0       1]\n",
      " [  46491       0       0       1]\n",
      " [  53010       3       0       1]\n",
      " [  59649       3       0       1]\n",
      " [  66270       2       0       1]\n",
      " [  73063       1       0       1]\n",
      " [  79838       3       0       1]\n",
      " [  86528       1       0       1]\n",
      " [  93064       3       0       1]\n",
      " [  99823       1       0       1]\n",
      " [ 106461       0       0       1]\n",
      " [ 113015       0       0       1]\n",
      " [ 119824       3       0       1]\n",
      " [ 126651       2       0       1]\n",
      " [ 133289       1       0       1]\n",
      " [ 139996       0       0       1]\n",
      " [ 146669       0       0       1]\n",
      " [ 153154       3       0       1]\n",
      " [ 159691       1       0       1]\n",
      " [ 166295       3       0       1]\n",
      " [ 172815       1       0       1]\n",
      " [ 179641       2       0       1]\n",
      " [ 186109       1       0       1]\n",
      " [ 192612       0       0       1]\n",
      " [ 199080       2       0       1]\n",
      " [ 205582       2       0       1]\n",
      " [ 212169       1       0       1]\n",
      " [ 218723       0       0       1]\n",
      " [ 225583       2       0       1]\n",
      " [ 232154       2       0       1]\n",
      " [ 238605       3       0       1]\n",
      " [ 245431       0       0       1]\n",
      " [ 252309       1       0       1]\n",
      " [ 258914       2       0       1]\n",
      " [ 265348       2       0       1]\n",
      " [ 271833       2       0       1]\n",
      " [ 278420       3       0       1]\n",
      " [ 285110       0       0       1]\n",
      " [ 291630       0       0       1]\n",
      " [ 298303       1       0       1]\n",
      " [ 351788       1       1       1]\n",
      " [ 358546       1       1       1]\n",
      " [ 365390       3       1       1]\n",
      " [ 372216       3       1       1]\n",
      " [ 387985       3       1       1]\n",
      " [ 394471       0       1       1]\n",
      " [ 400870       2       1       1]\n",
      " [ 407629       3       1       1]\n",
      " [ 421964       3       1       1]\n",
      " [ 428808       1       1       1]\n",
      " [ 435481       0       1       1]\n",
      " [ 448707       1       1       1]\n",
      " [ 455482       3       1       1]\n",
      " [ 462138       3       1       1]\n",
      " [ 468606       1       1       1]\n",
      " [ 481969       2       1       1]\n",
      " [ 488352       0       1       1]\n",
      " [ 494956       2       1       1]\n",
      " [ 501407       0       1       1]\n",
      " [ 514582       3       1       1]\n",
      " [ 521204       1       1       1]\n",
      " [ 527826       0       1       1]\n",
      " [ 534243       1       1       1]\n",
      " [ 547059       1       1       1]\n",
      " [ 553459       3       1       1]\n",
      " [ 560098       2       1       1]\n",
      " [ 572812       2       1       1]\n",
      " [ 579588       0       1       1]\n",
      " [ 586312       1       1       1]\n",
      " [ 592763       2       1       1]\n",
      " [ 605289       2       1       1]\n",
      " [ 612150       0       1       1]\n",
      " [ 618857       1       1       1]\n",
      " [ 625666       2       1       1]\n",
      " [ 638500       3       1       1]\n",
      " [ 645309       0       1       1]\n",
      " [ 651726       2       1       1]\n",
      " [ 664321       0       1       1]\n",
      " [ 670892       0       1       1]\n",
      " [ 677667       2       1       1]\n",
      " [ 737211       3       1       1]\n",
      " [ 743764       0       1       1]\n",
      " [ 750352       2       1       1]\n",
      " [ 764431       0       1       1]\n",
      " [ 771241       1       1       1]\n",
      " [ 777931       1       1       1]\n",
      " [ 790884       3       1       1]\n",
      " [ 797472       0       1       1]\n",
      " [ 804093       2       1       1]\n",
      " [ 816296       3       1       1]\n",
      " [ 822764       3       1       1]\n",
      " [ 829334       0       1       1]\n",
      " [ 836007       2       1       1]\n",
      " [ 848295       1       1       1]\n",
      " [ 854985       1       1       1]\n",
      " [ 861521       1       1       1]\n",
      " [ 874286       3       1       1]\n",
      " [ 881045       1       1       1]\n",
      " [ 887564       1       1       1]\n",
      " [ 894220       2       1       1]\n",
      " [ 906354       3       1       1]\n",
      " [ 913180       1       1       1]\n",
      " [ 919973       1       1       1]\n",
      " [ 926458       0       1       1]\n",
      " [ 939138       2       1       1]\n",
      " [ 945708       3       1       1]\n",
      " [ 952228       3       1       1]\n",
      " [ 964567       0       1       1]\n",
      " [ 971171       2       1       1]\n",
      " [ 977588       0       1       1]\n",
      " [ 990166       2       1       1]\n",
      " [ 996890       2       1       1]\n",
      " [1003614       0       1       1]\n",
      " [1016294       0       1       1]\n",
      " [1022711       0       1       1]\n",
      " [1029265       1       1       1]\n",
      " [1041928       2       1       1]\n",
      " [1048532       3       1       1]\n",
      " [1055308       3       1       1]\n",
      " [1062049       2       1       1]\n",
      " [1121166       0       2       1]\n",
      " [1127924       2       2       1]\n",
      " [1134529       1       2       1]\n",
      " [1140929       1       2       1]\n",
      " [1154582       0       2       1]\n",
      " [1161186       0       2       1]\n",
      " [1167637       2       2       1]\n",
      " [1174173       1       2       1]\n",
      " [1186615       0       2       1]\n",
      " [1193339       3       2       1]\n",
      " [1199841       2       2       1]\n",
      " [1212880       2       2       1]\n",
      " [1219655       2       2       1]\n",
      " [1226140       3       2       1]\n",
      " [1238530       0       2       1]\n",
      " [1245169       0       2       1]\n",
      " [1251876       1       2       1]\n",
      " [1264198       2       2       1]\n",
      " [1270870       3       2       1]\n",
      " [1277560       0       2       1]\n",
      " [1290189       3       2       1]\n",
      " [1297033       1       2       1]\n",
      " [1303535       1       2       1]\n",
      " [1310276       3       2       1]\n",
      " [1322786       2       2       1]\n",
      " [1329476       2       2       1]\n",
      " [1336097       1       2       1]\n",
      " [1348829       3       2       1]\n",
      " [1355587       3       2       1]\n",
      " [1362124       0       2       1]\n",
      " [1368830       1       2       1]\n",
      " [1381459       1       2       1]\n",
      " [1388269       3       2       1]\n",
      " [1394771       0       2       1]\n",
      " [1401461       2       2       1]\n",
      " [1414073       3       2       1]\n",
      " [1420899       2       2       1]\n",
      " [1427402       0       2       1]\n",
      " [1433938       1       2       1]\n",
      " [1446157       3       2       1]\n",
      " [1499626       2       2       1]\n",
      " [1506333       2       2       1]\n",
      " [1512869       3       2       1]\n",
      " [1519610       3       2       1]\n",
      " [1533092       2       2       1]\n",
      " [1539851       1       2       1]\n",
      " [1546472       0       2       1]\n",
      " [1552855       3       2       1]\n",
      " [1565262       0       2       1]\n",
      " [1571747       1       2       1]\n",
      " [1578198       3       2       1]\n",
      " [1590947       3       2       1]\n",
      " [1597756       0       2       1]\n",
      " [1604344       3       2       1]\n",
      " [1616973       2       2       1]\n",
      " [1623782       3       2       1]\n",
      " [1630557       3       2       1]\n",
      " [1642862       0       2       1]\n",
      " [1649637       3       2       1]\n",
      " [1656498       1       2       1]\n",
      " [1668973       2       2       1]\n",
      " [1675578       2       2       1]\n",
      " [1682353       2       2       1]\n",
      " [1689095       0       2       1]\n",
      " [1701228       1       2       1]\n",
      " [1708089       2       2       1]\n",
      " [1714728       1       2       1]\n",
      " [1721520       2       2       1]\n",
      " [1734934       1       2       1]\n",
      " [1741402       0       2       1]\n",
      " [1747973       1       2       1]\n",
      " [1760482       0       2       1]\n",
      " [1767240       1       2       1]\n",
      " [1773777       0       2       1]\n",
      " [1780433       0       2       1]\n",
      " [1792515       2       2       1]\n",
      " [1798983       1       2       1]\n",
      " [1805725       3       2       1]\n",
      " [1818234       0       2       1]\n",
      " [1824873       1       2       1]]\n"
     ]
    }
   ],
   "source": [
    "# Sample | Trials Class [0, 1, 2, 3 : \"Arriba\", \"Abajo\", \"Derecha\", \"Izquierda\"] | Trials Condition : Inner Speech == 1 | Trails Session : Use 1 & 2 for all participants"
   ]
  },
  {
   "cell_type": "code",
   "execution_count": 78,
   "id": "62e0b6d6",
   "metadata": {},
   "outputs": [
    {
     "data": {
      "text/plain": [
       "'/media/linux-pc/8TB/inner-speech/ds003626-download/derivatives/sub-01/ses-01/sub-01_ses-01_exg-epo.fif'"
      ]
     },
     "execution_count": 78,
     "metadata": {},
     "output_type": "execute_result"
    }
   ],
   "source": [
    "subject_1[3]"
   ]
  },
  {
   "cell_type": "code",
   "execution_count": 82,
   "id": "c555e950",
   "metadata": {},
   "outputs": [
    {
     "data": {
      "text/plain": [
       "'/media/linux-pc/8TB/inner-speech/ds003626-download/derivatives/sub-01/ses-01/sub-01_ses-01_report.pkl'"
      ]
     },
     "execution_count": 82,
     "metadata": {},
     "output_type": "execute_result"
    }
   ],
   "source": [
    "subject_1[4]"
   ]
  },
  {
   "cell_type": "code",
   "execution_count": 86,
   "id": "ee50b378",
   "metadata": {},
   "outputs": [
    {
     "name": "stdout",
     "output_type": "stream",
     "text": [
      "<class 'dict'>\n"
     ]
    },
    {
     "name": "stderr",
     "output_type": "stream",
     "text": [
      "/tmp/ipykernel_32271/4169800757.py:2: DeprecationWarning: numpy.core.numeric is deprecated and has been renamed to numpy._core.numeric. The numpy._core namespace contains private NumPy internals and its use is discouraged, as NumPy internals can change without warning in any release. In practice, most real-world usage of numpy.core is to access functionality in the public NumPy API. If that is the case, use the public NumPy API. If not, you are using NumPy internals. If you would still like to access an internal attribute, use numpy._core.numeric._frombuffer.\n",
      "  subject_data = pickle.load(f)\n"
     ]
    }
   ],
   "source": [
    "with open(subject_1[4], 'rb') as f:\n",
    "    subject_data = pickle.load(f)\n",
    "print(type(subject_data))"
   ]
  },
  {
   "cell_type": "code",
   "execution_count": 87,
   "id": "43957953",
   "metadata": {},
   "outputs": [
    {
     "data": {
      "text/plain": [
       "{'Age': 56,\n",
       " 'Gender': 'F',\n",
       " 'Recording_time': 1832,\n",
       " 'Ans_R': 43,\n",
       " 'Ans_W': 2,\n",
       " 'EMG_trials': array([ 44.,  55.,  56.,  59., 148., 155.]),\n",
       " 'Power_EXG7': array([1.66555993e-09, 1.78973692e-10, 3.09067948e-11, 4.65290829e-10,\n",
       "        3.16289043e-09, 1.00091801e-09]),\n",
       " 'Power_EXG8': array([1.40977914e-09, 3.52279347e-10, 2.23067212e-10, 5.91289131e-10,\n",
       "        6.02205634e-09, 6.62926101e-10]),\n",
       " 'Baseline_EXG7_mean': np.float64(2.1510271959948184e-10),\n",
       " 'Baseline_EXG8_mean': np.float64(6.148708634155476e-11),\n",
       " 'Baseline_EXG7_std': np.float64(1.5097728063882982e-10),\n",
       " 'Baseline_EXG8_std': np.float64(4.116691114385579e-11)}"
      ]
     },
     "execution_count": 87,
     "metadata": {},
     "output_type": "execute_result"
    }
   ],
   "source": [
    "subject_data"
   ]
  },
  {
   "cell_type": "markdown",
   "id": "02b36982",
   "metadata": {},
   "source": [
    "# Acquiring EEG data for all 10 subjects for X"
   ]
  },
  {
   "cell_type": "code",
   "execution_count": null,
   "id": "870198ae",
   "metadata": {},
   "outputs": [],
   "source": [
    "data_l_epochs = sorted(glob(os.path.join(root_dir, \"derivatives\", \"sub-*\", \"ses-*\", \"sub-*_ses-*_eeg-epo.fif\"), recursive=True))\n",
    "data_l_epochs = [f for f in X_data_l_eeg if \"ses-03\" not in f]\n",
    "epochs = mne.read_epochs(data_l_epochs[0], preload=True)\n",
    "X = epochs.get_data()\n",
    "### Extacting Labels\n",
    "event_map = {v: k for k, v in epochs.event_id.items()}\n",
    "y = [event_map[event[-1]] for event in epochs.events]"
   ]
  },
  {
   "cell_type": "code",
   "execution_count": 170,
   "id": "850f50a9",
   "metadata": {},
   "outputs": [
    {
     "name": "stdout",
     "output_type": "stream",
     "text": [
      "Reading /media/linux-pc/8TB/inner-speech/ds003626-download/derivatives/sub-01/ses-01/sub-01_ses-01_eeg-epo.fif ...\n",
      "Isotrak not found\n",
      "    Found the data of interest:\n",
      "        t =    -500.00 ...    4000.00 ms\n",
      "        0 CTF compensation matrices available\n",
      "Not setting metadata\n",
      "200 matching events found\n",
      "No baseline correction applied\n",
      "0 projection items activated\n",
      "Reading /media/linux-pc/8TB/inner-speech/ds003626-download/derivatives/sub-01/ses-02/sub-01_ses-02_eeg-epo.fif ...\n",
      "Isotrak not found\n",
      "    Found the data of interest:\n",
      "        t =    -500.00 ...    4000.00 ms\n",
      "        0 CTF compensation matrices available\n",
      "Not setting metadata\n",
      "200 matching events found\n",
      "No baseline correction applied\n",
      "0 projection items activated\n",
      "Reading /media/linux-pc/8TB/inner-speech/ds003626-download/derivatives/sub-02/ses-01/sub-02_ses-01_eeg-epo.fif ...\n",
      "Isotrak not found\n",
      "    Found the data of interest:\n",
      "        t =    -500.00 ...    4000.00 ms\n",
      "        0 CTF compensation matrices available\n",
      "Not setting metadata\n",
      "200 matching events found\n",
      "No baseline correction applied\n",
      "0 projection items activated\n",
      "Reading /media/linux-pc/8TB/inner-speech/ds003626-download/derivatives/sub-02/ses-02/sub-02_ses-02_eeg-epo.fif ...\n",
      "Isotrak not found\n",
      "    Found the data of interest:\n",
      "        t =    -500.00 ...    4000.00 ms\n",
      "        0 CTF compensation matrices available\n",
      "Not setting metadata\n",
      "200 matching events found\n",
      "No baseline correction applied\n",
      "0 projection items activated\n",
      "Reading /media/linux-pc/8TB/inner-speech/ds003626-download/derivatives/sub-03/ses-01/sub-03_ses-01_eeg-epo.fif ...\n",
      "Isotrak not found\n",
      "    Found the data of interest:\n",
      "        t =    -500.00 ...    4000.00 ms\n",
      "        0 CTF compensation matrices available\n",
      "Not setting metadata\n",
      "200 matching events found\n",
      "No baseline correction applied\n",
      "0 projection items activated\n",
      "Reading /media/linux-pc/8TB/inner-speech/ds003626-download/derivatives/sub-03/ses-02/sub-03_ses-02_eeg-epo.fif ...\n",
      "Isotrak not found\n",
      "    Found the data of interest:\n",
      "        t =    -500.00 ...    4000.00 ms\n",
      "        0 CTF compensation matrices available\n",
      "Not setting metadata\n",
      "200 matching events found\n",
      "No baseline correction applied\n",
      "0 projection items activated\n",
      "Reading /media/linux-pc/8TB/inner-speech/ds003626-download/derivatives/sub-04/ses-01/sub-04_ses-01_eeg-epo.fif ...\n",
      "Isotrak not found\n",
      "    Found the data of interest:\n",
      "        t =    -500.00 ...    4000.00 ms\n",
      "        0 CTF compensation matrices available\n",
      "Not setting metadata\n",
      "200 matching events found\n",
      "No baseline correction applied\n",
      "0 projection items activated\n",
      "Reading /media/linux-pc/8TB/inner-speech/ds003626-download/derivatives/sub-04/ses-02/sub-04_ses-02_eeg-epo.fif ...\n",
      "Isotrak not found\n",
      "    Found the data of interest:\n",
      "        t =    -500.00 ...    4000.00 ms\n",
      "        0 CTF compensation matrices available\n",
      "Not setting metadata\n",
      "200 matching events found\n",
      "No baseline correction applied\n",
      "0 projection items activated\n",
      "Reading /media/linux-pc/8TB/inner-speech/ds003626-download/derivatives/sub-05/ses-01/sub-05_ses-01_eeg-epo.fif ...\n",
      "Isotrak not found\n",
      "    Found the data of interest:\n",
      "        t =    -500.00 ...    4000.00 ms\n",
      "        0 CTF compensation matrices available\n",
      "Not setting metadata\n",
      "200 matching events found\n",
      "No baseline correction applied\n",
      "0 projection items activated\n",
      "Reading /media/linux-pc/8TB/inner-speech/ds003626-download/derivatives/sub-05/ses-02/sub-05_ses-02_eeg-epo.fif ...\n",
      "Isotrak not found\n",
      "    Found the data of interest:\n",
      "        t =    -500.00 ...    4000.00 ms\n",
      "        0 CTF compensation matrices available\n",
      "Not setting metadata\n",
      "200 matching events found\n",
      "No baseline correction applied\n",
      "0 projection items activated\n",
      "Reading /media/linux-pc/8TB/inner-speech/ds003626-download/derivatives/sub-06/ses-01/sub-06_ses-01_eeg-epo.fif ...\n",
      "Isotrak not found\n",
      "    Found the data of interest:\n",
      "        t =    -500.00 ...    4000.00 ms\n",
      "        0 CTF compensation matrices available\n",
      "Not setting metadata\n",
      "200 matching events found\n",
      "No baseline correction applied\n",
      "0 projection items activated\n",
      "Reading /media/linux-pc/8TB/inner-speech/ds003626-download/derivatives/sub-06/ses-02/sub-06_ses-02_eeg-epo.fif ...\n",
      "Isotrak not found\n",
      "    Found the data of interest:\n",
      "        t =    -500.00 ...    4000.00 ms\n",
      "        0 CTF compensation matrices available\n",
      "Not setting metadata\n",
      "200 matching events found\n",
      "No baseline correction applied\n",
      "0 projection items activated\n",
      "Reading /media/linux-pc/8TB/inner-speech/ds003626-download/derivatives/sub-07/ses-01/sub-07_ses-01_eeg-epo.fif ...\n",
      "Isotrak not found\n",
      "    Found the data of interest:\n",
      "        t =    -500.00 ...    4000.00 ms\n",
      "        0 CTF compensation matrices available\n",
      "Not setting metadata\n",
      "200 matching events found\n",
      "No baseline correction applied\n",
      "0 projection items activated\n",
      "Reading /media/linux-pc/8TB/inner-speech/ds003626-download/derivatives/sub-07/ses-02/sub-07_ses-02_eeg-epo.fif ...\n",
      "Isotrak not found\n",
      "    Found the data of interest:\n",
      "        t =    -500.00 ...    4000.00 ms\n",
      "        0 CTF compensation matrices available\n",
      "Not setting metadata\n",
      "200 matching events found\n",
      "No baseline correction applied\n",
      "0 projection items activated\n",
      "Reading /media/linux-pc/8TB/inner-speech/ds003626-download/derivatives/sub-08/ses-01/sub-08_ses-01_eeg-epo.fif ...\n",
      "Isotrak not found\n",
      "    Found the data of interest:\n",
      "        t =    -500.00 ...    4000.00 ms\n",
      "        0 CTF compensation matrices available\n"
     ]
    },
    {
     "ename": "",
     "evalue": "",
     "output_type": "error",
     "traceback": [
      "\u001b[1;31mThe Kernel crashed while executing code in the current cell or a previous cell. \n",
      "\u001b[1;31mPlease review the code in the cell(s) to identify a possible cause of the failure. \n",
      "\u001b[1;31mClick <a href='https://aka.ms/vscodeJupyterKernelCrash'>here</a> for more info. \n",
      "\u001b[1;31mView Jupyter <a href='command:jupyter.viewOutput'>log</a> for further details."
     ]
    }
   ],
   "source": [
    "import os\n",
    "from glob import glob\n",
    "import mne\n",
    "import numpy as np\n",
    "\n",
    "# Path to your dataset\n",
    "root_dir = \"/media/linux-pc/8TB/inner-speech/ds003626-download\"\n",
    "\n",
    "# 1. Find all .fif files except those in ses-03\n",
    "data_l_epochs = sorted(glob(os.path.join(root_dir, \"derivatives\", \"sub-*\", \"ses-*\", \"sub-*_ses-*_eeg-epo.fif\"), recursive=True))\n",
    "data_l_epochs = [f for f in data_l_epochs if \"ses-03\" not in f]\n",
    "\n",
    "# 2. Initialize containers for all X and y\n",
    "X_all = []\n",
    "y_all = []\n",
    "\n",
    "# 3. Loop over each file, load epochs, extract data and labels\n",
    "for path in data_l_epochs:\n",
    "    epochs = mne.read_epochs(path, preload=True)\n",
    "    X = epochs.get_data()  # shape: (n_epochs, n_channels, n_samples)\n",
    "\n",
    "    # Build label map\n",
    "    event_map = {v: k for k, v in epochs.event_id.items()}\n",
    "    y = [event_map[event[-1]] for event in epochs.events]  # match labels by last event column\n",
    "\n",
    "    # Append to global list\n",
    "    X_all.append(X)\n",
    "    y_all.extend(y)\n",
    "\n",
    "# 4. Stack X into one NumPy array and y into one list (or array)\n",
    "X_all = np.concatenate(X_all, axis=0)\n",
    "y_all = np.array(y_all)\n",
    "\n",
    "# 5. Report\n",
    "print(f\"Total epochs: {X_all.shape[0]}\")\n",
    "print(f\"Shape of X: {X_all.shape}\")  # (total_trials, n_channels, n_samples)\n",
    "print(f\"Number of labels: {len(y_all)}\")\n",
    "print(f\"Example labels: {y_all[:10]}\")\n"
   ]
  }
 ],
 "metadata": {
  "kernelspec": {
   "display_name": "torch",
   "language": "python",
   "name": "python3"
  },
  "language_info": {
   "codemirror_mode": {
    "name": "ipython",
    "version": 3
   },
   "file_extension": ".py",
   "mimetype": "text/x-python",
   "name": "python",
   "nbconvert_exporter": "python",
   "pygments_lexer": "ipython3",
   "version": "3.10.16"
  }
 },
 "nbformat": 4,
 "nbformat_minor": 5
}
